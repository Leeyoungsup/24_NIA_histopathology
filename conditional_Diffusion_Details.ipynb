{
 "cells": [
  {
   "cell_type": "code",
   "execution_count": 1,
   "metadata": {},
   "outputs": [
    {
     "name": "stdout",
     "output_type": "stream",
     "text": [
      "GPUs used:\t8\n",
      "Device:\t\tcuda:6\n"
     ]
    }
   ],
   "source": [
    "import os\n",
    "import torch\n",
    "import argparse\n",
    "import itertools\n",
    "import numpy as np\n",
    "from tqdm import tqdm\n",
    "import torch.optim as optim\n",
    "from torchvision.utils import save_image\n",
    "from torch.nn.parallel import DistributedDataParallel as DDP\n",
    "from torch.distributed import get_rank, init_process_group, destroy_process_group, all_gather, get_world_size\n",
    "from torch import Tensor\n",
    "from torchvision import transforms\n",
    "from torch.utils.data import DataLoader,Dataset\n",
    "from glob import glob\n",
    "from torch.utils.data.distributed import DistributedSampler\n",
    "import random\n",
    "from conditionDiffusion.unet import Unet\n",
    "from conditionDiffusion.embedding import ConditionalEmbedding\n",
    "from conditionDiffusion.utils import get_named_beta_schedule\n",
    "from conditionDiffusion.diffusion import GaussianDiffusion\n",
    "from conditionDiffusion.Scheduler import GradualWarmupScheduler\n",
    "from PIL import Image\n",
    "print(f\"GPUs used:\\t{torch.cuda.device_count()}\")\n",
    "device = torch.device(\"cuda\",6)\n",
    "print(f\"Device:\\t\\t{device}\")\n",
    "import pytorch_model_summary as tms"
   ]
  },
  {
   "cell_type": "code",
   "execution_count": 2,
   "metadata": {},
   "outputs": [],
   "source": [
    "class_list=['유형1','유형2']\n",
    "params={'image_size':512,\n",
    "        'lr':1e-5,\n",
    "        'beta1':0.5,\n",
    "        'beta2':0.999,\n",
    "        'batch_size':4,\n",
    "        'epochs':1000,\n",
    "        'n_classes':None,\n",
    "        'data_path':'../../data/origin_type/BRNT/',\n",
    "        'image_count':5000,\n",
    "        'inch':3,\n",
    "        'modch':64,\n",
    "        'outch':3,\n",
    "        'chmul':[1,2,4,8],\n",
    "        'numres':2,\n",
    "        'dtype':torch.float32,\n",
    "        'cdim':10,\n",
    "        'useconv':False,\n",
    "        'droprate':0.1,\n",
    "        'T':1000,\n",
    "        'w':1.8,\n",
    "        'v':0.3,\n",
    "        'multiplier':2.5,\n",
    "        'threshold':0.1,\n",
    "        'ddim':True,\n",
    "        }\n"
   ]
  },
  {
   "cell_type": "code",
   "execution_count": 3,
   "metadata": {},
   "outputs": [
    {
     "name": "stderr",
     "output_type": "stream",
     "text": [
      "100%|██████████| 2/2 [00:00<00:00, 16.47it/s]\n",
      "100%|██████████| 3722/3722 [02:11<00:00, 28.41it/s]\n"
     ]
    }
   ],
   "source": [
    "trans = transforms.Compose([\n",
    "            transforms.ToTensor(),\n",
    "            transforms.Normalize((0.5, 0.5, 0.5), (0.5, 0.5, 0.5)),\n",
    "        ])\n",
    "\n",
    "def transback(data:Tensor) -> Tensor:\n",
    "    return data / 2 + 0.5\n",
    "\n",
    "class CustomDataset(Dataset):\n",
    "    \"\"\"COCO Custom Dataset compatible with torch.utils.data.DataLoader.\"\"\"\n",
    "    def __init__(self,parmas, images,label):\n",
    "        \n",
    "        self.images = images\n",
    "        self.args=parmas\n",
    "        self.label=label\n",
    "        \n",
    "    def trans(self,image):\n",
    "        if random.random() > 0.5:\n",
    "            transform = transforms.RandomHorizontalFlip(1)\n",
    "            image = transform(image)\n",
    "            \n",
    "        if random.random() > 0.5:\n",
    "            transform = transforms.RandomVerticalFlip(1)\n",
    "            image = transform(image)\n",
    "            \n",
    "        return image\n",
    "    \n",
    "    def __getitem__(self, index):\n",
    "        image=self.images[index]\n",
    "        label=self.label[index]\n",
    "        image = self.trans(image)\n",
    "        return image,label\n",
    "    \n",
    "    def __len__(self):\n",
    "        return len(self.images)\n",
    "\n",
    "\n",
    "image_label=[]\n",
    "image_path=[]\n",
    "for i in tqdm(range(len(class_list))):\n",
    "    image_list=glob(params['data_path']+class_list[i]+'/*.jpeg')\n",
    "    for j in range(len(image_list)):\n",
    "        image_path.append(image_list[j])\n",
    "        image_label.append(i)\n",
    "        \n",
    "train_images=torch.zeros((len(image_path),params['inch'],params['image_size'],params['image_size']))\n",
    "for i in tqdm(range(len(image_path))):\n",
    "    train_images[i]=trans(Image.open(image_path[i]).convert('RGB').resize((params['image_size'],params['image_size'])))\n",
    "train_dataset=CustomDataset(params,train_images,image_label)\n",
    "dataloader=DataLoader(train_dataset,batch_size=params['batch_size'],shuffle=True)"
   ]
  },
  {
   "cell_type": "code",
   "execution_count": 4,
   "metadata": {},
   "outputs": [],
   "source": [
    "net = Unet(in_ch = params['inch'],\n",
    "            mod_ch = params['modch'],\n",
    "            out_ch = params['outch'],\n",
    "            ch_mul = params['chmul'],\n",
    "            num_res_blocks = params['numres'],\n",
    "            cdim = params['cdim'],\n",
    "            use_conv = params['useconv'],\n",
    "            droprate = params['droprate'],\n",
    "            dtype = params['dtype']\n",
    "            ).to(device)\n",
    "cemblayer = ConditionalEmbedding(len(class_list), params['cdim'], params['cdim']).to(device)\n",
    "betas = get_named_beta_schedule(num_diffusion_timesteps = params['T'])\n",
    "diffusion = GaussianDiffusion(\n",
    "                    dtype = params['dtype'],\n",
    "                    model = net,\n",
    "                    betas = betas,\n",
    "                    w = params['w'],\n",
    "                    v = params['v'],\n",
    "                    device = device\n",
    "                )\n",
    "optimizer = torch.optim.AdamW(\n",
    "                itertools.chain(\n",
    "                    diffusion.model.parameters(),\n",
    "                    cemblayer.parameters()\n",
    "                ),\n",
    "                lr = params['lr'],\n",
    "                weight_decay = 1e-4\n",
    "            )\n",
    "\n",
    "cosineScheduler = optim.lr_scheduler.CosineAnnealingLR(\n",
    "                        optimizer = optimizer,\n",
    "                        T_max = params['epochs'],\n",
    "                        eta_min = 0,\n",
    "                        last_epoch = -1\n",
    "                    )\n",
    "warmUpScheduler = GradualWarmupScheduler(\n",
    "                        optimizer = optimizer,\n",
    "                        multiplier = params['multiplier'],\n",
    "                        warm_epoch = params['epochs'] // 10,\n",
    "                        after_scheduler = cosineScheduler,\n",
    "                        last_epoch = 0\n",
    "                    )"
   ]
  },
  {
   "cell_type": "code",
   "execution_count": 5,
   "metadata": {},
   "outputs": [
    {
     "name": "stderr",
     "output_type": "stream",
     "text": [
      "100%|██████████| 931/931 [12:03<00:00,  1.29it/s, epoch=1, loss: =0.213, batch per device: =2, img shape: =torch.Size([3, 512, 512]), LR=1e-5]\n"
     ]
    },
    {
     "name": "stdout",
     "output_type": "stream",
     "text": [
      "Start generating(ddim)...\n"
     ]
    },
    {
     "name": "stderr",
     "output_type": "stream",
     "text": [
      "100%|██████████| 50/50 [01:57<00:00,  2.35s/it]\n"
     ]
    },
    {
     "name": "stdout",
     "output_type": "stream",
     "text": [
      "ending sampling process(ddim)...\n"
     ]
    },
    {
     "name": "stderr",
     "output_type": "stream",
     "text": [
      "100%|██████████| 931/931 [12:01<00:00,  1.29it/s, epoch=2, loss: =0.0792, batch per device: =2, img shape: =torch.Size([3, 512, 512]), LR=1.01e-5]\n",
      "100%|██████████| 931/931 [12:05<00:00,  1.28it/s, epoch=3, loss: =0.0664, batch per device: =2, img shape: =torch.Size([3, 512, 512]), LR=1.03e-5]\n",
      "100%|██████████| 931/931 [12:08<00:00,  1.28it/s, epoch=4, loss: =0.0559, batch per device: =2, img shape: =torch.Size([3, 512, 512]), LR=1.04e-5]\n",
      "100%|██████████| 931/931 [12:04<00:00,  1.29it/s, epoch=5, loss: =0.0537, batch per device: =2, img shape: =torch.Size([3, 512, 512]), LR=1.06e-5]\n",
      "100%|██████████| 931/931 [12:01<00:00,  1.29it/s, epoch=6, loss: =0.0462, batch per device: =2, img shape: =torch.Size([3, 512, 512]), LR=1.08e-5]\n",
      "100%|██████████| 931/931 [12:04<00:00,  1.29it/s, epoch=7, loss: =0.0454, batch per device: =2, img shape: =torch.Size([3, 512, 512]), LR=1.09e-5]\n",
      "100%|██████████| 931/931 [12:05<00:00,  1.28it/s, epoch=8, loss: =0.0444, batch per device: =2, img shape: =torch.Size([3, 512, 512]), LR=1.11e-5]\n",
      "100%|██████████| 931/931 [12:03<00:00,  1.29it/s, epoch=9, loss: =0.0442, batch per device: =2, img shape: =torch.Size([3, 512, 512]), LR=1.12e-5]\n",
      "100%|██████████| 931/931 [12:06<00:00,  1.28it/s, epoch=10, loss: =0.0443, batch per device: =2, img shape: =torch.Size([3, 512, 512]), LR=1.14e-5]\n",
      "100%|██████████| 931/931 [12:04<00:00,  1.29it/s, epoch=11, loss: =0.0414, batch per device: =2, img shape: =torch.Size([3, 512, 512]), LR=1.15e-5]\n",
      "100%|██████████| 931/931 [12:06<00:00,  1.28it/s, epoch=12, loss: =0.0393, batch per device: =2, img shape: =torch.Size([3, 512, 512]), LR=1.17e-5]\n",
      "100%|██████████| 931/931 [12:04<00:00,  1.29it/s, epoch=13, loss: =0.0398, batch per device: =2, img shape: =torch.Size([3, 512, 512]), LR=1.18e-5]\n",
      "100%|██████████| 931/931 [12:08<00:00,  1.28it/s, epoch=14, loss: =0.0402, batch per device: =2, img shape: =torch.Size([3, 512, 512]), LR=1.2e-5]\n",
      "100%|██████████| 931/931 [12:04<00:00,  1.29it/s, epoch=15, loss: =0.038, batch per device: =2, img shape: =torch.Size([3, 512, 512]), LR=1.21e-5] \n",
      "100%|██████████| 931/931 [12:07<00:00,  1.28it/s, epoch=16, loss: =0.0382, batch per device: =2, img shape: =torch.Size([3, 512, 512]), LR=1.23e-5] \n",
      "100%|██████████| 931/931 [12:04<00:00,  1.29it/s, epoch=17, loss: =0.0376, batch per device: =2, img shape: =torch.Size([3, 512, 512]), LR=1.24e-5]\n",
      "100%|██████████| 931/931 [12:06<00:00,  1.28it/s, epoch=18, loss: =0.0395, batch per device: =2, img shape: =torch.Size([3, 512, 512]), LR=1.26e-5]\n",
      "100%|██████████| 931/931 [12:05<00:00,  1.28it/s, epoch=19, loss: =0.0388, batch per device: =2, img shape: =torch.Size([3, 512, 512]), LR=1.27e-5]\n",
      "100%|██████████| 931/931 [12:05<00:00,  1.28it/s, epoch=20, loss: =0.0371, batch per device: =2, img shape: =torch.Size([3, 512, 512]), LR=1.29e-5]\n",
      "100%|██████████| 931/931 [12:05<00:00,  1.28it/s, epoch=21, loss: =0.0362, batch per device: =2, img shape: =torch.Size([3, 512, 512]), LR=1.3e-5]\n"
     ]
    },
    {
     "name": "stdout",
     "output_type": "stream",
     "text": [
      "Start generating(ddim)...\n"
     ]
    },
    {
     "name": "stderr",
     "output_type": "stream",
     "text": [
      "100%|██████████| 50/50 [01:58<00:00,  2.37s/it]\n"
     ]
    },
    {
     "name": "stdout",
     "output_type": "stream",
     "text": [
      "ending sampling process(ddim)...\n"
     ]
    },
    {
     "name": "stderr",
     "output_type": "stream",
     "text": [
      "100%|██████████| 931/931 [12:05<00:00,  1.28it/s, epoch=22, loss: =0.0362, batch per device: =2, img shape: =torch.Size([3, 512, 512]), LR=1.32e-5]\n",
      "100%|██████████| 931/931 [12:05<00:00,  1.28it/s, epoch=23, loss: =0.0373, batch per device: =2, img shape: =torch.Size([3, 512, 512]), LR=1.33e-5]\n",
      "100%|██████████| 931/931 [12:06<00:00,  1.28it/s, epoch=24, loss: =0.0377, batch per device: =2, img shape: =torch.Size([3, 512, 512]), LR=1.35e-5]\n",
      "100%|██████████| 931/931 [12:04<00:00,  1.29it/s, epoch=25, loss: =0.0352, batch per device: =2, img shape: =torch.Size([3, 512, 512]), LR=1.36e-5]\n",
      "100%|██████████| 931/931 [12:02<00:00,  1.29it/s, epoch=26, loss: =0.0341, batch per device: =2, img shape: =torch.Size([3, 512, 512]), LR=1.38e-5]\n",
      "100%|██████████| 931/931 [12:04<00:00,  1.28it/s, epoch=27, loss: =0.0379, batch per device: =2, img shape: =torch.Size([3, 512, 512]), LR=1.39e-5] \n",
      "100%|██████████| 931/931 [12:06<00:00,  1.28it/s, epoch=28, loss: =0.0372, batch per device: =2, img shape: =torch.Size([3, 512, 512]), LR=1.41e-5]\n",
      "100%|██████████| 931/931 [12:06<00:00,  1.28it/s, epoch=29, loss: =0.033, batch per device: =2, img shape: =torch.Size([3, 512, 512]), LR=1.42e-5] \n",
      "100%|██████████| 931/931 [12:04<00:00,  1.29it/s, epoch=30, loss: =0.0351, batch per device: =2, img shape: =torch.Size([3, 512, 512]), LR=1.44e-5] \n",
      "100%|██████████| 931/931 [12:03<00:00,  1.29it/s, epoch=31, loss: =0.0366, batch per device: =2, img shape: =torch.Size([3, 512, 512]), LR=1.45e-5]\n",
      "100%|██████████| 931/931 [12:02<00:00,  1.29it/s, epoch=32, loss: =0.0363, batch per device: =2, img shape: =torch.Size([3, 512, 512]), LR=1.47e-5]\n",
      "100%|██████████| 931/931 [12:04<00:00,  1.29it/s, epoch=33, loss: =0.0361, batch per device: =2, img shape: =torch.Size([3, 512, 512]), LR=1.48e-5]\n",
      "100%|██████████| 931/931 [12:05<00:00,  1.28it/s, epoch=34, loss: =0.0356, batch per device: =2, img shape: =torch.Size([3, 512, 512]), LR=1.5e-5]\n",
      "100%|██████████| 931/931 [12:08<00:00,  1.28it/s, epoch=35, loss: =0.0341, batch per device: =2, img shape: =torch.Size([3, 512, 512]), LR=1.51e-5] \n",
      "100%|██████████| 931/931 [12:05<00:00,  1.28it/s, epoch=36, loss: =0.0342, batch per device: =2, img shape: =torch.Size([3, 512, 512]), LR=1.52e-5]\n",
      "100%|██████████| 931/931 [12:04<00:00,  1.28it/s, epoch=37, loss: =0.0378, batch per device: =2, img shape: =torch.Size([3, 512, 512]), LR=1.54e-5]\n",
      "100%|██████████| 931/931 [12:05<00:00,  1.28it/s, epoch=38, loss: =0.0332, batch per device: =2, img shape: =torch.Size([3, 512, 512]), LR=1.56e-5]\n",
      "100%|██████████| 931/931 [12:08<00:00,  1.28it/s, epoch=39, loss: =0.0336, batch per device: =2, img shape: =torch.Size([3, 512, 512]), LR=1.57e-5] \n",
      "100%|██████████| 931/931 [12:06<00:00,  1.28it/s, epoch=40, loss: =0.0347, batch per device: =2, img shape: =torch.Size([3, 512, 512]), LR=1.59e-5]\n",
      "100%|██████████| 931/931 [12:04<00:00,  1.28it/s, epoch=41, loss: =0.0366, batch per device: =2, img shape: =torch.Size([3, 512, 512]), LR=1.6e-5]\n"
     ]
    },
    {
     "name": "stdout",
     "output_type": "stream",
     "text": [
      "Start generating(ddim)...\n"
     ]
    },
    {
     "name": "stderr",
     "output_type": "stream",
     "text": [
      "100%|██████████| 50/50 [02:21<00:00,  2.84s/it]\n"
     ]
    },
    {
     "name": "stdout",
     "output_type": "stream",
     "text": [
      "ending sampling process(ddim)...\n"
     ]
    },
    {
     "name": "stderr",
     "output_type": "stream",
     "text": [
      "100%|██████████| 931/931 [12:02<00:00,  1.29it/s, epoch=42, loss: =0.0339, batch per device: =2, img shape: =torch.Size([3, 512, 512]), LR=1.62e-5]\n",
      "100%|██████████| 931/931 [12:05<00:00,  1.28it/s, epoch=43, loss: =0.033, batch per device: =2, img shape: =torch.Size([3, 512, 512]), LR=1.63e-5] \n",
      "100%|██████████| 931/931 [12:05<00:00,  1.28it/s, epoch=44, loss: =0.0362, batch per device: =2, img shape: =torch.Size([3, 512, 512]), LR=1.65e-5]\n",
      "100%|██████████| 931/931 [12:05<00:00,  1.28it/s, epoch=45, loss: =0.0343, batch per device: =2, img shape: =torch.Size([3, 512, 512]), LR=1.66e-5]\n",
      "100%|██████████| 931/931 [12:05<00:00,  1.28it/s, epoch=46, loss: =0.0335, batch per device: =2, img shape: =torch.Size([3, 512, 512]), LR=1.68e-5] \n",
      "100%|██████████| 931/931 [12:03<00:00,  1.29it/s, epoch=47, loss: =0.0312, batch per device: =2, img shape: =torch.Size([3, 512, 512]), LR=1.69e-5]\n",
      "100%|██████████| 931/931 [12:06<00:00,  1.28it/s, epoch=48, loss: =0.0338, batch per device: =2, img shape: =torch.Size([3, 512, 512]), LR=1.71e-5]\n",
      "100%|██████████| 931/931 [12:07<00:00,  1.28it/s, epoch=49, loss: =0.0352, batch per device: =2, img shape: =torch.Size([3, 512, 512]), LR=1.72e-5]\n",
      "100%|██████████| 931/931 [12:04<00:00,  1.28it/s, epoch=50, loss: =0.0336, batch per device: =2, img shape: =torch.Size([3, 512, 512]), LR=1.74e-5]\n",
      "100%|██████████| 931/931 [12:05<00:00,  1.28it/s, epoch=51, loss: =0.0336, batch per device: =2, img shape: =torch.Size([3, 512, 512]), LR=1.75e-5]\n",
      "100%|██████████| 931/931 [12:05<00:00,  1.28it/s, epoch=52, loss: =0.0355, batch per device: =2, img shape: =torch.Size([3, 512, 512]), LR=1.77e-5]\n",
      "100%|██████████| 931/931 [12:06<00:00,  1.28it/s, epoch=53, loss: =0.0319, batch per device: =2, img shape: =torch.Size([3, 512, 512]), LR=1.78e-5]  \n",
      "100%|██████████| 931/931 [12:05<00:00,  1.28it/s, epoch=54, loss: =0.0346, batch per device: =2, img shape: =torch.Size([3, 512, 512]), LR=1.79e-5]\n",
      "100%|██████████| 931/931 [12:05<00:00,  1.28it/s, epoch=55, loss: =0.0336, batch per device: =2, img shape: =torch.Size([3, 512, 512]), LR=1.81e-5]\n",
      "100%|██████████| 931/931 [12:05<00:00,  1.28it/s, epoch=56, loss: =0.0314, batch per device: =2, img shape: =torch.Size([3, 512, 512]), LR=1.82e-5]\n",
      "100%|██████████| 931/931 [12:05<00:00,  1.28it/s, epoch=57, loss: =0.0334, batch per device: =2, img shape: =torch.Size([3, 512, 512]), LR=1.84e-5]\n",
      "100%|██████████| 931/931 [12:03<00:00,  1.29it/s, epoch=58, loss: =0.0334, batch per device: =2, img shape: =torch.Size([3, 512, 512]), LR=1.86e-5] \n",
      "100%|██████████| 931/931 [12:05<00:00,  1.28it/s, epoch=59, loss: =0.0335, batch per device: =2, img shape: =torch.Size([3, 512, 512]), LR=1.87e-5]\n",
      "100%|██████████| 931/931 [12:03<00:00,  1.29it/s, epoch=60, loss: =0.0337, batch per device: =2, img shape: =torch.Size([3, 512, 512]), LR=1.89e-5]\n",
      "100%|██████████| 931/931 [12:02<00:00,  1.29it/s, epoch=61, loss: =0.0328, batch per device: =2, img shape: =torch.Size([3, 512, 512]), LR=1.9e-5]\n"
     ]
    },
    {
     "name": "stdout",
     "output_type": "stream",
     "text": [
      "Start generating(ddim)...\n"
     ]
    },
    {
     "name": "stderr",
     "output_type": "stream",
     "text": [
      "100%|██████████| 50/50 [02:22<00:00,  2.85s/it]\n"
     ]
    },
    {
     "name": "stdout",
     "output_type": "stream",
     "text": [
      "ending sampling process(ddim)...\n"
     ]
    },
    {
     "name": "stderr",
     "output_type": "stream",
     "text": [
      "100%|██████████| 931/931 [11:58<00:00,  1.30it/s, epoch=62, loss: =0.0329, batch per device: =2, img shape: =torch.Size([3, 512, 512]), LR=1.92e-5]\n",
      "100%|██████████| 931/931 [12:01<00:00,  1.29it/s, epoch=63, loss: =0.033, batch per device: =2, img shape: =torch.Size([3, 512, 512]), LR=1.93e-5] \n",
      "100%|██████████| 931/931 [12:02<00:00,  1.29it/s, epoch=64, loss: =0.0322, batch per device: =2, img shape: =torch.Size([3, 512, 512]), LR=1.94e-5]\n",
      "100%|██████████| 931/931 [12:03<00:00,  1.29it/s, epoch=65, loss: =0.0337, batch per device: =2, img shape: =torch.Size([3, 512, 512]), LR=1.96e-5]\n",
      "100%|██████████| 931/931 [12:04<00:00,  1.28it/s, epoch=66, loss: =0.0338, batch per device: =2, img shape: =torch.Size([3, 512, 512]), LR=1.98e-5]\n",
      "100%|██████████| 931/931 [12:03<00:00,  1.29it/s, epoch=67, loss: =0.0317, batch per device: =2, img shape: =torch.Size([3, 512, 512]), LR=1.99e-5] \n",
      "100%|██████████| 931/931 [12:00<00:00,  1.29it/s, epoch=68, loss: =0.0315, batch per device: =2, img shape: =torch.Size([3, 512, 512]), LR=2e-5]\n",
      "100%|██████████| 931/931 [12:05<00:00,  1.28it/s, epoch=69, loss: =0.0319, batch per device: =2, img shape: =torch.Size([3, 512, 512]), LR=2.02e-5] \n",
      "100%|██████████| 931/931 [12:07<00:00,  1.28it/s, epoch=70, loss: =0.0309, batch per device: =2, img shape: =torch.Size([3, 512, 512]), LR=2.04e-5]\n",
      "100%|██████████| 931/931 [12:10<00:00,  1.27it/s, epoch=71, loss: =0.0324, batch per device: =2, img shape: =torch.Size([3, 512, 512]), LR=2.05e-5]\n",
      "100%|██████████| 931/931 [12:10<00:00,  1.27it/s, epoch=72, loss: =0.0319, batch per device: =2, img shape: =torch.Size([3, 512, 512]), LR=2.07e-5]\n",
      "100%|██████████| 931/931 [12:05<00:00,  1.28it/s, epoch=73, loss: =0.0312, batch per device: =2, img shape: =torch.Size([3, 512, 512]), LR=2.08e-5]\n",
      "100%|██████████| 931/931 [12:07<00:00,  1.28it/s, epoch=74, loss: =0.0318, batch per device: =2, img shape: =torch.Size([3, 512, 512]), LR=2.09e-5]\n",
      "100%|██████████| 931/931 [12:08<00:00,  1.28it/s, epoch=75, loss: =0.0316, batch per device: =2, img shape: =torch.Size([3, 512, 512]), LR=2.11e-5]\n",
      "100%|██████████| 931/931 [12:01<00:00,  1.29it/s, epoch=76, loss: =0.0324, batch per device: =2, img shape: =torch.Size([3, 512, 512]), LR=2.13e-5]\n",
      "100%|██████████| 931/931 [12:07<00:00,  1.28it/s, epoch=77, loss: =0.0333, batch per device: =2, img shape: =torch.Size([3, 512, 512]), LR=2.14e-5] \n",
      "100%|██████████| 931/931 [12:08<00:00,  1.28it/s, epoch=78, loss: =0.0336, batch per device: =2, img shape: =torch.Size([3, 512, 512]), LR=2.16e-5]\n",
      "100%|██████████| 931/931 [12:09<00:00,  1.28it/s, epoch=79, loss: =0.0331, batch per device: =2, img shape: =torch.Size([3, 512, 512]), LR=2.17e-5]\n",
      "100%|██████████| 931/931 [12:08<00:00,  1.28it/s, epoch=80, loss: =0.0322, batch per device: =2, img shape: =torch.Size([3, 512, 512]), LR=2.19e-5]\n",
      "100%|██████████| 931/931 [12:06<00:00,  1.28it/s, epoch=81, loss: =0.0317, batch per device: =2, img shape: =torch.Size([3, 512, 512]), LR=2.2e-5]\n"
     ]
    },
    {
     "name": "stdout",
     "output_type": "stream",
     "text": [
      "Start generating(ddim)...\n"
     ]
    },
    {
     "name": "stderr",
     "output_type": "stream",
     "text": [
      "100%|██████████| 50/50 [02:09<00:00,  2.58s/it]\n"
     ]
    },
    {
     "name": "stdout",
     "output_type": "stream",
     "text": [
      "ending sampling process(ddim)...\n"
     ]
    },
    {
     "name": "stderr",
     "output_type": "stream",
     "text": [
      "100%|██████████| 931/931 [12:01<00:00,  1.29it/s, epoch=82, loss: =0.0343, batch per device: =2, img shape: =torch.Size([3, 512, 512]), LR=2.21e-5]\n",
      "100%|██████████| 931/931 [12:07<00:00,  1.28it/s, epoch=83, loss: =0.0313, batch per device: =2, img shape: =torch.Size([3, 512, 512]), LR=2.23e-5]\n",
      "100%|██████████| 931/931 [12:07<00:00,  1.28it/s, epoch=84, loss: =0.032, batch per device: =2, img shape: =torch.Size([3, 512, 512]), LR=2.25e-5] \n",
      "100%|██████████| 931/931 [12:11<00:00,  1.27it/s, epoch=85, loss: =0.0321, batch per device: =2, img shape: =torch.Size([3, 512, 512]), LR=2.26e-5]\n",
      "100%|██████████| 931/931 [12:11<00:00,  1.27it/s, epoch=86, loss: =0.0335, batch per device: =2, img shape: =torch.Size([3, 512, 512]), LR=2.28e-5]\n",
      "100%|██████████| 931/931 [12:12<00:00,  1.27it/s, epoch=87, loss: =0.0331, batch per device: =2, img shape: =torch.Size([3, 512, 512]), LR=2.29e-5]\n",
      "100%|██████████| 931/931 [12:08<00:00,  1.28it/s, epoch=88, loss: =0.0311, batch per device: =2, img shape: =torch.Size([3, 512, 512]), LR=2.3e-5] \n",
      "100%|██████████| 931/931 [12:09<00:00,  1.28it/s, epoch=89, loss: =0.033, batch per device: =2, img shape: =torch.Size([3, 512, 512]), LR=2.32e-5] \n",
      "100%|██████████| 931/931 [12:07<00:00,  1.28it/s, epoch=90, loss: =0.0306, batch per device: =2, img shape: =torch.Size([3, 512, 512]), LR=2.34e-5]\n",
      "100%|██████████| 931/931 [12:09<00:00,  1.28it/s, epoch=91, loss: =0.0309, batch per device: =2, img shape: =torch.Size([3, 512, 512]), LR=2.35e-5]\n",
      "100%|██████████| 931/931 [12:19<00:00,  1.26it/s, epoch=92, loss: =0.0327, batch per device: =2, img shape: =torch.Size([3, 512, 512]), LR=2.37e-5]\n",
      "100%|██████████| 931/931 [12:20<00:00,  1.26it/s, epoch=93, loss: =0.0301, batch per device: =2, img shape: =torch.Size([3, 512, 512]), LR=2.38e-5]\n",
      "100%|██████████| 931/931 [12:04<00:00,  1.28it/s, epoch=94, loss: =0.0321, batch per device: =2, img shape: =torch.Size([3, 512, 512]), LR=2.4e-5]\n",
      "100%|██████████| 931/931 [12:00<00:00,  1.29it/s, epoch=95, loss: =0.031, batch per device: =2, img shape: =torch.Size([3, 512, 512]), LR=2.41e-5] \n",
      "100%|██████████| 931/931 [12:02<00:00,  1.29it/s, epoch=96, loss: =0.0316, batch per device: =2, img shape: =torch.Size([3, 512, 512]), LR=2.42e-5]\n",
      "100%|██████████| 931/931 [12:02<00:00,  1.29it/s, epoch=97, loss: =0.0311, batch per device: =2, img shape: =torch.Size([3, 512, 512]), LR=2.44e-5]\n",
      "100%|██████████| 931/931 [12:02<00:00,  1.29it/s, epoch=98, loss: =0.0311, batch per device: =2, img shape: =torch.Size([3, 512, 512]), LR=2.46e-5]\n",
      "100%|██████████| 931/931 [12:03<00:00,  1.29it/s, epoch=99, loss: =0.0319, batch per device: =2, img shape: =torch.Size([3, 512, 512]), LR=2.47e-5]\n",
      "100%|██████████| 931/931 [12:01<00:00,  1.29it/s, epoch=100, loss: =0.033, batch per device: =2, img shape: =torch.Size([3, 512, 512]), LR=2.49e-5] \n",
      "100%|██████████| 931/931 [12:01<00:00,  1.29it/s, epoch=101, loss: =0.0321, batch per device: =2, img shape: =torch.Size([3, 512, 512]), LR=2.5e-5]\n"
     ]
    },
    {
     "name": "stdout",
     "output_type": "stream",
     "text": [
      "Start generating(ddim)...\n"
     ]
    },
    {
     "name": "stderr",
     "output_type": "stream",
     "text": [
      "100%|██████████| 50/50 [00:58<00:00,  1.18s/it]\n"
     ]
    },
    {
     "name": "stdout",
     "output_type": "stream",
     "text": [
      "ending sampling process(ddim)...\n"
     ]
    },
    {
     "name": "stderr",
     "output_type": "stream",
     "text": [
      "100%|██████████| 931/931 [12:01<00:00,  1.29it/s, epoch=102, loss: =0.0306, batch per device: =2, img shape: =torch.Size([3, 512, 512]), LR=1e-5]\n",
      "100%|██████████| 931/931 [12:02<00:00,  1.29it/s, epoch=103, loss: =0.0308, batch per device: =2, img shape: =torch.Size([3, 512, 512]), LR=1e-5]\n",
      "100%|██████████| 931/931 [12:01<00:00,  1.29it/s, epoch=104, loss: =0.0319, batch per device: =2, img shape: =torch.Size([3, 512, 512]), LR=1e-5]\n",
      "100%|██████████| 931/931 [12:02<00:00,  1.29it/s, epoch=105, loss: =0.0298, batch per device: =2, img shape: =torch.Size([3, 512, 512]), LR=1e-5]\n",
      "100%|██████████| 931/931 [12:02<00:00,  1.29it/s, epoch=106, loss: =0.0345, batch per device: =2, img shape: =torch.Size([3, 512, 512]), LR=1e-5]\n",
      "100%|██████████| 931/931 [12:01<00:00,  1.29it/s, epoch=107, loss: =0.032, batch per device: =2, img shape: =torch.Size([3, 512, 512]), LR=1e-5] \n",
      "100%|██████████| 931/931 [12:00<00:00,  1.29it/s, epoch=108, loss: =0.0308, batch per device: =2, img shape: =torch.Size([3, 512, 512]), LR=1e-5]\n",
      "100%|██████████| 931/931 [12:01<00:00,  1.29it/s, epoch=109, loss: =0.0329, batch per device: =2, img shape: =torch.Size([3, 512, 512]), LR=1e-5]\n",
      "100%|██████████| 931/931 [12:02<00:00,  1.29it/s, epoch=110, loss: =0.0344, batch per device: =2, img shape: =torch.Size([3, 512, 512]), LR=1e-5]\n",
      "100%|██████████| 931/931 [12:01<00:00,  1.29it/s, epoch=111, loss: =0.0301, batch per device: =2, img shape: =torch.Size([3, 512, 512]), LR=1e-5]\n",
      "100%|██████████| 931/931 [12:01<00:00,  1.29it/s, epoch=112, loss: =0.0311, batch per device: =2, img shape: =torch.Size([3, 512, 512]), LR=1e-5]\n",
      "100%|██████████| 931/931 [12:01<00:00,  1.29it/s, epoch=113, loss: =0.031, batch per device: =2, img shape: =torch.Size([3, 512, 512]), LR=1e-5] \n",
      "100%|██████████| 931/931 [12:00<00:00,  1.29it/s, epoch=114, loss: =0.032, batch per device: =2, img shape: =torch.Size([3, 512, 512]), LR=1e-5] \n",
      "100%|██████████| 931/931 [12:01<00:00,  1.29it/s, epoch=115, loss: =0.0324, batch per device: =2, img shape: =torch.Size([3, 512, 512]), LR=1e-5]\n",
      "100%|██████████| 931/931 [12:01<00:00,  1.29it/s, epoch=116, loss: =0.0323, batch per device: =2, img shape: =torch.Size([3, 512, 512]), LR=1e-5]\n",
      "100%|██████████| 931/931 [12:01<00:00,  1.29it/s, epoch=117, loss: =0.0306, batch per device: =2, img shape: =torch.Size([3, 512, 512]), LR=9.99e-6]\n",
      "100%|██████████| 931/931 [12:00<00:00,  1.29it/s, epoch=118, loss: =0.0313, batch per device: =2, img shape: =torch.Size([3, 512, 512]), LR=9.99e-6]\n",
      "100%|██████████| 931/931 [12:01<00:00,  1.29it/s, epoch=119, loss: =0.0327, batch per device: =2, img shape: =torch.Size([3, 512, 512]), LR=9.99e-6]\n",
      "100%|██████████| 931/931 [12:01<00:00,  1.29it/s, epoch=120, loss: =0.0321, batch per device: =2, img shape: =torch.Size([3, 512, 512]), LR=9.99e-6]\n",
      "100%|██████████| 931/931 [12:00<00:00,  1.29it/s, epoch=121, loss: =0.0305, batch per device: =2, img shape: =torch.Size([3, 512, 512]), LR=9.99e-6]\n"
     ]
    },
    {
     "name": "stdout",
     "output_type": "stream",
     "text": [
      "Start generating(ddim)...\n"
     ]
    },
    {
     "name": "stderr",
     "output_type": "stream",
     "text": [
      "100%|██████████| 50/50 [00:59<00:00,  1.19s/it]\n"
     ]
    },
    {
     "name": "stdout",
     "output_type": "stream",
     "text": [
      "ending sampling process(ddim)...\n"
     ]
    },
    {
     "name": "stderr",
     "output_type": "stream",
     "text": [
      "100%|██████████| 931/931 [11:59<00:00,  1.29it/s, epoch=122, loss: =0.0316, batch per device: =2, img shape: =torch.Size([3, 512, 512]), LR=9.99e-6]\n",
      "100%|██████████| 931/931 [11:59<00:00,  1.29it/s, epoch=123, loss: =0.0312, batch per device: =2, img shape: =torch.Size([3, 512, 512]), LR=9.99e-6]\n",
      "100%|██████████| 931/931 [11:59<00:00,  1.29it/s, epoch=124, loss: =0.0322, batch per device: =2, img shape: =torch.Size([3, 512, 512]), LR=9.99e-6]\n",
      "100%|██████████| 931/931 [12:00<00:00,  1.29it/s, epoch=125, loss: =0.0313, batch per device: =2, img shape: =torch.Size([3, 512, 512]), LR=9.99e-6]\n",
      "100%|██████████| 931/931 [12:00<00:00,  1.29it/s, epoch=126, loss: =0.0312, batch per device: =2, img shape: =torch.Size([3, 512, 512]), LR=9.99e-6]\n",
      "100%|██████████| 931/931 [12:00<00:00,  1.29it/s, epoch=127, loss: =0.0305, batch per device: =2, img shape: =torch.Size([3, 512, 512]), LR=9.98e-6]\n",
      "100%|██████████| 931/931 [11:59<00:00,  1.29it/s, epoch=128, loss: =0.0316, batch per device: =2, img shape: =torch.Size([3, 512, 512]), LR=9.98e-6]\n",
      "100%|██████████| 931/931 [11:59<00:00,  1.29it/s, epoch=129, loss: =0.0304, batch per device: =2, img shape: =torch.Size([3, 512, 512]), LR=9.98e-6]\n",
      "100%|██████████| 931/931 [12:00<00:00,  1.29it/s, epoch=130, loss: =0.0316, batch per device: =2, img shape: =torch.Size([3, 512, 512]), LR=9.98e-6]\n",
      "100%|██████████| 931/931 [11:59<00:00,  1.29it/s, epoch=131, loss: =0.0316, batch per device: =2, img shape: =torch.Size([3, 512, 512]), LR=9.98e-6]\n",
      "100%|██████████| 931/931 [12:00<00:00,  1.29it/s, epoch=132, loss: =0.03, batch per device: =2, img shape: =torch.Size([3, 512, 512]), LR=9.98e-6]  \n",
      "100%|██████████| 931/931 [11:58<00:00,  1.30it/s, epoch=133, loss: =0.0299, batch per device: =2, img shape: =torch.Size([3, 512, 512]), LR=9.98e-6]\n",
      "100%|██████████| 931/931 [11:59<00:00,  1.29it/s, epoch=134, loss: =0.0316, batch per device: =2, img shape: =torch.Size([3, 512, 512]), LR=9.97e-6]\n",
      "100%|██████████| 931/931 [11:59<00:00,  1.29it/s, epoch=135, loss: =0.0297, batch per device: =2, img shape: =torch.Size([3, 512, 512]), LR=9.97e-6]\n",
      "100%|██████████| 931/931 [11:58<00:00,  1.30it/s, epoch=136, loss: =0.0324, batch per device: =2, img shape: =torch.Size([3, 512, 512]), LR=9.97e-6]\n",
      "100%|██████████| 931/931 [12:00<00:00,  1.29it/s, epoch=137, loss: =0.031, batch per device: =2, img shape: =torch.Size([3, 512, 512]), LR=9.97e-6] \n",
      "100%|██████████| 931/931 [12:00<00:00,  1.29it/s, epoch=138, loss: =0.0299, batch per device: =2, img shape: =torch.Size([3, 512, 512]), LR=9.97e-6]\n",
      "100%|██████████| 931/931 [11:59<00:00,  1.29it/s, epoch=139, loss: =0.029, batch per device: =2, img shape: =torch.Size([3, 512, 512]), LR=9.97e-6] \n",
      "100%|██████████| 931/931 [12:00<00:00,  1.29it/s, epoch=140, loss: =0.0328, batch per device: =2, img shape: =torch.Size([3, 512, 512]), LR=9.96e-6]\n",
      "100%|██████████| 931/931 [12:01<00:00,  1.29it/s, epoch=141, loss: =0.0324, batch per device: =2, img shape: =torch.Size([3, 512, 512]), LR=9.96e-6]\n"
     ]
    },
    {
     "name": "stdout",
     "output_type": "stream",
     "text": [
      "Start generating(ddim)...\n"
     ]
    },
    {
     "name": "stderr",
     "output_type": "stream",
     "text": [
      "100%|██████████| 50/50 [00:59<00:00,  1.19s/it]\n"
     ]
    },
    {
     "name": "stdout",
     "output_type": "stream",
     "text": [
      "ending sampling process(ddim)...\n"
     ]
    },
    {
     "name": "stderr",
     "output_type": "stream",
     "text": [
      "100%|██████████| 931/931 [11:59<00:00,  1.29it/s, epoch=142, loss: =0.0302, batch per device: =2, img shape: =torch.Size([3, 512, 512]), LR=9.96e-6]\n",
      "100%|██████████| 931/931 [11:59<00:00,  1.29it/s, epoch=143, loss: =0.0315, batch per device: =2, img shape: =torch.Size([3, 512, 512]), LR=9.96e-6]\n",
      "100%|██████████| 931/931 [11:59<00:00,  1.29it/s, epoch=144, loss: =0.0313, batch per device: =2, img shape: =torch.Size([3, 512, 512]), LR=9.96e-6]\n",
      "100%|██████████| 931/931 [11:59<00:00,  1.29it/s, epoch=145, loss: =0.0297, batch per device: =2, img shape: =torch.Size([3, 512, 512]), LR=9.95e-6]\n",
      "100%|██████████| 931/931 [11:59<00:00,  1.29it/s, epoch=146, loss: =0.0307, batch per device: =2, img shape: =torch.Size([3, 512, 512]), LR=9.95e-6]\n",
      "100%|██████████| 931/931 [12:00<00:00,  1.29it/s, epoch=147, loss: =0.0312, batch per device: =2, img shape: =torch.Size([3, 512, 512]), LR=9.95e-6]\n",
      "100%|██████████| 931/931 [11:58<00:00,  1.30it/s, epoch=148, loss: =0.0316, batch per device: =2, img shape: =torch.Size([3, 512, 512]), LR=9.95e-6]\n",
      "100%|██████████| 931/931 [12:00<00:00,  1.29it/s, epoch=149, loss: =0.0298, batch per device: =2, img shape: =torch.Size([3, 512, 512]), LR=9.95e-6]\n",
      "100%|██████████| 931/931 [11:59<00:00,  1.29it/s, epoch=150, loss: =0.0305, batch per device: =2, img shape: =torch.Size([3, 512, 512]), LR=9.94e-6]\n",
      "100%|██████████| 931/931 [11:59<00:00,  1.29it/s, epoch=151, loss: =0.0308, batch per device: =2, img shape: =torch.Size([3, 512, 512]), LR=9.94e-6]\n",
      "100%|██████████| 931/931 [11:59<00:00,  1.29it/s, epoch=152, loss: =0.0323, batch per device: =2, img shape: =torch.Size([3, 512, 512]), LR=9.94e-6]\n",
      "100%|██████████| 931/931 [12:01<00:00,  1.29it/s, epoch=153, loss: =0.0309, batch per device: =2, img shape: =torch.Size([3, 512, 512]), LR=9.94e-6]\n",
      "100%|██████████| 931/931 [11:58<00:00,  1.30it/s, epoch=154, loss: =0.0311, batch per device: =2, img shape: =torch.Size([3, 512, 512]), LR=9.93e-6]\n",
      "100%|██████████| 931/931 [11:59<00:00,  1.29it/s, epoch=155, loss: =0.032, batch per device: =2, img shape: =torch.Size([3, 512, 512]), LR=9.93e-6] \n",
      "100%|██████████| 931/931 [11:58<00:00,  1.29it/s, epoch=156, loss: =0.0321, batch per device: =2, img shape: =torch.Size([3, 512, 512]), LR=9.93e-6]\n",
      "100%|██████████| 931/931 [12:00<00:00,  1.29it/s, epoch=157, loss: =0.0313, batch per device: =2, img shape: =torch.Size([3, 512, 512]), LR=9.93e-6]\n",
      "100%|██████████| 931/931 [11:58<00:00,  1.30it/s, epoch=158, loss: =0.0304, batch per device: =2, img shape: =torch.Size([3, 512, 512]), LR=9.92e-6]\n",
      "100%|██████████| 931/931 [12:00<00:00,  1.29it/s, epoch=159, loss: =0.0322, batch per device: =2, img shape: =torch.Size([3, 512, 512]), LR=9.92e-6]\n",
      "100%|██████████| 931/931 [11:59<00:00,  1.29it/s, epoch=160, loss: =0.0314, batch per device: =2, img shape: =torch.Size([3, 512, 512]), LR=9.92e-6]\n",
      "100%|██████████| 931/931 [11:59<00:00,  1.29it/s, epoch=161, loss: =0.0322, batch per device: =2, img shape: =torch.Size([3, 512, 512]), LR=9.91e-6]\n"
     ]
    },
    {
     "name": "stdout",
     "output_type": "stream",
     "text": [
      "Start generating(ddim)...\n"
     ]
    },
    {
     "name": "stderr",
     "output_type": "stream",
     "text": [
      "100%|██████████| 50/50 [00:56<00:00,  1.14s/it]\n"
     ]
    },
    {
     "name": "stdout",
     "output_type": "stream",
     "text": [
      "ending sampling process(ddim)...\n"
     ]
    },
    {
     "name": "stderr",
     "output_type": "stream",
     "text": [
      "100%|██████████| 931/931 [12:00<00:00,  1.29it/s, epoch=162, loss: =0.0304, batch per device: =2, img shape: =torch.Size([3, 512, 512]), LR=9.91e-6]\n",
      "100%|██████████| 931/931 [11:57<00:00,  1.30it/s, epoch=163, loss: =0.0305, batch per device: =2, img shape: =torch.Size([3, 512, 512]), LR=9.91e-6]\n",
      "100%|██████████| 931/931 [11:59<00:00,  1.29it/s, epoch=164, loss: =0.0302, batch per device: =2, img shape: =torch.Size([3, 512, 512]), LR=9.91e-6]\n",
      "100%|██████████| 931/931 [12:00<00:00,  1.29it/s, epoch=165, loss: =0.0303, batch per device: =2, img shape: =torch.Size([3, 512, 512]), LR=9.9e-6]\n",
      "100%|██████████| 931/931 [12:02<00:00,  1.29it/s, epoch=166, loss: =0.03, batch per device: =2, img shape: =torch.Size([3, 512, 512]), LR=9.9e-6]  \n",
      "100%|██████████| 931/931 [11:58<00:00,  1.29it/s, epoch=167, loss: =0.0318, batch per device: =2, img shape: =torch.Size([3, 512, 512]), LR=9.9e-6]\n",
      "100%|██████████| 931/931 [11:59<00:00,  1.29it/s, epoch=168, loss: =0.0316, batch per device: =2, img shape: =torch.Size([3, 512, 512]), LR=9.89e-6]\n",
      "100%|██████████| 931/931 [11:59<00:00,  1.29it/s, epoch=169, loss: =0.0302, batch per device: =2, img shape: =torch.Size([3, 512, 512]), LR=9.89e-6]\n",
      "100%|██████████| 931/931 [12:00<00:00,  1.29it/s, epoch=170, loss: =0.0307, batch per device: =2, img shape: =torch.Size([3, 512, 512]), LR=9.89e-6]\n",
      "100%|██████████| 931/931 [11:59<00:00,  1.29it/s, epoch=171, loss: =0.0297, batch per device: =2, img shape: =torch.Size([3, 512, 512]), LR=9.88e-6]\n",
      "100%|██████████| 931/931 [11:57<00:00,  1.30it/s, epoch=172, loss: =0.0313, batch per device: =2, img shape: =torch.Size([3, 512, 512]), LR=9.88e-6]\n",
      "100%|██████████| 931/931 [11:59<00:00,  1.29it/s, epoch=173, loss: =0.0303, batch per device: =2, img shape: =torch.Size([3, 512, 512]), LR=9.88e-6]\n",
      "100%|██████████| 931/931 [11:58<00:00,  1.30it/s, epoch=174, loss: =0.0299, batch per device: =2, img shape: =torch.Size([3, 512, 512]), LR=9.87e-6]\n",
      "100%|██████████| 931/931 [12:00<00:00,  1.29it/s, epoch=175, loss: =0.0296, batch per device: =2, img shape: =torch.Size([3, 512, 512]), LR=9.87e-6]\n",
      "100%|██████████| 931/931 [12:07<00:00,  1.28it/s, epoch=176, loss: =0.0298, batch per device: =2, img shape: =torch.Size([3, 512, 512]), LR=9.87e-6]\n",
      "100%|██████████| 931/931 [11:59<00:00,  1.29it/s, epoch=177, loss: =0.0323, batch per device: =2, img shape: =torch.Size([3, 512, 512]), LR=9.86e-6]\n",
      "100%|██████████| 931/931 [11:57<00:00,  1.30it/s, epoch=178, loss: =0.0322, batch per device: =2, img shape: =torch.Size([3, 512, 512]), LR=9.86e-6]\n",
      "100%|██████████| 931/931 [11:59<00:00,  1.29it/s, epoch=179, loss: =0.0305, batch per device: =2, img shape: =torch.Size([3, 512, 512]), LR=9.85e-6]\n",
      "100%|██████████| 931/931 [11:58<00:00,  1.29it/s, epoch=180, loss: =0.0302, batch per device: =2, img shape: =torch.Size([3, 512, 512]), LR=9.85e-6]\n",
      "100%|██████████| 931/931 [12:04<00:00,  1.29it/s, epoch=181, loss: =0.0316, batch per device: =2, img shape: =torch.Size([3, 512, 512]), LR=9.85e-6]\n"
     ]
    },
    {
     "name": "stdout",
     "output_type": "stream",
     "text": [
      "Start generating(ddim)...\n"
     ]
    },
    {
     "name": "stderr",
     "output_type": "stream",
     "text": [
      "100%|██████████| 50/50 [01:03<00:00,  1.26s/it]\n"
     ]
    },
    {
     "name": "stdout",
     "output_type": "stream",
     "text": [
      "ending sampling process(ddim)...\n"
     ]
    },
    {
     "name": "stderr",
     "output_type": "stream",
     "text": [
      "100%|██████████| 931/931 [12:06<00:00,  1.28it/s, epoch=182, loss: =0.0311, batch per device: =2, img shape: =torch.Size([3, 512, 512]), LR=9.84e-6]\n",
      "100%|██████████| 931/931 [12:09<00:00,  1.28it/s, epoch=183, loss: =0.0325, batch per device: =2, img shape: =torch.Size([3, 512, 512]), LR=9.84e-6]\n",
      "100%|██████████| 931/931 [12:20<00:00,  1.26it/s, epoch=184, loss: =0.0321, batch per device: =2, img shape: =torch.Size([3, 512, 512]), LR=9.84e-6]\n",
      " 59%|█████▉    | 549/931 [07:05<04:56,  1.29it/s, epoch=185, loss: =0.0299, batch per device: =4, img shape: =torch.Size([3, 512, 512]), LR=9.83e-6]\n"
     ]
    },
    {
     "ename": "KeyboardInterrupt",
     "evalue": "",
     "output_type": "error",
     "traceback": [
      "\u001b[0;31m---------------------------------------------------------------------------\u001b[0m",
      "\u001b[0;31mKeyboardInterrupt\u001b[0m                         Traceback (most recent call last)",
      "Cell \u001b[0;32mIn[5], line 15\u001b[0m\n\u001b[1;32m     13\u001b[0m cemb[np\u001b[39m.\u001b[39mwhere(np\u001b[39m.\u001b[39mrandom\u001b[39m.\u001b[39mrand(b)\u001b[39m<\u001b[39mparams[\u001b[39m'\u001b[39m\u001b[39mthreshold\u001b[39m\u001b[39m'\u001b[39m])] \u001b[39m=\u001b[39m \u001b[39m0\u001b[39m\n\u001b[1;32m     14\u001b[0m loss \u001b[39m=\u001b[39m diffusion\u001b[39m.\u001b[39mtrainloss(x_0, cemb \u001b[39m=\u001b[39m cemb)\n\u001b[0;32m---> 15\u001b[0m loss\u001b[39m.\u001b[39;49mbackward()\n\u001b[1;32m     16\u001b[0m optimizer\u001b[39m.\u001b[39mstep()\n\u001b[1;32m     17\u001b[0m steps\u001b[39m+\u001b[39m\u001b[39m=\u001b[39m\u001b[39m1\u001b[39m\n",
      "File \u001b[0;32m~/anaconda3/envs/LeeYS/lib/python3.9/site-packages/torch/_tensor.py:492\u001b[0m, in \u001b[0;36mTensor.backward\u001b[0;34m(self, gradient, retain_graph, create_graph, inputs)\u001b[0m\n\u001b[1;32m    482\u001b[0m \u001b[39mif\u001b[39;00m has_torch_function_unary(\u001b[39mself\u001b[39m):\n\u001b[1;32m    483\u001b[0m     \u001b[39mreturn\u001b[39;00m handle_torch_function(\n\u001b[1;32m    484\u001b[0m         Tensor\u001b[39m.\u001b[39mbackward,\n\u001b[1;32m    485\u001b[0m         (\u001b[39mself\u001b[39m,),\n\u001b[0;32m   (...)\u001b[0m\n\u001b[1;32m    490\u001b[0m         inputs\u001b[39m=\u001b[39minputs,\n\u001b[1;32m    491\u001b[0m     )\n\u001b[0;32m--> 492\u001b[0m torch\u001b[39m.\u001b[39;49mautograd\u001b[39m.\u001b[39;49mbackward(\n\u001b[1;32m    493\u001b[0m     \u001b[39mself\u001b[39;49m, gradient, retain_graph, create_graph, inputs\u001b[39m=\u001b[39;49minputs\n\u001b[1;32m    494\u001b[0m )\n",
      "File \u001b[0;32m~/anaconda3/envs/LeeYS/lib/python3.9/site-packages/torch/autograd/__init__.py:251\u001b[0m, in \u001b[0;36mbackward\u001b[0;34m(tensors, grad_tensors, retain_graph, create_graph, grad_variables, inputs)\u001b[0m\n\u001b[1;32m    246\u001b[0m     retain_graph \u001b[39m=\u001b[39m create_graph\n\u001b[1;32m    248\u001b[0m \u001b[39m# The reason we repeat the same comment below is that\u001b[39;00m\n\u001b[1;32m    249\u001b[0m \u001b[39m# some Python versions print out the first line of a multi-line function\u001b[39;00m\n\u001b[1;32m    250\u001b[0m \u001b[39m# calls in the traceback and some print out the last line\u001b[39;00m\n\u001b[0;32m--> 251\u001b[0m Variable\u001b[39m.\u001b[39;49m_execution_engine\u001b[39m.\u001b[39;49mrun_backward(  \u001b[39m# Calls into the C++ engine to run the backward pass\u001b[39;49;00m\n\u001b[1;32m    252\u001b[0m     tensors,\n\u001b[1;32m    253\u001b[0m     grad_tensors_,\n\u001b[1;32m    254\u001b[0m     retain_graph,\n\u001b[1;32m    255\u001b[0m     create_graph,\n\u001b[1;32m    256\u001b[0m     inputs,\n\u001b[1;32m    257\u001b[0m     allow_unreachable\u001b[39m=\u001b[39;49m\u001b[39mTrue\u001b[39;49;00m,\n\u001b[1;32m    258\u001b[0m     accumulate_grad\u001b[39m=\u001b[39;49m\u001b[39mTrue\u001b[39;49;00m,\n\u001b[1;32m    259\u001b[0m )\n",
      "\u001b[0;31mKeyboardInterrupt\u001b[0m: "
     ]
    }
   ],
   "source": [
    "for epc in range(params['epochs']):\n",
    "    diffusion.model.train()\n",
    "    cemblayer.train()\n",
    "    total_loss=0\n",
    "    steps=0\n",
    "    with tqdm(dataloader, dynamic_ncols=True) as tqdmDataLoader:\n",
    "        for img, lab in tqdmDataLoader:\n",
    "            b = img.shape[0]\n",
    "            optimizer.zero_grad()\n",
    "            x_0 = img.to(device)\n",
    "            lab = lab.to(device)\n",
    "            cemb = cemblayer(lab)\n",
    "            cemb[np.where(np.random.rand(b)<params['threshold'])] = 0\n",
    "            loss = diffusion.trainloss(x_0, cemb = cemb)\n",
    "            loss.backward()\n",
    "            optimizer.step()\n",
    "            steps+=1\n",
    "            total_loss+=loss.item()\n",
    "            tqdmDataLoader.set_postfix(\n",
    "                ordered_dict={\n",
    "                    \"epoch\": epc + 1,\n",
    "                    \"loss: \": total_loss/steps,\n",
    "                    \"batch per device: \":x_0.shape[0],\n",
    "                    \"img shape: \": x_0.shape[1:],\n",
    "                    \"LR\": optimizer.state_dict()['param_groups'][0][\"lr\"]\n",
    "                }\n",
    "            )\n",
    "    warmUpScheduler.step()\n",
    "    if (epc) % 20 == 0:\n",
    "        diffusion.model.eval()\n",
    "        cemblayer.eval()\n",
    "        # generating samples\n",
    "        # The model generate 80 pictures(8 per row) each time\n",
    "        # pictures of same row belong to the same class\n",
    "        all_samples = []\n",
    "        each_device_batch =10\n",
    "        with torch.no_grad():\n",
    "            lab = torch.ones(len(class_list), each_device_batch // len(class_list)).type(torch.long) \\\n",
    "            * torch.arange(start = 0, end = len(class_list)).reshape(-1, 1)\n",
    "            lab = lab.reshape(-1, 1).squeeze()\n",
    "            lab = lab.to(device)\n",
    "            cemb = cemblayer(lab)\n",
    "            genshape = (each_device_batch , 3, 512, 512)\n",
    "            if params['ddim']:\n",
    "                generated = diffusion.ddim_sample(genshape, 50, 0, 'linear', cemb = cemb)\n",
    "            else:\n",
    "                generated = diffusion.sample(genshape, cemb = cemb)\n",
    "            img = transback(generated)\n",
    "            img = img.reshape(len(class_list), each_device_batch // len(class_list), 3, 512, 512).contiguous()\n",
    "            all_samples.append(img)\n",
    "            samples = torch.concat(all_samples, dim = 1).reshape(each_device_batch, 3, 512, 512)\n",
    "\n",
    "        save_image(samples,f'../../model/conditionDiff/details/BRNT/generated512_{epc+1}_pict.png', nrow = each_device_batch // len(class_list))\n",
    "        # save checkpoints\n",
    "        checkpoint = {\n",
    "                            'net':diffusion.model.state_dict(),\n",
    "                            'cemblayer':cemblayer.state_dict(),\n",
    "                            'optimizer':optimizer.state_dict(),\n",
    "                            'scheduler':warmUpScheduler.state_dict()\n",
    "                        }\n",
    "        torch.save(checkpoint, f'../../model/conditionDiff/details/BRNT/ckpt512_{epc+1}_checkpoint.pt')\n",
    "    torch.cuda.empty_cache()\n",
    "    "
   ]
  }
 ],
 "metadata": {
  "kernelspec": {
   "display_name": "LeeYS",
   "language": "python",
   "name": "python3"
  },
  "language_info": {
   "codemirror_mode": {
    "name": "ipython",
    "version": 3
   },
   "file_extension": ".py",
   "mimetype": "text/x-python",
   "name": "python",
   "nbconvert_exporter": "python",
   "pygments_lexer": "ipython3",
   "version": "3.9.0"
  }
 },
 "nbformat": 4,
 "nbformat_minor": 2
}
