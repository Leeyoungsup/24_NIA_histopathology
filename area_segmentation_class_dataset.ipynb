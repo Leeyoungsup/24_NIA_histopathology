{
 "cells": [
  {
   "cell_type": "code",
   "execution_count": 2,
   "metadata": {},
   "outputs": [],
   "source": [
    "\n",
    "from PIL import Image\n",
    "import requests\n",
    "import matplotlib.pyplot as plt\n",
    "import numpy as np\n",
    "import cv2\n",
    "from tqdm import tqdm\n",
    "import os\n",
    "from glob import glob\n",
    "import pandas as pd\n",
    "import json\n",
    "from skimage.draw import polygon2mask\n",
    "import shutil\n",
    "def createDirectory(directory):\n",
    "    \"\"\"_summary_\n",
    "        create Directory\n",
    "    Args:\n",
    "        directory (string): file_path\n",
    "    \"\"\"\n",
    "    try:\n",
    "        if not os.path.exists(directory):\n",
    "            os.makedirs(directory)\n",
    "    except OSError:\n",
    "        print(\"Error: Failed to create the directory.\")"
   ]
  },
  {
   "cell_type": "code",
   "execution_count": 33,
   "metadata": {},
   "outputs": [],
   "source": [
    "class_list=['NT_epithelial',\n",
    " 'NT_immune',\n",
    " 'Tumor',]\n",
    "json_list=glob('../../data/synth_json/_STNT/유형*/*.json')\n",
    "image_path=\"../../data/synth_json/_STNT/**/\"\n",
    "save_img_path='../../data/area_segmentation/_STNT/image/'\n",
    "save_mask_path='../../data/area_segmentation/_STNT/mask/'"
   ]
  },
  {
   "cell_type": "code",
   "execution_count": 34,
   "metadata": {},
   "outputs": [
    {
     "name": "stderr",
     "output_type": "stream",
     "text": [
      "100%|██████████| 885/885 [05:50<00:00,  2.52it/s]\n"
     ]
    }
   ],
   "source": [
    "createDirectory(save_img_path)\n",
    "createDirectory(save_mask_path)\n",
    "\n",
    "for j in tqdm(range(len(json_list))):\n",
    "    with open(json_list[j], 'r') as f:\n",
    "        json_data = json.load(f)\n",
    "    anno=json_data['content']['file']['objects']\n",
    "    file_name=json_data['content']['file']['filename']\n",
    "    # for i in range(len(anno)):\n",
    "    #     class_list.append(anno[i]['label_nm'])\n",
    "    # class_list=list(set(class_list))\n",
    "    ii1=glob(image_path+file_name)[0]\n",
    "    shutil.copyfile(ii1, save_img_path+file_name)\n",
    "    mask=np.zeros((1024,1024,len(class_list)+1))\n",
    "    for k in range(len(anno)):\n",
    "        coordinate=np.array(anno[k]['coordinate'])\n",
    "        coordinate[:,[0, 1]]=coordinate[:,[1, 0]]\n",
    "        class_nm=anno[k]['label_nm']\n",
    "        mask_temp=polygon2mask((1024,1024), coordinate)\n",
    "        mask[...,class_list.index(class_nm)+1]+=mask_temp\n",
    "    mask[...,0]=np.where(mask[...,1:].sum(axis=2)>=1,0,1)\n",
    "    mask=np.where(mask>=1,255,0)\n",
    "    reversed_index = np.argmax(mask[:,:,::-1], axis=2)\n",
    "    final_index = len(class_list)-reversed_index\n",
    "    for i in range(len(class_list)):\n",
    "        createDirectory(save_mask_path+class_list[i])\n",
    "        cv2.imwrite(save_mask_path+class_list[i]+'/'+file_name,np.where(final_index==i+1,255,0))\n",
    "    createDirectory(save_mask_path+'npy/')\n",
    "    np.save(save_mask_path+'npy/'+file_name.replace('.jpeg','.npy'),mask)"
   ]
  }
 ],
 "metadata": {
  "kernelspec": {
   "display_name": "LeeYS",
   "language": "python",
   "name": "python3"
  },
  "language_info": {
   "codemirror_mode": {
    "name": "ipython",
    "version": 3
   },
   "file_extension": ".py",
   "mimetype": "text/x-python",
   "name": "python",
   "nbconvert_exporter": "python",
   "pygments_lexer": "ipython3",
   "version": "3.10.14"
  }
 },
 "nbformat": 4,
 "nbformat_minor": 2
}
