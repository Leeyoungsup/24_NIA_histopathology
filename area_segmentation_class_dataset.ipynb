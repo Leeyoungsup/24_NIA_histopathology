{
 "cells": [
  {
   "cell_type": "code",
   "execution_count": 1,
   "metadata": {},
   "outputs": [],
   "source": [
    "\n",
    "from PIL import Image\n",
    "import requests\n",
    "import matplotlib.pyplot as plt\n",
    "import numpy as np\n",
    "import cv2\n",
    "from tqdm import tqdm\n",
    "import os\n",
    "from glob import glob\n",
    "import pandas as pd\n",
    "import json\n",
    "from skimage.draw import polygon2mask\n",
    "import shutil"
   ]
  },
  {
   "cell_type": "code",
   "execution_count": 3,
   "metadata": {},
   "outputs": [],
   "source": [
    "class_list=['NT_epithelial',\n",
    " 'NT_Muscle',\n",
    " 'NT_stroma',\n",
    " 'NT_immune',\n",
    " 'NT_intestinal_metaplasia']\n",
    "json_list=glob('../../data/origin_json/STNT/유형*/*.json')\n",
    "image_path=\"../../data/origin_json/STNT/**/\"\n",
    "save_img_path='../../data/area_segmentation/STNT/image/'\n",
    "save_mask_path='../../data/area_segmentation/STNT/mask/'"
   ]
  },
  {
   "cell_type": "code",
   "execution_count": 4,
   "metadata": {},
   "outputs": [
    {
     "name": "stderr",
     "output_type": "stream",
     "text": [
      "100%|██████████| 308/308 [03:45<00:00,  1.37it/s]\n"
     ]
    }
   ],
   "source": [
    "\n",
    "for j in tqdm(range(len(json_list))):\n",
    "    with open(json_list[j], 'r') as f:\n",
    "        json_data = json.load(f)\n",
    "    anno=json_data['content']['file']['objects']\n",
    "    file_name=json_data['content']['file']['filename']\n",
    "    # for i in range(len(anno)):\n",
    "    #     class_list.append(anno[i]['label_nm'])\n",
    "    # class_list=list(set(class_list))\n",
    "    ii1=glob(image_path+file_name)[0]\n",
    "    shutil.copyfile(ii1, save_img_path+file_name)\n",
    "    mask=np.zeros((1024,1024,len(class_list)+1))\n",
    "    for k in range(len(anno)):\n",
    "        coordinate=np.array(anno[k]['coordinate'])\n",
    "        coordinate[:,[0, 1]]=coordinate[:,[1, 0]]\n",
    "        class_nm=anno[k]['label_nm']\n",
    "        if class_nm=='NT_gastritis':\n",
    "            class_nm='NT_immune'\n",
    "        mask_temp=polygon2mask((1024,1024), coordinate)\n",
    "        mask[...,class_list.index(class_nm)+1]+=mask_temp\n",
    "    mask[...,0]=np.where(mask[...,1:].sum(axis=2)>=1,0,1)\n",
    "    mask=np.where(mask>=1,255,0)\n",
    "    reversed_index = np.argmax(mask[:,:,::-1], axis=2)\n",
    "    final_index = len(class_list)-reversed_index\n",
    "    for i in range(len(class_list)):\n",
    "        if not os.path.exists(save_mask_path+class_list[i]):\n",
    "            os.makedirs(save_mask_path+class_list[i])\n",
    "        cv2.imwrite(save_mask_path+class_list[i]+'/'+file_name,np.where(final_index==i+1,255,0))\n",
    "    np.save(save_mask_path+'npy/'+file_name.replace('.jpeg','.npy'),final_index)"
   ]
  },
  {
   "cell_type": "code",
   "execution_count": null,
   "metadata": {},
   "outputs": [],
   "source": []
  }
 ],
 "metadata": {
  "kernelspec": {
   "display_name": "LeeYS",
   "language": "python",
   "name": "python3"
  },
  "language_info": {
   "codemirror_mode": {
    "name": "ipython",
    "version": 3
   },
   "file_extension": ".py",
   "mimetype": "text/x-python",
   "name": "python",
   "nbconvert_exporter": "python",
   "pygments_lexer": "ipython3",
   "version": "3.9.0"
  }
 },
 "nbformat": 4,
 "nbformat_minor": 2
}
