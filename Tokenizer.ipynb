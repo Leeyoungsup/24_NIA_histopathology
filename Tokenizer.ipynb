{
 "cells": [
  {
   "cell_type": "code",
   "execution_count": 21,
   "metadata": {},
   "outputs": [
    {
     "name": "stderr",
     "output_type": "stream",
     "text": [
      "[nltk_data] Downloading package punkt to /home/ubuntu/nltk_data...\n",
      "[nltk_data]   Package punkt is already up-to-date!\n"
     ]
    }
   ],
   "source": [
    "import nltk\n",
    "import pickle\n",
    "import argparse\n",
    "from collections import Counter\n",
    "from glob import glob\n",
    "from tqdm import tqdm\n",
    "nltk.download('punkt')\n",
    "import json\n",
    "import time\n",
    "import numpy as np\n",
    "class Vocabulary:\n",
    "    def __init__(self):\n",
    "        self.word2idx = {}\n",
    "        self.idx2word = {}\n",
    "        self.idx = 0\n",
    "\n",
    "    def add_word(self, word):\n",
    "        if word not in self.word2idx:\n",
    "            self.word2idx[word] = self.idx\n",
    "            self.idx2word[self.idx] = word\n",
    "            self.idx += 1\n",
    "\n",
    "    def __call__(self, word):\n",
    "        if word not in self.word2idx:\n",
    "            return self.word2idx['<unk>']\n",
    "        return self.word2idx[word]\n",
    "\n",
    "    def __len__(self):\n",
    "        return len(self.word2idx)\n",
    "\n",
    "def build_vocab(json_list, threshold):\n",
    "    \"\"\"Build a simple vocabulary wrapper.\"\"\"\n",
    "    \n",
    "    \n",
    "    counter = Counter()  # 중복 제거\n",
    "\n",
    "    for i in tqdm(range(len(json_list))):\n",
    "        with open(json_list[i], 'r', encoding='utf-8-sig') as file:\n",
    "            data = json.load(file)\n",
    "        caption = str(data['content']['file']['patch_discription'])\n",
    "        tokens = nltk.tokenize.word_tokenize(caption.lower())\n",
    "\n",
    "        counter.update(tokens)\n",
    "\n",
    "        if (i + 1) % 10000 == 0:\n",
    "            print(\"[{}/{}] Tokenized the captions.\".format(i + 1, len(json_list)))\n",
    "\n",
    "    # If the word frequency is less than 'threshold', discard the word\n",
    "    words = [word for word, cnt in counter.items() if cnt >= threshold]\n",
    "\n",
    "    # Create a vocab wrapper and add some special tokens\n",
    "    vocab = Vocabulary()\n",
    "    vocab.add_word('<pad>')\n",
    "    vocab.add_word('<start>')\n",
    "    vocab.add_word('<end>')\n",
    "    vocab.add_word('<unk>')\n",
    "\n",
    "    # Add the words to the vocabulary\n",
    "    for word in words:\n",
    "        vocab.add_word(word)\n",
    "\n",
    "    return vocab\n",
    "\n",
    "def build_captions(caption_list, threshold):\n",
    "    \"\"\"Build a simple vocabulary wrapper.\"\"\"\n",
    "    \n",
    "    \n",
    "    counter = Counter()  # 중복 제거\n",
    "\n",
    "    for i in tqdm(range(len(caption_list))):\n",
    "        caption = str(caption_list[i])\n",
    "        tokens = nltk.tokenize.word_tokenize(caption.lower())\n",
    "\n",
    "        counter.update(tokens)\n",
    "\n",
    "        print(\"[{}/{}] Tokenized the captions.\".format(i + 1, len(caption_list)))\n",
    "\n",
    "    # If the word frequency is less than 'threshold', discard the word\n",
    "    words = [word for word, cnt in counter.items() if cnt >= threshold]\n",
    "\n",
    "    # Create a vocab wrapper and add some special tokens\n",
    "    vocab = Vocabulary()\n",
    "    vocab.add_word('<pad>')\n",
    "    vocab.add_word('<start>')\n",
    "    vocab.add_word('<end>')\n",
    "    vocab.add_word('<unk>')\n",
    "\n",
    "    # Add the words to the vocabulary\n",
    "    for word in words:\n",
    "        vocab.add_word(word)\n",
    "\n",
    "    return vocab\n"
   ]
  },
  {
   "cell_type": "code",
   "execution_count": 6,
   "metadata": {},
   "outputs": [
    {
     "name": "stdout",
     "output_type": "stream",
     "text": [
      "Start Time: 2025-01-23 09:55:46\n"
     ]
    },
    {
     "name": "stderr",
     "output_type": "stream",
     "text": [
      "100%|██████████| 15/15 [00:00<00:00, 6491.39it/s]"
     ]
    },
    {
     "name": "stdout",
     "output_type": "stream",
     "text": [
      "End Time: 2025-01-23 09:55:46\n",
      "Elapsed Time: 0.00 seconds\n"
     ]
    },
    {
     "name": "stderr",
     "output_type": "stream",
     "text": [
      "\n"
     ]
    },
    {
     "ename": "ValueError",
     "evalue": "operands could not be broadcast together with shapes (15,) (14,) ",
     "output_type": "error",
     "traceback": [
      "\u001b[0;31m---------------------------------------------------------------------------\u001b[0m",
      "\u001b[0;31mValueError\u001b[0m                                Traceback (most recent call last)",
      "Input \u001b[0;32mIn [6]\u001b[0m, in \u001b[0;36m<cell line: 29>\u001b[0;34m()\u001b[0m\n\u001b[1;32m     27\u001b[0m elapsed_time \u001b[38;5;241m=\u001b[39m end_time \u001b[38;5;241m-\u001b[39m start_time\n\u001b[1;32m     28\u001b[0m \u001b[38;5;28mprint\u001b[39m(\u001b[38;5;124mf\u001b[39m\u001b[38;5;124m\"\u001b[39m\u001b[38;5;124mElapsed Time: \u001b[39m\u001b[38;5;132;01m{\u001b[39;00melapsed_time\u001b[38;5;132;01m:\u001b[39;00m\u001b[38;5;124m.2f\u001b[39m\u001b[38;5;132;01m}\u001b[39;00m\u001b[38;5;124m seconds\u001b[39m\u001b[38;5;124m\"\u001b[39m)\n\u001b[0;32m---> 29\u001b[0m np\u001b[38;5;241m.\u001b[39msum(\u001b[43mnp\u001b[49m\u001b[38;5;241;43m.\u001b[39;49m\u001b[43marray\u001b[49m\u001b[43m(\u001b[49m\u001b[43mreport_list\u001b[49m\u001b[43m)\u001b[49m\u001b[38;5;241;43m*\u001b[39;49m\u001b[43mnp\u001b[49m\u001b[38;5;241;43m.\u001b[39;49m\u001b[43marray\u001b[49m\u001b[43m(\u001b[49m\u001b[43m[\u001b[49m\u001b[38;5;241;43m1250\u001b[39;49m\u001b[43m,\u001b[49m\u001b[43m \u001b[49m\u001b[38;5;241;43m1250\u001b[39;49m\u001b[43m,\u001b[49m\u001b[43m \u001b[49m\u001b[38;5;241;43m602\u001b[39;49m\u001b[43m,\u001b[49m\u001b[43m \u001b[49m\u001b[38;5;241;43m634\u001b[39;49m\u001b[43m,\u001b[49m\u001b[43m \u001b[49m\u001b[38;5;241;43m632\u001b[39;49m\u001b[43m,\u001b[49m\u001b[43m \u001b[49m\u001b[38;5;241;43m632\u001b[39;49m\u001b[43m,\u001b[49m\u001b[43m \u001b[49m\u001b[38;5;241;43m650\u001b[39;49m\u001b[43m,\u001b[49m\u001b[43m \u001b[49m\u001b[38;5;241;43m532\u001b[39;49m\u001b[43m,\u001b[49m\u001b[43m \u001b[49m\u001b[38;5;241;43m659\u001b[39;49m\u001b[43m,\u001b[49m\u001b[43m \u001b[49m\u001b[38;5;241;43m659\u001b[39;49m\u001b[43m,\u001b[49m\u001b[43m \u001b[49m\u001b[38;5;241;43m625\u001b[39;49m\u001b[43m,\u001b[49m\u001b[43m \u001b[49m\u001b[38;5;241;43m625\u001b[39;49m\u001b[43m,\u001b[49m\u001b[43m \u001b[49m\u001b[38;5;241;43m625\u001b[39;49m\u001b[43m,\u001b[49m\u001b[43m \u001b[49m\u001b[38;5;241;43m625\u001b[39;49m\u001b[43m]\u001b[49m\u001b[43m)\u001b[49m)\n",
      "\u001b[0;31mValueError\u001b[0m: operands could not be broadcast together with shapes (15,) (14,) "
     ]
    }
   ],
   "source": [
    "report_list=['Normal Breast Tissue, >50% Epithelial/Ductal Structures Over 50% of the tissue contains well-formed ductal and lobular units.'\n",
    "             ,'Normal Breast Tissue, <50% Epithelial/Ductal Structures Less than 50% of the tissue is composed of bilayered normal epithelium with intervening stroma.'\n",
    "             ,'Lobular Carcinoma In Situ (LCIS), Normal Ducts Visible Lobules are filled with uniform, discohesive cells surrounded by uninvolved normal epithelial cells.'\n",
    "             ,'Lobular Carcinoma In Situ (LCIS), No Normal Ducts Visible Lobules are expanded with monotonous, discohesive neoplastic cells, with no normal ducts or lobules visible.'\n",
    "             ,'Ductal Carcinoma In Situ (DCIS), Normal Ducts Visible Large atypical cells occupy ductal structures, with normal ducts visible.'\n",
    "             ,'Ductal Carcinoma In Situ (DCIS), No Normal Ducts Visible, Low Inflammatory Cells Ducts are filled with large atypical cells, and normal ducts are absent. Minimal inflammation is observed.'\n",
    "             ,'Ductal Carcinoma In Situ (DCIS), No Normal Ducts Visible, High Inflammatory Cells Large atypical cells fill the ducts, with no normal ducts visible. Dense inflammatory infiltrate is seen.'\n",
    "             ,'Invasive Lobular Carcinoma (ILC), No Normal Ducts Visible Tumor cells infiltrate the stroma in single-file or small clusters, with no normal ducts visible.'\n",
    "             ,'Invasive Lobular Carcinoma (ILC), Normal Ducts Visible Infiltrative tumor cells are arranged in a single-file pattern with normal ducts visible.'\n",
    "             ,'Invasive Ductal Carcinoma (IDC), No Normal Ducts Visible, Low Inflammatory Cells Irregular glandular structures invade the stroma, with no normal ducts visible and minimal inflammation.'\n",
    "             ,'Invasive Ductal Carcinoma (IDC), No Normal Ducts Visible, High Inflammatory Cells Irregular nests of tumor cells infiltrate the stroma, with no normal ducts visible and dense lymphocytic infiltration.'\n",
    "             ,'Invasive Ductal Carcinoma (IDC), Normal Ducts Visible, Low Inflammatory Cells Malignant cells form irregular glandular structures that invade the stroma, with normal ducts visible and minimal inflammation.'\n",
    "             ,'Invasive Ductal Carcinoma (IDC), Normal Ducts Visible, High Inflammatory Cells Disorganized nests and glands of tumor cells invade the stroma, with normal ducts visible and dense lymphocytic infiltration.'\n",
    "             ,'Invasive Ductal Carcinoma (IDC), Fibrous Stroma Dominant, Low Inflammatory Cells Sparse clusters of tumor cells infiltrate dense, fibrotic stroma with minimal inflammatory infiltration.'\n",
    "             ,'Invasive Ductal Carcinoma (IDC), Fibrous Stroma Dominant, High Inflammatory Cells Scattered tumor cells invade desmoplastic stroma, with a significant inflammatory infiltrate.']\n",
    "start_time = time.time()\n",
    "token_sum=0\n",
    "print(\"Start Time:\", time.strftime(\"%Y-%m-%d %H:%M:%S\", time.localtime(start_time)))\n",
    "\n",
    "for i in tqdm(range(len(report_list))):\n",
    "    \n",
    "    caption = str(report_list[i])\n",
    "    tokens = nltk.tokenize.word_tokenize(caption.lower())\n",
    "    report_list[i]=len(tokens)\n",
    "end_time = time.time()\n",
    "print(\"End Time:\", time.strftime(\"%Y-%m-%d %H:%M:%S\", time.localtime(end_time)))\n",
    "elapsed_time = end_time - start_time\n",
    "print(f\"Elapsed Time: {elapsed_time:.2f} seconds\")\n",
    "np.sum(np.array(report_list)*np.array([1250, 1250, 602, 634, 632, 632, 650, 532, 659, 659, 625, 625, 625, 625]))"
   ]
  },
  {
   "cell_type": "code",
   "execution_count": 30,
   "metadata": {},
   "outputs": [
    {
     "name": "stderr",
     "output_type": "stream",
     "text": [
      "100%|██████████| 15/15 [00:00<00:00, 4843.68it/s]"
     ]
    },
    {
     "name": "stdout",
     "output_type": "stream",
     "text": [
      "[1/15] Tokenized the captions.\n",
      "[2/15] Tokenized the captions.\n",
      "[3/15] Tokenized the captions.\n",
      "[4/15] Tokenized the captions.\n",
      "[5/15] Tokenized the captions.\n",
      "[6/15] Tokenized the captions.\n",
      "[7/15] Tokenized the captions.\n",
      "[8/15] Tokenized the captions.\n",
      "[9/15] Tokenized the captions.\n",
      "[10/15] Tokenized the captions.\n",
      "[11/15] Tokenized the captions.\n",
      "[12/15] Tokenized the captions.\n",
      "[13/15] Tokenized the captions.\n",
      "[14/15] Tokenized the captions.\n",
      "[15/15] Tokenized the captions.\n"
     ]
    },
    {
     "name": "stderr",
     "output_type": "stream",
     "text": [
      "\n"
     ]
    }
   ],
   "source": [
    "report_list=['Normal Breast Tissue, >50% Epithelial/Ductal Structures Over 50% of the tissue contains well-formed ductal and lobular units.'\n",
    "             ,'Normal Breast Tissue, <50% Epithelial/Ductal Structures Less than 50% of the tissue is composed of bilayered normal epithelium with intervening stroma.'\n",
    "             ,'Lobular Carcinoma In Situ (LCIS), Normal Ducts Visible Lobules are filled with uniform, discohesive cells surrounded by uninvolved normal epithelial cells.'\n",
    "             ,'Lobular Carcinoma In Situ (LCIS), No Normal Ducts Visible Lobules are expanded with monotonous, discohesive neoplastic cells, with no normal ducts or lobules visible.'\n",
    "             ,'Ductal Carcinoma In Situ (DCIS), Normal Ducts Visible Large atypical cells occupy ductal structures, with normal ducts visible.'\n",
    "             ,'Ductal Carcinoma In Situ (DCIS), No Normal Ducts Visible, Low Inflammatory Cells Ducts are filled with large atypical cells, and normal ducts are absent. Minimal inflammation is observed.'\n",
    "             ,'Ductal Carcinoma In Situ (DCIS), No Normal Ducts Visible, High Inflammatory Cells Large atypical cells fill the ducts, with no normal ducts visible. Dense inflammatory infiltrate is seen.'\n",
    "             ,'Invasive Lobular Carcinoma (ILC), No Normal Ducts Visible Tumor cells infiltrate the stroma in single-file or small clusters, with no normal ducts visible.'\n",
    "             ,'Invasive Lobular Carcinoma (ILC), Normal Ducts Visible Infiltrative tumor cells are arranged in a single-file pattern with normal ducts visible.'\n",
    "             ,'Invasive Ductal Carcinoma (IDC), No Normal Ducts Visible, Low Inflammatory Cells Irregular glandular structures invade the stroma, with no normal ducts visible and minimal inflammation.'\n",
    "             ,'Invasive Ductal Carcinoma (IDC), No Normal Ducts Visible, High Inflammatory Cells Irregular nests of tumor cells infiltrate the stroma, with no normal ducts visible and dense lymphocytic infiltration.'\n",
    "             ,'Invasive Ductal Carcinoma (IDC), Normal Ducts Visible, Low Inflammatory Cells Malignant cells form irregular glandular structures that invade the stroma, with normal ducts visible and minimal inflammation.'\n",
    "             ,'Invasive Ductal Carcinoma (IDC), Normal Ducts Visible, High Inflammatory Cells Disorganized nests and glands of tumor cells invade the stroma, with normal ducts visible and dense lymphocytic infiltration.'\n",
    "             ,'Invasive Ductal Carcinoma (IDC), Fibrous Stroma Dominant, Low Inflammatory Cells Sparse clusters of tumor cells infiltrate dense, fibrotic stroma with minimal inflammatory infiltration.'\n",
    "             ,'Invasive Ductal Carcinoma (IDC), Fibrous Stroma Dominant, High Inflammatory Cells Scattered tumor cells invade desmoplastic stroma, with a significant inflammatory infiltrate.']\n",
    "vocab=build_captions(report_list, 0)"
   ]
  },
  {
   "cell_type": "code",
   "execution_count": 31,
   "metadata": {},
   "outputs": [],
   "source": [
    "with open('../../data/synth/011.유방암 병리 이미지 및 판독문 합성 데이터/vocab.pkl', 'wb') as f:\n",
    "    pickle.dump(vocab, f)\n"
   ]
  },
  {
   "cell_type": "code",
   "execution_count": 29,
   "metadata": {},
   "outputs": [],
   "source": [
    "json_list=glob('../../data/synth/011.유방암 병리 이미지 및 판독문 합성 데이터/1.데이터/**/2.라벨링데이터/**/*.json')\n",
    "with open(json_list[0], 'r', encoding='utf-8-sig') as file:\n",
    "    data = json.load(file)\n"
   ]
  },
  {
   "cell_type": "code",
   "execution_count": 32,
   "metadata": {},
   "outputs": [
    {
     "data": {
      "text/plain": [
       "{0: '<pad>',\n",
       " 1: '<start>',\n",
       " 2: '<end>',\n",
       " 3: '<unk>',\n",
       " 4: 'normal',\n",
       " 5: 'breast',\n",
       " 6: 'tissue',\n",
       " 7: ',',\n",
       " 8: '>',\n",
       " 9: '50',\n",
       " 10: '%',\n",
       " 11: 'epithelial/ductal',\n",
       " 12: 'structures',\n",
       " 13: 'over',\n",
       " 14: 'of',\n",
       " 15: 'the',\n",
       " 16: 'contains',\n",
       " 17: 'well-formed',\n",
       " 18: 'ductal',\n",
       " 19: 'and',\n",
       " 20: 'lobular',\n",
       " 21: 'units',\n",
       " 22: '.',\n",
       " 23: '<',\n",
       " 24: 'less',\n",
       " 25: 'than',\n",
       " 26: 'is',\n",
       " 27: 'composed',\n",
       " 28: 'bilayered',\n",
       " 29: 'epithelium',\n",
       " 30: 'with',\n",
       " 31: 'intervening',\n",
       " 32: 'stroma',\n",
       " 33: 'carcinoma',\n",
       " 34: 'in',\n",
       " 35: 'situ',\n",
       " 36: '(',\n",
       " 37: 'lcis',\n",
       " 38: ')',\n",
       " 39: 'ducts',\n",
       " 40: 'visible',\n",
       " 41: 'lobules',\n",
       " 42: 'are',\n",
       " 43: 'filled',\n",
       " 44: 'uniform',\n",
       " 45: 'discohesive',\n",
       " 46: 'cells',\n",
       " 47: 'surrounded',\n",
       " 48: 'by',\n",
       " 49: 'uninvolved',\n",
       " 50: 'epithelial',\n",
       " 51: 'no',\n",
       " 52: 'expanded',\n",
       " 53: 'monotonous',\n",
       " 54: 'neoplastic',\n",
       " 55: 'or',\n",
       " 56: 'dcis',\n",
       " 57: 'large',\n",
       " 58: 'atypical',\n",
       " 59: 'occupy',\n",
       " 60: 'low',\n",
       " 61: 'inflammatory',\n",
       " 62: 'absent',\n",
       " 63: 'minimal',\n",
       " 64: 'inflammation',\n",
       " 65: 'observed',\n",
       " 66: 'high',\n",
       " 67: 'fill',\n",
       " 68: 'dense',\n",
       " 69: 'infiltrate',\n",
       " 70: 'seen',\n",
       " 71: 'invasive',\n",
       " 72: 'ilc',\n",
       " 73: 'tumor',\n",
       " 74: 'single-file',\n",
       " 75: 'small',\n",
       " 76: 'clusters',\n",
       " 77: 'infiltrative',\n",
       " 78: 'arranged',\n",
       " 79: 'a',\n",
       " 80: 'pattern',\n",
       " 81: 'idc',\n",
       " 82: 'irregular',\n",
       " 83: 'glandular',\n",
       " 84: 'invade',\n",
       " 85: 'nests',\n",
       " 86: 'lymphocytic',\n",
       " 87: 'infiltration',\n",
       " 88: 'malignant',\n",
       " 89: 'form',\n",
       " 90: 'that',\n",
       " 91: 'disorganized',\n",
       " 92: 'glands',\n",
       " 93: 'fibrous',\n",
       " 94: 'dominant',\n",
       " 95: 'sparse',\n",
       " 96: 'fibrotic',\n",
       " 97: 'scattered',\n",
       " 98: 'desmoplastic',\n",
       " 99: 'significant'}"
      ]
     },
     "execution_count": 32,
     "metadata": {},
     "output_type": "execute_result"
    }
   ],
   "source": [
    "vocab.idx2word"
   ]
  }
 ],
 "metadata": {
  "kernelspec": {
   "display_name": "LeeYS",
   "language": "python",
   "name": "python3"
  },
  "language_info": {
   "codemirror_mode": {
    "name": "ipython",
    "version": 3
   },
   "file_extension": ".py",
   "mimetype": "text/x-python",
   "name": "python",
   "nbconvert_exporter": "python",
   "pygments_lexer": "ipython3",
   "version": "3.10.14"
  }
 },
 "nbformat": 4,
 "nbformat_minor": 2
}
