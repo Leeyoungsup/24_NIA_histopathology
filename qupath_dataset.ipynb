{
 "cells": [
  {
   "cell_type": "code",
   "execution_count": 72,
   "metadata": {},
   "outputs": [],
   "source": [
    "import numpy as np\n",
    "import matplotlib.pyplot as plt\n",
    "from PIL import Image\n",
    "import os\n",
    "import shutil\n",
    "import geojson\n",
    "import pandas as pd\n",
    "from glob import glob\n",
    "from skimage.draw import polygon2mask\n",
    "from tqdm import tqdm"
   ]
  },
  {
   "cell_type": "code",
   "execution_count": 73,
   "metadata": {},
   "outputs": [],
   "source": [
    "json_file_list =glob('../../data/qupath/*.geojson')\n",
    "image_file_path = '../../data/NIA/**/'"
   ]
  },
  {
   "cell_type": "code",
   "execution_count": 74,
   "metadata": {},
   "outputs": [
    {
     "name": "stderr",
     "output_type": "stream",
     "text": [
      "100%|██████████| 65/65 [06:02<00:00,  5.58s/it]\n"
     ]
    }
   ],
   "source": [
    "from email.mime import image\n",
    "\n",
    "\n",
    "for i in tqdm(range(len(json_file_list))):\n",
    "    file_name=os.path.basename(json_file_list[i]).replace('.geojson','.jpeg')\n",
    "    with open(json_file_list[i]) as f:\n",
    "        data = geojson.load(f)\n",
    "\n",
    "    # GeoJSON 데이터를 pandas 데이터프레임으로 변환\n",
    "    features = data['features']\n",
    "    records = []\n",
    "    for feature in features:\n",
    "        record = feature['properties']\n",
    "        record['geometry'] = feature['geometry']\n",
    "        records.append(record)\n",
    "\n",
    "    df = pd.DataFrame(records)\n",
    "    image_path = glob(image_file_path+file_name)\n",
    "    shutil.copy(image_path[0],'../../data/segmentation/qupath/image/'+file_name)\n",
    "    img=Image.open(image_path[0])\n",
    "    anno=df['geometry']\n",
    "    mask=np.zeros((1024,1024,3))\n",
    "    index_mask=np.zeros((1024,1024))\n",
    "    for k in range(1,len(anno)):\n",
    "        coordinate=np.array(anno[k]['coordinates'][0])\n",
    "        coordinate[:,[0, 1]]=coordinate[:,[1, 0]]\n",
    "        mask_temp=polygon2mask((1024,1024), coordinate)\n",
    "        mask[...,0]+=mask_temp\n",
    "        index_mask+=mask_temp*k\n",
    "    mask=np.where(mask>=1,255,0)\n",
    "    np_img=np.array(img)\n",
    "    overlay=np_img*0.7+mask*0.3\n",
    "    index_mask=index_mask.astype(np.uint32)\n",
    "    np.save('../../data/segmentation/qupath/mask/'+file_name.replace('.jpeg','.npy'),index_mask)\n",
    "    \n",
    "    Image.fromarray(overlay.astype(np.uint8)).save('../../data/segmentation/qupath/overlay/'+file_name.replace('.jpeg','_overlay.jpeg'))"
   ]
  }
 ],
 "metadata": {
  "kernelspec": {
   "display_name": "LeeYS",
   "language": "python",
   "name": "python3"
  },
  "language_info": {
   "codemirror_mode": {
    "name": "ipython",
    "version": 3
   },
   "file_extension": ".py",
   "mimetype": "text/x-python",
   "name": "python",
   "nbconvert_exporter": "python",
   "pygments_lexer": "ipython3",
   "version": "3.9.0"
  }
 },
 "nbformat": 4,
 "nbformat_minor": 2
}
