{
 "cells": [
  {
   "cell_type": "code",
   "execution_count": 1,
   "metadata": {},
   "outputs": [
    {
     "name": "stdout",
     "output_type": "stream",
     "text": [
      "GPUs used:\t8\n",
      "Device:\t\tcuda:3\n"
     ]
    }
   ],
   "source": [
    "import os\n",
    "import torch\n",
    "import argparse\n",
    "import itertools\n",
    "import numpy as np\n",
    "from tqdm import tqdm\n",
    "import torch.optim as optim\n",
    "from torchvision.utils import save_image\n",
    "from torch.nn.parallel import DistributedDataParallel as DDP\n",
    "from torch.distributed import get_rank, init_process_group, destroy_process_group, all_gather, get_world_size\n",
    "from torch import Tensor\n",
    "from torchvision import transforms\n",
    "from torch.utils.data import DataLoader,Dataset\n",
    "from glob import glob\n",
    "from torch.utils.data.distributed import DistributedSampler\n",
    "import random\n",
    "from conditionDiffusion.unet import Unet\n",
    "from conditionDiffusion.embedding import ConditionalEmbedding\n",
    "from conditionDiffusion.utils import get_named_beta_schedule\n",
    "from conditionDiffusion.diffusion import GaussianDiffusion\n",
    "from conditionDiffusion.Scheduler import GradualWarmupScheduler\n",
    "from PIL import Image\n",
    "print(f\"GPUs used:\\t{torch.cuda.device_count()}\")\n",
    "device = torch.device(\"cuda\",3)\n",
    "print(f\"Device:\\t\\t{device}\")\n",
    "import pytorch_model_summary as tms"
   ]
  },
  {
   "cell_type": "code",
   "execution_count": 2,
   "metadata": {},
   "outputs": [],
   "source": [
    "class_list=['유형1','유형2']\n",
    "params={'image_size':1024,\n",
    "        'lr':1e-5,\n",
    "        'beta1':0.5,\n",
    "        'beta2':0.999,\n",
    "        'batch_size':4,\n",
    "        'epochs':1000,\n",
    "        'n_classes':None,\n",
    "        'data_path':'../../data/origin_type/STNT/',\n",
    "        'image_count':5000,\n",
    "        'inch':3,\n",
    "        'modch':32,\n",
    "        'outch':3,\n",
    "        'chmul':[1,2,4,8,16,32,32],\n",
    "        'numres':2,\n",
    "        'dtype':torch.float32,\n",
    "        'cdim':10,\n",
    "        'useconv':False,\n",
    "        'droprate':0.1,\n",
    "        'T':1000,\n",
    "        'w':1.8,\n",
    "        'v':0.3,\n",
    "        'multiplier':2.5,\n",
    "        'threshold':0.1,\n",
    "        'ddim':True,\n",
    "        }\n"
   ]
  },
  {
   "cell_type": "code",
   "execution_count": 3,
   "metadata": {},
   "outputs": [
    {
     "name": "stderr",
     "output_type": "stream",
     "text": [
      "  0%|          | 0/2 [00:00<?, ?it/s]"
     ]
    },
    {
     "name": "stderr",
     "output_type": "stream",
     "text": [
      "100%|██████████| 2/2 [00:00<00:00, 35.87it/s]\n",
      " 22%|██▏       | 326/1462 [01:19<04:38,  4.08it/s]\n"
     ]
    },
    {
     "ename": "BlockingIOError",
     "evalue": "[Errno 11] Resource temporarily unavailable: '../../data/origin_type/STNT/유형1/NIA6_R_STNT_STOP-HY-00016-S-TP-03_31_29.jpeg'",
     "output_type": "error",
     "traceback": [
      "\u001b[0;31m---------------------------------------------------------------------------\u001b[0m",
      "\u001b[0;31mBlockingIOError\u001b[0m                           Traceback (most recent call last)",
      "Cell \u001b[0;32mIn[3], line 48\u001b[0m\n\u001b[1;32m     46\u001b[0m train_images\u001b[38;5;241m=\u001b[39mtorch\u001b[38;5;241m.\u001b[39mzeros((\u001b[38;5;28mlen\u001b[39m(image_path),params[\u001b[38;5;124m'\u001b[39m\u001b[38;5;124minch\u001b[39m\u001b[38;5;124m'\u001b[39m],params[\u001b[38;5;124m'\u001b[39m\u001b[38;5;124mimage_size\u001b[39m\u001b[38;5;124m'\u001b[39m],params[\u001b[38;5;124m'\u001b[39m\u001b[38;5;124mimage_size\u001b[39m\u001b[38;5;124m'\u001b[39m]))\n\u001b[1;32m     47\u001b[0m \u001b[38;5;28;01mfor\u001b[39;00m i \u001b[38;5;129;01min\u001b[39;00m tqdm(\u001b[38;5;28mrange\u001b[39m(\u001b[38;5;28mlen\u001b[39m(image_path))):\n\u001b[0;32m---> 48\u001b[0m     train_images[i]\u001b[38;5;241m=\u001b[39mtrans(\u001b[43mImage\u001b[49m\u001b[38;5;241;43m.\u001b[39;49m\u001b[43mopen\u001b[49m\u001b[43m(\u001b[49m\u001b[43mimage_path\u001b[49m\u001b[43m[\u001b[49m\u001b[43mi\u001b[49m\u001b[43m]\u001b[49m\u001b[43m)\u001b[49m\u001b[38;5;241m.\u001b[39mconvert(\u001b[38;5;124m'\u001b[39m\u001b[38;5;124mRGB\u001b[39m\u001b[38;5;124m'\u001b[39m)\u001b[38;5;241m.\u001b[39mresize((params[\u001b[38;5;124m'\u001b[39m\u001b[38;5;124mimage_size\u001b[39m\u001b[38;5;124m'\u001b[39m],params[\u001b[38;5;124m'\u001b[39m\u001b[38;5;124mimage_size\u001b[39m\u001b[38;5;124m'\u001b[39m])))\n\u001b[1;32m     49\u001b[0m train_dataset\u001b[38;5;241m=\u001b[39mCustomDataset(params,train_images,image_label)\n\u001b[1;32m     50\u001b[0m dataloader\u001b[38;5;241m=\u001b[39mDataLoader(train_dataset,batch_size\u001b[38;5;241m=\u001b[39mparams[\u001b[38;5;124m'\u001b[39m\u001b[38;5;124mbatch_size\u001b[39m\u001b[38;5;124m'\u001b[39m],shuffle\u001b[38;5;241m=\u001b[39m\u001b[38;5;28;01mTrue\u001b[39;00m)\n",
      "File \u001b[0;32m~/anaconda3/envs/LeeYS/lib/python3.10/site-packages/PIL/Image.py:3131\u001b[0m, in \u001b[0;36mopen\u001b[0;34m(fp, mode, formats)\u001b[0m\n\u001b[1;32m   3128\u001b[0m     filename \u001b[38;5;241m=\u001b[39m fp\n\u001b[1;32m   3130\u001b[0m \u001b[38;5;28;01mif\u001b[39;00m filename:\n\u001b[0;32m-> 3131\u001b[0m     fp \u001b[38;5;241m=\u001b[39m \u001b[43mbuiltins\u001b[49m\u001b[38;5;241;43m.\u001b[39;49m\u001b[43mopen\u001b[49m\u001b[43m(\u001b[49m\u001b[43mfilename\u001b[49m\u001b[43m,\u001b[49m\u001b[43m \u001b[49m\u001b[38;5;124;43m\"\u001b[39;49m\u001b[38;5;124;43mrb\u001b[39;49m\u001b[38;5;124;43m\"\u001b[39;49m\u001b[43m)\u001b[49m\n\u001b[1;32m   3132\u001b[0m     exclusive_fp \u001b[38;5;241m=\u001b[39m \u001b[38;5;28;01mTrue\u001b[39;00m\n\u001b[1;32m   3134\u001b[0m \u001b[38;5;28;01mtry\u001b[39;00m:\n",
      "\u001b[0;31mBlockingIOError\u001b[0m: [Errno 11] Resource temporarily unavailable: '../../data/origin_type/STNT/유형1/NIA6_R_STNT_STOP-HY-00016-S-TP-03_31_29.jpeg'"
     ]
    }
   ],
   "source": [
    "trans = transforms.Compose([\n",
    "            transforms.ToTensor(),\n",
    "            transforms.Normalize((0.5, 0.5, 0.5), (0.5, 0.5, 0.5)),\n",
    "        ])\n",
    "\n",
    "def transback(data:Tensor) -> Tensor:\n",
    "    return data / 2 + 0.5\n",
    "\n",
    "class CustomDataset(Dataset):\n",
    "    \"\"\"COCO Custom Dataset compatible with torch.utils.data.DataLoader.\"\"\"\n",
    "    def __init__(self,parmas, images,label):\n",
    "        \n",
    "        self.images = images\n",
    "        self.args=parmas\n",
    "        self.label=label\n",
    "        \n",
    "    def trans(self,image):\n",
    "        if random.random() > 0.5:\n",
    "            transform = transforms.RandomHorizontalFlip(1)\n",
    "            image = transform(image)\n",
    "            \n",
    "        if random.random() > 0.5:\n",
    "            transform = transforms.RandomVerticalFlip(1)\n",
    "            image = transform(image)\n",
    "            \n",
    "        return image\n",
    "    \n",
    "    def __getitem__(self, index):\n",
    "        image=self.images[index]\n",
    "        label=self.label[index]\n",
    "        image = self.trans(image)\n",
    "        return image,label\n",
    "    \n",
    "    def __len__(self):\n",
    "        return len(self.images)\n",
    "\n",
    "\n",
    "image_label=[]\n",
    "image_path=[]\n",
    "for i in tqdm(range(len(class_list))):\n",
    "    image_list=glob(params['data_path']+class_list[i]+'/*.jpeg')\n",
    "    for j in range(len(image_list)):\n",
    "        image_path.append(image_list[j])\n",
    "        image_label.append(i)\n",
    "        \n",
    "train_images=torch.zeros((len(image_path),params['inch'],params['image_size'],params['image_size']))\n",
    "for i in tqdm(range(len(image_path))):\n",
    "    train_images[i]=trans(Image.open(image_path[i]).convert('RGB').resize((params['image_size'],params['image_size'])))\n",
    "train_dataset=CustomDataset(params,train_images,image_label)\n",
    "dataloader=DataLoader(train_dataset,batch_size=params['batch_size'],shuffle=True)"
   ]
  },
  {
   "cell_type": "code",
   "execution_count": null,
   "metadata": {},
   "outputs": [],
   "source": [
    "net = Unet(in_ch = params['inch'],\n",
    "            mod_ch = params['modch'],\n",
    "            out_ch = params['outch'],\n",
    "            ch_mul = params['chmul'],\n",
    "            num_res_blocks = params['numres'],\n",
    "            cdim = params['cdim'],\n",
    "            use_conv = params['useconv'],\n",
    "            droprate = params['droprate'],\n",
    "            dtype = params['dtype']\n",
    "            ).to(device)\n",
    "cemblayer = ConditionalEmbedding(len(class_list), params['cdim'], params['cdim']).to(device)\n",
    "betas = get_named_beta_schedule(num_diffusion_timesteps = params['T'])\n",
    "diffusion = GaussianDiffusion(\n",
    "                    dtype = params['dtype'],\n",
    "                    model = net,\n",
    "                    betas = betas,\n",
    "                    w = params['w'],\n",
    "                    v = params['v'],\n",
    "                    device = device\n",
    "                )\n",
    "optimizer = torch.optim.AdamW(\n",
    "                itertools.chain(\n",
    "                    diffusion.model.parameters(),\n",
    "                    cemblayer.parameters()\n",
    "                ),\n",
    "                lr = params['lr'],\n",
    "                weight_decay = 1e-4\n",
    "            )\n",
    "\n",
    "\n",
    "cosineScheduler = optim.lr_scheduler.CosineAnnealingLR(\n",
    "                            optimizer = optimizer,\n",
    "                            T_max = params['epochs']/100,\n",
    "                            eta_min = 0,\n",
    "                            last_epoch = -1\n",
    "                        )\n",
    "warmUpScheduler = GradualWarmupScheduler(\n",
    "                        optimizer = optimizer,\n",
    "                        multiplier = params['multiplier'],\n",
    "                        warm_epoch = params['epochs'] // 10,\n",
    "                        after_scheduler = cosineScheduler,\n",
    "                        last_epoch = 0\n",
    "                    )\n",
    "\n",
    "checkpoint=torch.load(f'../../model/conditionDiff/details/STNT/ckpt_251_checkpoint.pt')\n",
    "diffusion.model.load_state_dict(checkpoint['net'])\n",
    "cemblayer.load_state_dict(checkpoint['cemblayer'])\n",
    "optimizer.load_state_dict(checkpoint['optimizer'])\n",
    "warmUpScheduler.load_state_dict(checkpoint['scheduler'])\n"
   ]
  },
  {
   "cell_type": "code",
   "execution_count": null,
   "metadata": {},
   "outputs": [
    {
     "name": "stderr",
     "output_type": "stream",
     "text": [
      "100%|██████████| 366/366 [09:47<00:00,  1.61s/it, epoch=1, loss: =0.662, batch per device: =2, img shape: =torch.Size([3, 1024, 1024]), LR=1e-5]\n"
     ]
    },
    {
     "name": "stdout",
     "output_type": "stream",
     "text": [
      "Start generating(ddim)...\n"
     ]
    },
    {
     "name": "stderr",
     "output_type": "stream",
     "text": [
      "100%|██████████| 50/50 [01:34<00:00,  1.89s/it]\n"
     ]
    },
    {
     "name": "stdout",
     "output_type": "stream",
     "text": [
      "ending sampling process(ddim)...\n"
     ]
    },
    {
     "name": "stderr",
     "output_type": "stream",
     "text": [
      "100%|██████████| 366/366 [09:36<00:00,  1.58s/it, epoch=2, loss: =0.302, batch per device: =2, img shape: =torch.Size([3, 1024, 1024]), LR=1.01e-5]\n",
      "100%|██████████| 366/366 [09:41<00:00,  1.59s/it, epoch=3, loss: =0.192, batch per device: =2, img shape: =torch.Size([3, 1024, 1024]), LR=1.03e-5]\n",
      "100%|██████████| 366/366 [09:35<00:00,  1.57s/it, epoch=4, loss: =0.152, batch per device: =2, img shape: =torch.Size([3, 1024, 1024]), LR=1.04e-5]\n",
      "100%|██████████| 366/366 [09:34<00:00,  1.57s/it, epoch=5, loss: =0.121, batch per device: =2, img shape: =torch.Size([3, 1024, 1024]), LR=1.06e-5]\n",
      "100%|██████████| 366/366 [09:44<00:00,  1.60s/it, epoch=6, loss: =0.102, batch per device: =2, img shape: =torch.Size([3, 1024, 1024]), LR=1.08e-5]\n",
      "100%|██████████| 366/366 [09:39<00:00,  1.58s/it, epoch=7, loss: =0.0966, batch per device: =2, img shape: =torch.Size([3, 1024, 1024]), LR=1.09e-5]\n",
      "100%|██████████| 366/366 [09:34<00:00,  1.57s/it, epoch=8, loss: =0.0823, batch per device: =2, img shape: =torch.Size([3, 1024, 1024]), LR=1.11e-5]\n",
      "100%|██████████| 366/366 [09:40<00:00,  1.59s/it, epoch=9, loss: =0.0741, batch per device: =2, img shape: =torch.Size([3, 1024, 1024]), LR=1.12e-5]\n",
      "100%|██████████| 366/366 [09:39<00:00,  1.58s/it, epoch=10, loss: =0.069, batch per device: =2, img shape: =torch.Size([3, 1024, 1024]), LR=1.14e-5] \n",
      "100%|██████████| 366/366 [09:38<00:00,  1.58s/it, epoch=11, loss: =0.0733, batch per device: =2, img shape: =torch.Size([3, 1024, 1024]), LR=1.15e-5]\n"
     ]
    },
    {
     "name": "stdout",
     "output_type": "stream",
     "text": [
      "Start generating(ddim)...\n"
     ]
    },
    {
     "name": "stderr",
     "output_type": "stream",
     "text": [
      "100%|██████████| 50/50 [01:47<00:00,  2.16s/it]\n"
     ]
    },
    {
     "name": "stdout",
     "output_type": "stream",
     "text": [
      "ending sampling process(ddim)...\n"
     ]
    },
    {
     "name": "stderr",
     "output_type": "stream",
     "text": [
      "100%|██████████| 366/366 [09:45<00:00,  1.60s/it, epoch=12, loss: =0.0653, batch per device: =2, img shape: =torch.Size([3, 1024, 1024]), LR=1.17e-5]\n",
      "100%|██████████| 366/366 [09:43<00:00,  1.59s/it, epoch=13, loss: =0.064, batch per device: =2, img shape: =torch.Size([3, 1024, 1024]), LR=1.18e-5] \n",
      "100%|██████████| 366/366 [09:39<00:00,  1.58s/it, epoch=14, loss: =0.0616, batch per device: =2, img shape: =torch.Size([3, 1024, 1024]), LR=1.2e-5]\n",
      "100%|██████████| 366/366 [09:40<00:00,  1.59s/it, epoch=15, loss: =0.0539, batch per device: =2, img shape: =torch.Size([3, 1024, 1024]), LR=1.21e-5]\n",
      "100%|██████████| 366/366 [09:41<00:00,  1.59s/it, epoch=16, loss: =0.0524, batch per device: =2, img shape: =torch.Size([3, 1024, 1024]), LR=1.23e-5]\n",
      "100%|██████████| 366/366 [09:41<00:00,  1.59s/it, epoch=17, loss: =0.05, batch per device: =2, img shape: =torch.Size([3, 1024, 1024]), LR=1.24e-5]  \n",
      "100%|██████████| 366/366 [09:42<00:00,  1.59s/it, epoch=18, loss: =0.0523, batch per device: =2, img shape: =torch.Size([3, 1024, 1024]), LR=1.26e-5]\n",
      "100%|██████████| 366/366 [09:43<00:00,  1.59s/it, epoch=19, loss: =0.0522, batch per device: =2, img shape: =torch.Size([3, 1024, 1024]), LR=1.27e-5]\n",
      "100%|██████████| 366/366 [09:42<00:00,  1.59s/it, epoch=20, loss: =0.0521, batch per device: =2, img shape: =torch.Size([3, 1024, 1024]), LR=1.29e-5]\n",
      "100%|██████████| 366/366 [09:42<00:00,  1.59s/it, epoch=21, loss: =0.0462, batch per device: =2, img shape: =torch.Size([3, 1024, 1024]), LR=1.3e-5]\n"
     ]
    },
    {
     "name": "stdout",
     "output_type": "stream",
     "text": [
      "Start generating(ddim)...\n"
     ]
    },
    {
     "name": "stderr",
     "output_type": "stream",
     "text": [
      "100%|██████████| 50/50 [01:48<00:00,  2.17s/it]\n"
     ]
    },
    {
     "name": "stdout",
     "output_type": "stream",
     "text": [
      "ending sampling process(ddim)...\n"
     ]
    },
    {
     "name": "stderr",
     "output_type": "stream",
     "text": [
      "100%|██████████| 366/366 [09:40<00:00,  1.58s/it, epoch=22, loss: =0.0424, batch per device: =2, img shape: =torch.Size([3, 1024, 1024]), LR=1.32e-5]\n",
      "100%|██████████| 366/366 [09:51<00:00,  1.62s/it, epoch=23, loss: =0.0493, batch per device: =2, img shape: =torch.Size([3, 1024, 1024]), LR=1.33e-5]\n",
      "100%|██████████| 366/366 [09:54<00:00,  1.62s/it, epoch=24, loss: =0.0415, batch per device: =2, img shape: =torch.Size([3, 1024, 1024]), LR=1.35e-5]\n",
      "100%|██████████| 366/366 [10:02<00:00,  1.65s/it, epoch=25, loss: =0.0436, batch per device: =2, img shape: =torch.Size([3, 1024, 1024]), LR=1.36e-5]\n",
      "100%|██████████| 366/366 [10:09<00:00,  1.67s/it, epoch=26, loss: =0.0427, batch per device: =2, img shape: =torch.Size([3, 1024, 1024]), LR=1.38e-5]\n",
      "100%|██████████| 366/366 [10:01<00:00,  1.64s/it, epoch=27, loss: =0.0424, batch per device: =2, img shape: =torch.Size([3, 1024, 1024]), LR=1.39e-5]\n",
      "100%|██████████| 366/366 [09:54<00:00,  1.63s/it, epoch=28, loss: =0.0416, batch per device: =2, img shape: =torch.Size([3, 1024, 1024]), LR=1.41e-5]\n",
      "100%|██████████| 366/366 [10:04<00:00,  1.65s/it, epoch=29, loss: =0.0414, batch per device: =2, img shape: =torch.Size([3, 1024, 1024]), LR=1.42e-5]\n",
      "100%|██████████| 366/366 [09:53<00:00,  1.62s/it, epoch=30, loss: =0.0394, batch per device: =2, img shape: =torch.Size([3, 1024, 1024]), LR=1.44e-5]\n",
      "100%|██████████| 366/366 [09:54<00:00,  1.63s/it, epoch=31, loss: =0.0419, batch per device: =2, img shape: =torch.Size([3, 1024, 1024]), LR=1.45e-5]\n"
     ]
    },
    {
     "name": "stdout",
     "output_type": "stream",
     "text": [
      "Start generating(ddim)...\n"
     ]
    },
    {
     "name": "stderr",
     "output_type": "stream",
     "text": [
      "100%|██████████| 50/50 [03:17<00:00,  3.96s/it]\n"
     ]
    },
    {
     "name": "stdout",
     "output_type": "stream",
     "text": [
      "ending sampling process(ddim)...\n"
     ]
    },
    {
     "name": "stderr",
     "output_type": "stream",
     "text": [
      "100%|██████████| 366/366 [09:45<00:00,  1.60s/it, epoch=32, loss: =0.0371, batch per device: =2, img shape: =torch.Size([3, 1024, 1024]), LR=1.47e-5]\n",
      "100%|██████████| 366/366 [09:58<00:00,  1.63s/it, epoch=33, loss: =0.0374, batch per device: =2, img shape: =torch.Size([3, 1024, 1024]), LR=1.48e-5]\n",
      "100%|██████████| 366/366 [10:02<00:00,  1.65s/it, epoch=34, loss: =0.0362, batch per device: =2, img shape: =torch.Size([3, 1024, 1024]), LR=1.5e-5]\n",
      "100%|██████████| 366/366 [09:51<00:00,  1.62s/it, epoch=35, loss: =0.0356, batch per device: =2, img shape: =torch.Size([3, 1024, 1024]), LR=1.51e-5]\n",
      "100%|██████████| 366/366 [09:53<00:00,  1.62s/it, epoch=36, loss: =0.0401, batch per device: =2, img shape: =torch.Size([3, 1024, 1024]), LR=1.52e-5]\n",
      "100%|██████████| 366/366 [09:54<00:00,  1.62s/it, epoch=37, loss: =0.0368, batch per device: =2, img shape: =torch.Size([3, 1024, 1024]), LR=1.54e-5]\n",
      "100%|██████████| 366/366 [10:02<00:00,  1.65s/it, epoch=38, loss: =0.0374, batch per device: =2, img shape: =torch.Size([3, 1024, 1024]), LR=1.56e-5]\n",
      "100%|██████████| 366/366 [09:56<00:00,  1.63s/it, epoch=39, loss: =0.0362, batch per device: =2, img shape: =torch.Size([3, 1024, 1024]), LR=1.57e-5]\n",
      "100%|██████████| 366/366 [09:56<00:00,  1.63s/it, epoch=40, loss: =0.0349, batch per device: =2, img shape: =torch.Size([3, 1024, 1024]), LR=1.59e-5]\n",
      "100%|██████████| 366/366 [09:48<00:00,  1.61s/it, epoch=41, loss: =0.0391, batch per device: =2, img shape: =torch.Size([3, 1024, 1024]), LR=1.6e-5]\n"
     ]
    },
    {
     "name": "stdout",
     "output_type": "stream",
     "text": [
      "Start generating(ddim)...\n"
     ]
    },
    {
     "name": "stderr",
     "output_type": "stream",
     "text": [
      "100%|██████████| 50/50 [01:46<00:00,  2.13s/it]\n"
     ]
    },
    {
     "name": "stdout",
     "output_type": "stream",
     "text": [
      "ending sampling process(ddim)...\n"
     ]
    },
    {
     "name": "stderr",
     "output_type": "stream",
     "text": [
      "100%|██████████| 366/366 [09:41<00:00,  1.59s/it, epoch=42, loss: =0.0339, batch per device: =2, img shape: =torch.Size([3, 1024, 1024]), LR=1.62e-5]\n",
      "100%|██████████| 366/366 [09:40<00:00,  1.59s/it, epoch=43, loss: =0.0367, batch per device: =2, img shape: =torch.Size([3, 1024, 1024]), LR=1.63e-5]\n",
      "100%|██████████| 366/366 [09:47<00:00,  1.61s/it, epoch=44, loss: =0.0308, batch per device: =2, img shape: =torch.Size([3, 1024, 1024]), LR=1.65e-5]\n",
      "100%|██████████| 366/366 [09:33<00:00,  1.57s/it, epoch=45, loss: =0.0327, batch per device: =2, img shape: =torch.Size([3, 1024, 1024]), LR=1.66e-5]\n",
      "100%|██████████| 366/366 [09:45<00:00,  1.60s/it, epoch=46, loss: =0.0364, batch per device: =2, img shape: =torch.Size([3, 1024, 1024]), LR=1.68e-5]\n",
      "100%|██████████| 366/366 [09:47<00:00,  1.60s/it, epoch=47, loss: =0.0352, batch per device: =2, img shape: =torch.Size([3, 1024, 1024]), LR=1.69e-5]\n",
      "100%|██████████| 366/366 [09:45<00:00,  1.60s/it, epoch=48, loss: =0.0327, batch per device: =2, img shape: =torch.Size([3, 1024, 1024]), LR=1.71e-5]\n",
      "100%|██████████| 366/366 [09:34<00:00,  1.57s/it, epoch=49, loss: =0.0337, batch per device: =2, img shape: =torch.Size([3, 1024, 1024]), LR=1.72e-5]\n",
      "100%|██████████| 366/366 [09:50<00:00,  1.61s/it, epoch=50, loss: =0.0321, batch per device: =2, img shape: =torch.Size([3, 1024, 1024]), LR=1.74e-5]\n",
      "100%|██████████| 366/366 [09:36<00:00,  1.58s/it, epoch=51, loss: =0.0345, batch per device: =2, img shape: =torch.Size([3, 1024, 1024]), LR=1.75e-5]\n"
     ]
    },
    {
     "name": "stdout",
     "output_type": "stream",
     "text": [
      "Start generating(ddim)...\n"
     ]
    },
    {
     "name": "stderr",
     "output_type": "stream",
     "text": [
      "100%|██████████| 50/50 [01:50<00:00,  2.21s/it]\n"
     ]
    },
    {
     "name": "stdout",
     "output_type": "stream",
     "text": [
      "ending sampling process(ddim)...\n"
     ]
    },
    {
     "name": "stderr",
     "output_type": "stream",
     "text": [
      "100%|██████████| 366/366 [09:39<00:00,  1.58s/it, epoch=52, loss: =0.0317, batch per device: =2, img shape: =torch.Size([3, 1024, 1024]), LR=1.77e-5]\n",
      "100%|██████████| 366/366 [09:39<00:00,  1.58s/it, epoch=53, loss: =0.0321, batch per device: =2, img shape: =torch.Size([3, 1024, 1024]), LR=1.78e-5]\n",
      "100%|██████████| 366/366 [09:46<00:00,  1.60s/it, epoch=54, loss: =0.0335, batch per device: =2, img shape: =torch.Size([3, 1024, 1024]), LR=1.79e-5]\n",
      "100%|██████████| 366/366 [09:50<00:00,  1.61s/it, epoch=55, loss: =0.032, batch per device: =2, img shape: =torch.Size([3, 1024, 1024]), LR=1.81e-5] \n",
      "100%|██████████| 366/366 [09:39<00:00,  1.58s/it, epoch=56, loss: =0.0328, batch per device: =2, img shape: =torch.Size([3, 1024, 1024]), LR=1.82e-5]\n",
      "100%|██████████| 366/366 [09:42<00:00,  1.59s/it, epoch=57, loss: =0.0305, batch per device: =2, img shape: =torch.Size([3, 1024, 1024]), LR=1.84e-5]\n",
      "100%|██████████| 366/366 [09:42<00:00,  1.59s/it, epoch=58, loss: =0.0339, batch per device: =2, img shape: =torch.Size([3, 1024, 1024]), LR=1.86e-5]\n",
      "100%|██████████| 366/366 [09:41<00:00,  1.59s/it, epoch=59, loss: =0.0326, batch per device: =2, img shape: =torch.Size([3, 1024, 1024]), LR=1.87e-5]\n",
      "100%|██████████| 366/366 [09:45<00:00,  1.60s/it, epoch=60, loss: =0.0358, batch per device: =2, img shape: =torch.Size([3, 1024, 1024]), LR=1.89e-5]\n",
      "100%|██████████| 366/366 [09:39<00:00,  1.58s/it, epoch=61, loss: =0.0298, batch per device: =2, img shape: =torch.Size([3, 1024, 1024]), LR=1.9e-5]\n"
     ]
    },
    {
     "name": "stdout",
     "output_type": "stream",
     "text": [
      "Start generating(ddim)...\n"
     ]
    },
    {
     "name": "stderr",
     "output_type": "stream",
     "text": [
      "100%|██████████| 50/50 [01:45<00:00,  2.11s/it]\n"
     ]
    },
    {
     "name": "stdout",
     "output_type": "stream",
     "text": [
      "ending sampling process(ddim)...\n"
     ]
    },
    {
     "name": "stderr",
     "output_type": "stream",
     "text": [
      "100%|██████████| 366/366 [09:35<00:00,  1.57s/it, epoch=62, loss: =0.0318, batch per device: =2, img shape: =torch.Size([3, 1024, 1024]), LR=1.92e-5]\n",
      "100%|██████████| 366/366 [09:37<00:00,  1.58s/it, epoch=63, loss: =0.0333, batch per device: =2, img shape: =torch.Size([3, 1024, 1024]), LR=1.93e-5]\n",
      "100%|██████████| 366/366 [09:44<00:00,  1.60s/it, epoch=64, loss: =0.0329, batch per device: =2, img shape: =torch.Size([3, 1024, 1024]), LR=1.94e-5]\n",
      "100%|██████████| 366/366 [09:42<00:00,  1.59s/it, epoch=65, loss: =0.033, batch per device: =2, img shape: =torch.Size([3, 1024, 1024]), LR=1.96e-5] \n",
      "100%|██████████| 366/366 [09:43<00:00,  1.59s/it, epoch=66, loss: =0.0317, batch per device: =2, img shape: =torch.Size([3, 1024, 1024]), LR=1.98e-5]\n",
      "100%|██████████| 366/366 [09:40<00:00,  1.59s/it, epoch=67, loss: =0.0311, batch per device: =2, img shape: =torch.Size([3, 1024, 1024]), LR=1.99e-5]\n",
      "100%|██████████| 366/366 [09:42<00:00,  1.59s/it, epoch=68, loss: =0.0325, batch per device: =2, img shape: =torch.Size([3, 1024, 1024]), LR=2e-5]\n",
      "100%|██████████| 366/366 [09:47<00:00,  1.60s/it, epoch=69, loss: =0.0315, batch per device: =2, img shape: =torch.Size([3, 1024, 1024]), LR=2.02e-5]\n",
      "100%|██████████| 366/366 [09:37<00:00,  1.58s/it, epoch=70, loss: =0.0342, batch per device: =2, img shape: =torch.Size([3, 1024, 1024]), LR=2.04e-5]\n",
      "100%|██████████| 366/366 [09:42<00:00,  1.59s/it, epoch=71, loss: =0.0295, batch per device: =2, img shape: =torch.Size([3, 1024, 1024]), LR=2.05e-5]\n"
     ]
    },
    {
     "name": "stdout",
     "output_type": "stream",
     "text": [
      "Start generating(ddim)...\n"
     ]
    },
    {
     "name": "stderr",
     "output_type": "stream",
     "text": [
      "100%|██████████| 50/50 [01:50<00:00,  2.21s/it]\n"
     ]
    },
    {
     "name": "stdout",
     "output_type": "stream",
     "text": [
      "ending sampling process(ddim)...\n"
     ]
    },
    {
     "name": "stderr",
     "output_type": "stream",
     "text": [
      "100%|██████████| 366/366 [09:40<00:00,  1.59s/it, epoch=72, loss: =0.0285, batch per device: =2, img shape: =torch.Size([3, 1024, 1024]), LR=2.07e-5]\n",
      "100%|██████████| 366/366 [09:39<00:00,  1.58s/it, epoch=73, loss: =0.0304, batch per device: =2, img shape: =torch.Size([3, 1024, 1024]), LR=2.08e-5]\n",
      "100%|██████████| 366/366 [09:38<00:00,  1.58s/it, epoch=74, loss: =0.0285, batch per device: =2, img shape: =torch.Size([3, 1024, 1024]), LR=2.09e-5]\n",
      "100%|██████████| 366/366 [09:45<00:00,  1.60s/it, epoch=75, loss: =0.031, batch per device: =2, img shape: =torch.Size([3, 1024, 1024]), LR=2.11e-5] \n",
      "100%|██████████| 366/366 [09:50<00:00,  1.61s/it, epoch=76, loss: =0.0297, batch per device: =2, img shape: =torch.Size([3, 1024, 1024]), LR=2.13e-5]\n",
      "100%|██████████| 366/366 [09:42<00:00,  1.59s/it, epoch=77, loss: =0.0295, batch per device: =2, img shape: =torch.Size([3, 1024, 1024]), LR=2.14e-5]\n",
      "100%|██████████| 366/366 [09:35<00:00,  1.57s/it, epoch=78, loss: =0.0283, batch per device: =2, img shape: =torch.Size([3, 1024, 1024]), LR=2.16e-5]\n",
      "100%|██████████| 366/366 [09:44<00:00,  1.60s/it, epoch=79, loss: =0.0297, batch per device: =2, img shape: =torch.Size([3, 1024, 1024]), LR=2.17e-5]\n",
      "100%|██████████| 366/366 [09:46<00:00,  1.60s/it, epoch=80, loss: =0.0302, batch per device: =2, img shape: =torch.Size([3, 1024, 1024]), LR=2.19e-5]\n",
      "100%|██████████| 366/366 [09:47<00:00,  1.60s/it, epoch=81, loss: =0.0293, batch per device: =2, img shape: =torch.Size([3, 1024, 1024]), LR=2.2e-5]\n"
     ]
    },
    {
     "name": "stdout",
     "output_type": "stream",
     "text": [
      "Start generating(ddim)...\n"
     ]
    },
    {
     "name": "stderr",
     "output_type": "stream",
     "text": [
      "100%|██████████| 50/50 [01:48<00:00,  2.17s/it]\n"
     ]
    },
    {
     "name": "stdout",
     "output_type": "stream",
     "text": [
      "ending sampling process(ddim)...\n"
     ]
    },
    {
     "name": "stderr",
     "output_type": "stream",
     "text": [
      "100%|██████████| 366/366 [09:40<00:00,  1.59s/it, epoch=82, loss: =0.0346, batch per device: =2, img shape: =torch.Size([3, 1024, 1024]), LR=2.21e-5]\n",
      "100%|██████████| 366/366 [09:38<00:00,  1.58s/it, epoch=83, loss: =0.0322, batch per device: =2, img shape: =torch.Size([3, 1024, 1024]), LR=2.23e-5]\n",
      "100%|██████████| 366/366 [09:49<00:00,  1.61s/it, epoch=84, loss: =0.0301, batch per device: =2, img shape: =torch.Size([3, 1024, 1024]), LR=2.25e-5]\n",
      "100%|██████████| 366/366 [09:48<00:00,  1.61s/it, epoch=85, loss: =0.0311, batch per device: =2, img shape: =torch.Size([3, 1024, 1024]), LR=2.26e-5]\n",
      "100%|██████████| 366/366 [09:39<00:00,  1.58s/it, epoch=86, loss: =0.0306, batch per device: =2, img shape: =torch.Size([3, 1024, 1024]), LR=2.28e-5]\n",
      "100%|██████████| 366/366 [09:50<00:00,  1.61s/it, epoch=87, loss: =0.0327, batch per device: =2, img shape: =torch.Size([3, 1024, 1024]), LR=2.29e-5]\n",
      "100%|██████████| 366/366 [09:42<00:00,  1.59s/it, epoch=88, loss: =0.0285, batch per device: =2, img shape: =torch.Size([3, 1024, 1024]), LR=2.3e-5]\n",
      "100%|██████████| 366/366 [09:48<00:00,  1.61s/it, epoch=89, loss: =0.0307, batch per device: =2, img shape: =torch.Size([3, 1024, 1024]), LR=2.32e-5]\n",
      "100%|██████████| 366/366 [09:43<00:00,  1.59s/it, epoch=90, loss: =0.0295, batch per device: =2, img shape: =torch.Size([3, 1024, 1024]), LR=2.34e-5]\n",
      "100%|██████████| 366/366 [09:37<00:00,  1.58s/it, epoch=91, loss: =0.031, batch per device: =2, img shape: =torch.Size([3, 1024, 1024]), LR=2.35e-5] \n"
     ]
    },
    {
     "name": "stdout",
     "output_type": "stream",
     "text": [
      "Start generating(ddim)...\n"
     ]
    },
    {
     "name": "stderr",
     "output_type": "stream",
     "text": [
      "100%|██████████| 50/50 [01:49<00:00,  2.20s/it]\n"
     ]
    },
    {
     "name": "stdout",
     "output_type": "stream",
     "text": [
      "ending sampling process(ddim)...\n"
     ]
    },
    {
     "name": "stderr",
     "output_type": "stream",
     "text": [
      "100%|██████████| 366/366 [09:35<00:00,  1.57s/it, epoch=92, loss: =0.0299, batch per device: =2, img shape: =torch.Size([3, 1024, 1024]), LR=2.37e-5]\n",
      "100%|██████████| 366/366 [09:45<00:00,  1.60s/it, epoch=93, loss: =0.0289, batch per device: =2, img shape: =torch.Size([3, 1024, 1024]), LR=2.38e-5]\n",
      "100%|██████████| 366/366 [09:49<00:00,  1.61s/it, epoch=94, loss: =0.0313, batch per device: =2, img shape: =torch.Size([3, 1024, 1024]), LR=2.4e-5]\n",
      "100%|██████████| 366/366 [09:47<00:00,  1.60s/it, epoch=95, loss: =0.031, batch per device: =2, img shape: =torch.Size([3, 1024, 1024]), LR=2.41e-5] \n",
      "100%|██████████| 366/366 [09:47<00:00,  1.61s/it, epoch=96, loss: =0.0312, batch per device: =2, img shape: =torch.Size([3, 1024, 1024]), LR=2.42e-5]\n",
      "100%|██████████| 366/366 [09:49<00:00,  1.61s/it, epoch=97, loss: =0.031, batch per device: =2, img shape: =torch.Size([3, 1024, 1024]), LR=2.44e-5] \n",
      "100%|██████████| 366/366 [09:48<00:00,  1.61s/it, epoch=98, loss: =0.0296, batch per device: =2, img shape: =torch.Size([3, 1024, 1024]), LR=2.46e-5]\n",
      "100%|██████████| 366/366 [09:48<00:00,  1.61s/it, epoch=99, loss: =0.0294, batch per device: =2, img shape: =torch.Size([3, 1024, 1024]), LR=2.47e-5]\n",
      "100%|██████████| 366/366 [09:52<00:00,  1.62s/it, epoch=100, loss: =0.031, batch per device: =2, img shape: =torch.Size([3, 1024, 1024]), LR=2.49e-5] \n",
      "100%|██████████| 366/366 [09:47<00:00,  1.60s/it, epoch=101, loss: =0.0301, batch per device: =2, img shape: =torch.Size([3, 1024, 1024]), LR=2.5e-5]\n"
     ]
    },
    {
     "name": "stdout",
     "output_type": "stream",
     "text": [
      "Start generating(ddim)...\n"
     ]
    },
    {
     "name": "stderr",
     "output_type": "stream",
     "text": [
      "100%|██████████| 50/50 [01:50<00:00,  2.22s/it]\n"
     ]
    },
    {
     "name": "stdout",
     "output_type": "stream",
     "text": [
      "ending sampling process(ddim)...\n"
     ]
    },
    {
     "name": "stderr",
     "output_type": "stream",
     "text": [
      "100%|██████████| 366/366 [09:48<00:00,  1.61s/it, epoch=102, loss: =0.0301, batch per device: =2, img shape: =torch.Size([3, 1024, 1024]), LR=1e-5]\n",
      "100%|██████████| 366/366 [09:39<00:00,  1.58s/it, epoch=103, loss: =0.0315, batch per device: =2, img shape: =torch.Size([3, 1024, 1024]), LR=9.76e-6]\n",
      "100%|██████████| 366/366 [09:46<00:00,  1.60s/it, epoch=104, loss: =0.031, batch per device: =2, img shape: =torch.Size([3, 1024, 1024]), LR=9.05e-6] \n",
      "100%|██████████| 366/366 [09:46<00:00,  1.60s/it, epoch=105, loss: =0.0289, batch per device: =2, img shape: =torch.Size([3, 1024, 1024]), LR=7.94e-6]\n",
      "100%|██████████| 366/366 [09:42<00:00,  1.59s/it, epoch=106, loss: =0.0292, batch per device: =2, img shape: =torch.Size([3, 1024, 1024]), LR=6.55e-6]\n",
      "100%|██████████| 366/366 [09:43<00:00,  1.59s/it, epoch=107, loss: =0.0303, batch per device: =2, img shape: =torch.Size([3, 1024, 1024]), LR=5e-6]\n",
      "100%|██████████| 366/366 [09:31<00:00,  1.56s/it, epoch=108, loss: =0.0261, batch per device: =2, img shape: =torch.Size([3, 1024, 1024]), LR=3.45e-6]\n",
      "100%|██████████| 366/366 [09:43<00:00,  1.59s/it, epoch=109, loss: =0.0272, batch per device: =2, img shape: =torch.Size([3, 1024, 1024]), LR=2.06e-6]\n",
      "100%|██████████| 366/366 [09:46<00:00,  1.60s/it, epoch=110, loss: =0.0279, batch per device: =2, img shape: =torch.Size([3, 1024, 1024]), LR=9.55e-7]\n",
      "100%|██████████| 366/366 [09:45<00:00,  1.60s/it, epoch=111, loss: =0.0281, batch per device: =2, img shape: =torch.Size([3, 1024, 1024]), LR=2.45e-7]\n"
     ]
    },
    {
     "name": "stdout",
     "output_type": "stream",
     "text": [
      "Start generating(ddim)...\n"
     ]
    },
    {
     "name": "stderr",
     "output_type": "stream",
     "text": [
      "100%|██████████| 50/50 [01:49<00:00,  2.19s/it]\n"
     ]
    },
    {
     "name": "stdout",
     "output_type": "stream",
     "text": [
      "ending sampling process(ddim)...\n"
     ]
    },
    {
     "name": "stderr",
     "output_type": "stream",
     "text": [
      "100%|██████████| 366/366 [09:43<00:00,  1.60s/it, epoch=112, loss: =0.0276, batch per device: =2, img shape: =torch.Size([3, 1024, 1024]), LR=0]\n",
      "100%|██████████| 366/366 [09:45<00:00,  1.60s/it, epoch=113, loss: =0.0313, batch per device: =2, img shape: =torch.Size([3, 1024, 1024]), LR=6.12e-7]\n",
      "100%|██████████| 366/366 [09:40<00:00,  1.58s/it, epoch=114, loss: =0.0285, batch per device: =2, img shape: =torch.Size([3, 1024, 1024]), LR=2.39e-6]\n",
      "100%|██████████| 366/366 [09:40<00:00,  1.59s/it, epoch=115, loss: =0.0303, batch per device: =2, img shape: =torch.Size([3, 1024, 1024]), LR=5.15e-6]\n",
      "100%|██████████| 366/366 [09:45<00:00,  1.60s/it, epoch=116, loss: =0.0281, batch per device: =2, img shape: =torch.Size([3, 1024, 1024]), LR=8.64e-6]\n",
      "100%|██████████| 366/366 [09:39<00:00,  1.58s/it, epoch=117, loss: =0.0303, batch per device: =2, img shape: =torch.Size([3, 1024, 1024]), LR=1.25e-5]\n",
      "100%|██████████| 366/366 [09:43<00:00,  1.59s/it, epoch=118, loss: =0.0295, batch per device: =2, img shape: =torch.Size([3, 1024, 1024]), LR=1.64e-5]\n",
      "100%|██████████| 366/366 [09:39<00:00,  1.58s/it, epoch=119, loss: =0.0282, batch per device: =2, img shape: =torch.Size([3, 1024, 1024]), LR=1.98e-5]\n",
      "100%|██████████| 366/366 [09:38<00:00,  1.58s/it, epoch=120, loss: =0.0281, batch per device: =2, img shape: =torch.Size([3, 1024, 1024]), LR=2.26e-5]\n",
      "100%|██████████| 366/366 [09:37<00:00,  1.58s/it, epoch=121, loss: =0.029, batch per device: =2, img shape: =torch.Size([3, 1024, 1024]), LR=2.44e-5] \n"
     ]
    },
    {
     "name": "stdout",
     "output_type": "stream",
     "text": [
      "Start generating(ddim)...\n"
     ]
    },
    {
     "name": "stderr",
     "output_type": "stream",
     "text": [
      "100%|██████████| 50/50 [01:48<00:00,  2.18s/it]\n"
     ]
    },
    {
     "name": "stdout",
     "output_type": "stream",
     "text": [
      "ending sampling process(ddim)...\n"
     ]
    },
    {
     "name": "stderr",
     "output_type": "stream",
     "text": [
      "100%|██████████| 366/366 [09:41<00:00,  1.59s/it, epoch=122, loss: =0.0263, batch per device: =2, img shape: =torch.Size([3, 1024, 1024]), LR=2.5e-5]\n",
      "100%|██████████| 366/366 [09:44<00:00,  1.60s/it, epoch=123, loss: =0.03, batch per device: =2, img shape: =torch.Size([3, 1024, 1024]), LR=2.44e-5]  \n",
      "100%|██████████| 366/366 [09:49<00:00,  1.61s/it, epoch=124, loss: =0.031, batch per device: =2, img shape: =torch.Size([3, 1024, 1024]), LR=2.26e-5] \n",
      "100%|██████████| 366/366 [09:42<00:00,  1.59s/it, epoch=125, loss: =0.0297, batch per device: =2, img shape: =torch.Size([3, 1024, 1024]), LR=1.98e-5]\n",
      "100%|██████████| 366/366 [09:33<00:00,  1.57s/it, epoch=126, loss: =0.026, batch per device: =2, img shape: =torch.Size([3, 1024, 1024]), LR=1.64e-5] \n",
      "100%|██████████| 366/366 [09:35<00:00,  1.57s/it, epoch=127, loss: =0.0299, batch per device: =2, img shape: =torch.Size([3, 1024, 1024]), LR=1.25e-5]\n",
      "100%|██████████| 366/366 [09:30<00:00,  1.56s/it, epoch=128, loss: =0.0295, batch per device: =2, img shape: =torch.Size([3, 1024, 1024]), LR=8.64e-6]\n",
      "100%|██████████| 366/366 [09:53<00:00,  1.62s/it, epoch=129, loss: =0.029, batch per device: =2, img shape: =torch.Size([3, 1024, 1024]), LR=5.15e-6] \n",
      "100%|██████████| 366/366 [09:33<00:00,  1.57s/it, epoch=130, loss: =0.0282, batch per device: =2, img shape: =torch.Size([3, 1024, 1024]), LR=2.39e-6]\n",
      "100%|██████████| 366/366 [09:41<00:00,  1.59s/it, epoch=131, loss: =0.029, batch per device: =2, img shape: =torch.Size([3, 1024, 1024]), LR=6.12e-7] \n"
     ]
    },
    {
     "name": "stdout",
     "output_type": "stream",
     "text": [
      "Start generating(ddim)...\n"
     ]
    },
    {
     "name": "stderr",
     "output_type": "stream",
     "text": [
      "100%|██████████| 50/50 [01:50<00:00,  2.21s/it]\n"
     ]
    },
    {
     "name": "stdout",
     "output_type": "stream",
     "text": [
      "ending sampling process(ddim)...\n"
     ]
    },
    {
     "name": "stderr",
     "output_type": "stream",
     "text": [
      "100%|██████████| 366/366 [09:46<00:00,  1.60s/it, epoch=132, loss: =0.0283, batch per device: =2, img shape: =torch.Size([3, 1024, 1024]), LR=0]\n",
      "100%|██████████| 366/366 [09:42<00:00,  1.59s/it, epoch=133, loss: =0.0268, batch per device: =2, img shape: =torch.Size([3, 1024, 1024]), LR=6.12e-7]\n",
      "100%|██████████| 366/366 [09:48<00:00,  1.61s/it, epoch=134, loss: =0.0274, batch per device: =2, img shape: =torch.Size([3, 1024, 1024]), LR=2.39e-6]\n",
      "100%|██████████| 366/366 [09:46<00:00,  1.60s/it, epoch=135, loss: =0.0273, batch per device: =2, img shape: =torch.Size([3, 1024, 1024]), LR=5.15e-6]\n",
      "100%|██████████| 366/366 [09:37<00:00,  1.58s/it, epoch=136, loss: =0.0283, batch per device: =2, img shape: =torch.Size([3, 1024, 1024]), LR=8.64e-6]\n",
      "100%|██████████| 366/366 [09:37<00:00,  1.58s/it, epoch=137, loss: =0.0283, batch per device: =2, img shape: =torch.Size([3, 1024, 1024]), LR=1.25e-5]\n",
      "100%|██████████| 366/366 [09:39<00:00,  1.58s/it, epoch=138, loss: =0.0284, batch per device: =2, img shape: =torch.Size([3, 1024, 1024]), LR=1.64e-5]\n",
      "100%|██████████| 366/366 [09:45<00:00,  1.60s/it, epoch=139, loss: =0.029, batch per device: =2, img shape: =torch.Size([3, 1024, 1024]), LR=1.98e-5] \n",
      "100%|██████████| 366/366 [09:36<00:00,  1.58s/it, epoch=140, loss: =0.0301, batch per device: =2, img shape: =torch.Size([3, 1024, 1024]), LR=2.26e-5]\n",
      "100%|██████████| 366/366 [09:41<00:00,  1.59s/it, epoch=141, loss: =0.0277, batch per device: =2, img shape: =torch.Size([3, 1024, 1024]), LR=2.44e-5]\n"
     ]
    },
    {
     "name": "stdout",
     "output_type": "stream",
     "text": [
      "Start generating(ddim)...\n"
     ]
    },
    {
     "name": "stderr",
     "output_type": "stream",
     "text": [
      "100%|██████████| 50/50 [01:50<00:00,  2.20s/it]\n"
     ]
    },
    {
     "name": "stdout",
     "output_type": "stream",
     "text": [
      "ending sampling process(ddim)...\n"
     ]
    },
    {
     "name": "stderr",
     "output_type": "stream",
     "text": [
      "100%|██████████| 366/366 [09:36<00:00,  1.58s/it, epoch=142, loss: =0.0291, batch per device: =2, img shape: =torch.Size([3, 1024, 1024]), LR=2.5e-5]\n",
      "100%|██████████| 366/366 [09:37<00:00,  1.58s/it, epoch=143, loss: =0.0284, batch per device: =2, img shape: =torch.Size([3, 1024, 1024]), LR=2.44e-5]\n",
      "100%|██████████| 366/366 [09:40<00:00,  1.59s/it, epoch=144, loss: =0.0268, batch per device: =2, img shape: =torch.Size([3, 1024, 1024]), LR=2.26e-5]\n",
      "100%|██████████| 366/366 [09:38<00:00,  1.58s/it, epoch=145, loss: =0.0294, batch per device: =2, img shape: =torch.Size([3, 1024, 1024]), LR=1.98e-5]\n",
      "100%|██████████| 366/366 [09:38<00:00,  1.58s/it, epoch=146, loss: =0.0283, batch per device: =2, img shape: =torch.Size([3, 1024, 1024]), LR=1.64e-5]\n",
      "100%|██████████| 366/366 [09:43<00:00,  1.59s/it, epoch=147, loss: =0.0284, batch per device: =2, img shape: =torch.Size([3, 1024, 1024]), LR=1.25e-5]\n",
      "100%|██████████| 366/366 [09:35<00:00,  1.57s/it, epoch=148, loss: =0.0271, batch per device: =2, img shape: =torch.Size([3, 1024, 1024]), LR=8.64e-6]\n",
      "100%|██████████| 366/366 [09:40<00:00,  1.59s/it, epoch=149, loss: =0.029, batch per device: =2, img shape: =torch.Size([3, 1024, 1024]), LR=5.15e-6] \n",
      "100%|██████████| 366/366 [09:42<00:00,  1.59s/it, epoch=150, loss: =0.0272, batch per device: =2, img shape: =torch.Size([3, 1024, 1024]), LR=2.39e-6]\n",
      "100%|██████████| 366/366 [09:42<00:00,  1.59s/it, epoch=151, loss: =0.0258, batch per device: =2, img shape: =torch.Size([3, 1024, 1024]), LR=6.12e-7]\n"
     ]
    },
    {
     "name": "stdout",
     "output_type": "stream",
     "text": [
      "Start generating(ddim)...\n"
     ]
    },
    {
     "name": "stderr",
     "output_type": "stream",
     "text": [
      "100%|██████████| 50/50 [01:50<00:00,  2.21s/it]\n"
     ]
    },
    {
     "name": "stdout",
     "output_type": "stream",
     "text": [
      "ending sampling process(ddim)...\n"
     ]
    },
    {
     "name": "stderr",
     "output_type": "stream",
     "text": [
      "100%|██████████| 366/366 [09:39<00:00,  1.58s/it, epoch=152, loss: =0.0283, batch per device: =2, img shape: =torch.Size([3, 1024, 1024]), LR=0]\n",
      "100%|██████████| 366/366 [09:32<00:00,  1.57s/it, epoch=153, loss: =0.0261, batch per device: =2, img shape: =torch.Size([3, 1024, 1024]), LR=6.12e-7]\n",
      "100%|██████████| 366/366 [09:43<00:00,  1.59s/it, epoch=154, loss: =0.0314, batch per device: =2, img shape: =torch.Size([3, 1024, 1024]), LR=2.39e-6]\n",
      "100%|██████████| 366/366 [09:40<00:00,  1.59s/it, epoch=155, loss: =0.0263, batch per device: =2, img shape: =torch.Size([3, 1024, 1024]), LR=5.15e-6]\n",
      "100%|██████████| 366/366 [09:47<00:00,  1.61s/it, epoch=156, loss: =0.0279, batch per device: =2, img shape: =torch.Size([3, 1024, 1024]), LR=8.64e-6]\n",
      "100%|██████████| 366/366 [09:46<00:00,  1.60s/it, epoch=157, loss: =0.0276, batch per device: =2, img shape: =torch.Size([3, 1024, 1024]), LR=1.25e-5]\n",
      "100%|██████████| 366/366 [09:41<00:00,  1.59s/it, epoch=158, loss: =0.0275, batch per device: =2, img shape: =torch.Size([3, 1024, 1024]), LR=1.64e-5]\n",
      "100%|██████████| 366/366 [09:40<00:00,  1.59s/it, epoch=159, loss: =0.0289, batch per device: =2, img shape: =torch.Size([3, 1024, 1024]), LR=1.98e-5]\n",
      "100%|██████████| 366/366 [09:36<00:00,  1.58s/it, epoch=160, loss: =0.0281, batch per device: =2, img shape: =torch.Size([3, 1024, 1024]), LR=2.26e-5]\n",
      "100%|██████████| 366/366 [09:44<00:00,  1.60s/it, epoch=161, loss: =0.0281, batch per device: =2, img shape: =torch.Size([3, 1024, 1024]), LR=2.44e-5]\n"
     ]
    },
    {
     "name": "stdout",
     "output_type": "stream",
     "text": [
      "Start generating(ddim)...\n"
     ]
    },
    {
     "name": "stderr",
     "output_type": "stream",
     "text": [
      "100%|██████████| 50/50 [01:51<00:00,  2.22s/it]\n"
     ]
    },
    {
     "name": "stdout",
     "output_type": "stream",
     "text": [
      "ending sampling process(ddim)...\n"
     ]
    },
    {
     "name": "stderr",
     "output_type": "stream",
     "text": [
      "100%|██████████| 366/366 [09:44<00:00,  1.60s/it, epoch=162, loss: =0.0279, batch per device: =2, img shape: =torch.Size([3, 1024, 1024]), LR=2.5e-5]\n",
      "100%|██████████| 366/366 [09:39<00:00,  1.58s/it, epoch=163, loss: =0.0277, batch per device: =2, img shape: =torch.Size([3, 1024, 1024]), LR=2.44e-5]\n",
      "100%|██████████| 366/366 [09:44<00:00,  1.60s/it, epoch=164, loss: =0.027, batch per device: =2, img shape: =torch.Size([3, 1024, 1024]), LR=2.26e-5] \n",
      "100%|██████████| 366/366 [09:43<00:00,  1.59s/it, epoch=165, loss: =0.0275, batch per device: =2, img shape: =torch.Size([3, 1024, 1024]), LR=1.98e-5]\n",
      "100%|██████████| 366/366 [09:44<00:00,  1.60s/it, epoch=166, loss: =0.0255, batch per device: =2, img shape: =torch.Size([3, 1024, 1024]), LR=1.64e-5]\n",
      "100%|██████████| 366/366 [09:41<00:00,  1.59s/it, epoch=167, loss: =0.0296, batch per device: =2, img shape: =torch.Size([3, 1024, 1024]), LR=1.25e-5]\n",
      "100%|██████████| 366/366 [09:34<00:00,  1.57s/it, epoch=168, loss: =0.0303, batch per device: =2, img shape: =torch.Size([3, 1024, 1024]), LR=8.64e-6]\n",
      "100%|██████████| 366/366 [09:37<00:00,  1.58s/it, epoch=169, loss: =0.027, batch per device: =2, img shape: =torch.Size([3, 1024, 1024]), LR=5.15e-6] \n",
      "100%|██████████| 366/366 [09:35<00:00,  1.57s/it, epoch=170, loss: =0.0253, batch per device: =2, img shape: =torch.Size([3, 1024, 1024]), LR=2.39e-6]\n",
      "100%|██████████| 366/366 [09:33<00:00,  1.57s/it, epoch=171, loss: =0.029, batch per device: =2, img shape: =torch.Size([3, 1024, 1024]), LR=6.12e-7] \n"
     ]
    },
    {
     "name": "stdout",
     "output_type": "stream",
     "text": [
      "Start generating(ddim)...\n"
     ]
    },
    {
     "name": "stderr",
     "output_type": "stream",
     "text": [
      "100%|██████████| 50/50 [01:50<00:00,  2.22s/it]\n"
     ]
    },
    {
     "name": "stdout",
     "output_type": "stream",
     "text": [
      "ending sampling process(ddim)...\n"
     ]
    },
    {
     "name": "stderr",
     "output_type": "stream",
     "text": [
      "100%|██████████| 366/366 [09:43<00:00,  1.59s/it, epoch=172, loss: =0.0279, batch per device: =2, img shape: =torch.Size([3, 1024, 1024]), LR=0]\n",
      "100%|██████████| 366/366 [09:34<00:00,  1.57s/it, epoch=173, loss: =0.0289, batch per device: =2, img shape: =torch.Size([3, 1024, 1024]), LR=6.12e-7]\n",
      "100%|██████████| 366/366 [09:43<00:00,  1.60s/it, epoch=174, loss: =0.0262, batch per device: =2, img shape: =torch.Size([3, 1024, 1024]), LR=2.39e-6]\n",
      "100%|██████████| 366/366 [09:35<00:00,  1.57s/it, epoch=175, loss: =0.0269, batch per device: =2, img shape: =torch.Size([3, 1024, 1024]), LR=5.15e-6]\n",
      "100%|██████████| 366/366 [09:39<00:00,  1.58s/it, epoch=176, loss: =0.0286, batch per device: =2, img shape: =torch.Size([3, 1024, 1024]), LR=8.64e-6]\n",
      "100%|██████████| 366/366 [09:42<00:00,  1.59s/it, epoch=177, loss: =0.0286, batch per device: =2, img shape: =torch.Size([3, 1024, 1024]), LR=1.25e-5]\n",
      "100%|██████████| 366/366 [09:52<00:00,  1.62s/it, epoch=178, loss: =0.0271, batch per device: =2, img shape: =torch.Size([3, 1024, 1024]), LR=1.64e-5]\n",
      "100%|██████████| 366/366 [09:39<00:00,  1.58s/it, epoch=179, loss: =0.027, batch per device: =2, img shape: =torch.Size([3, 1024, 1024]), LR=1.98e-5] \n",
      "100%|██████████| 366/366 [09:43<00:00,  1.59s/it, epoch=180, loss: =0.0279, batch per device: =2, img shape: =torch.Size([3, 1024, 1024]), LR=2.26e-5]\n",
      "100%|██████████| 366/366 [09:39<00:00,  1.58s/it, epoch=181, loss: =0.0267, batch per device: =2, img shape: =torch.Size([3, 1024, 1024]), LR=2.44e-5]\n"
     ]
    },
    {
     "name": "stdout",
     "output_type": "stream",
     "text": [
      "Start generating(ddim)...\n"
     ]
    },
    {
     "name": "stderr",
     "output_type": "stream",
     "text": [
      "100%|██████████| 50/50 [01:50<00:00,  2.21s/it]\n"
     ]
    },
    {
     "name": "stdout",
     "output_type": "stream",
     "text": [
      "ending sampling process(ddim)...\n"
     ]
    },
    {
     "name": "stderr",
     "output_type": "stream",
     "text": [
      "100%|██████████| 366/366 [09:44<00:00,  1.60s/it, epoch=182, loss: =0.0271, batch per device: =2, img shape: =torch.Size([3, 1024, 1024]), LR=2.5e-5]\n",
      "100%|██████████| 366/366 [09:40<00:00,  1.59s/it, epoch=183, loss: =0.0279, batch per device: =2, img shape: =torch.Size([3, 1024, 1024]), LR=2.44e-5]\n",
      "100%|██████████| 366/366 [09:41<00:00,  1.59s/it, epoch=184, loss: =0.027, batch per device: =2, img shape: =torch.Size([3, 1024, 1024]), LR=2.26e-5] \n",
      "100%|██████████| 366/366 [09:39<00:00,  1.58s/it, epoch=185, loss: =0.028, batch per device: =2, img shape: =torch.Size([3, 1024, 1024]), LR=1.98e-5] \n",
      "100%|██████████| 366/366 [09:41<00:00,  1.59s/it, epoch=186, loss: =0.0252, batch per device: =2, img shape: =torch.Size([3, 1024, 1024]), LR=1.64e-5]\n",
      "100%|██████████| 366/366 [09:44<00:00,  1.60s/it, epoch=187, loss: =0.0251, batch per device: =2, img shape: =torch.Size([3, 1024, 1024]), LR=1.25e-5]\n",
      "100%|██████████| 366/366 [09:45<00:00,  1.60s/it, epoch=188, loss: =0.03, batch per device: =2, img shape: =torch.Size([3, 1024, 1024]), LR=8.64e-6]  \n",
      "100%|██████████| 366/366 [09:43<00:00,  1.59s/it, epoch=189, loss: =0.0274, batch per device: =2, img shape: =torch.Size([3, 1024, 1024]), LR=5.15e-6]\n",
      "100%|██████████| 366/366 [09:43<00:00,  1.60s/it, epoch=190, loss: =0.0267, batch per device: =2, img shape: =torch.Size([3, 1024, 1024]), LR=2.39e-6]\n",
      "100%|██████████| 366/366 [09:37<00:00,  1.58s/it, epoch=191, loss: =0.0264, batch per device: =2, img shape: =torch.Size([3, 1024, 1024]), LR=6.12e-7]\n"
     ]
    },
    {
     "name": "stdout",
     "output_type": "stream",
     "text": [
      "Start generating(ddim)...\n"
     ]
    },
    {
     "name": "stderr",
     "output_type": "stream",
     "text": [
      "100%|██████████| 50/50 [01:49<00:00,  2.20s/it]\n"
     ]
    },
    {
     "name": "stdout",
     "output_type": "stream",
     "text": [
      "ending sampling process(ddim)...\n"
     ]
    },
    {
     "name": "stderr",
     "output_type": "stream",
     "text": [
      "100%|██████████| 366/366 [09:41<00:00,  1.59s/it, epoch=192, loss: =0.029, batch per device: =2, img shape: =torch.Size([3, 1024, 1024]), LR=0] \n",
      "100%|██████████| 366/366 [09:41<00:00,  1.59s/it, epoch=193, loss: =0.0288, batch per device: =2, img shape: =torch.Size([3, 1024, 1024]), LR=6.12e-7]\n",
      "100%|██████████| 366/366 [09:35<00:00,  1.57s/it, epoch=194, loss: =0.0271, batch per device: =2, img shape: =torch.Size([3, 1024, 1024]), LR=2.39e-6]\n",
      "100%|██████████| 366/366 [09:41<00:00,  1.59s/it, epoch=195, loss: =0.0255, batch per device: =2, img shape: =torch.Size([3, 1024, 1024]), LR=5.15e-6]\n",
      "100%|██████████| 366/366 [09:34<00:00,  1.57s/it, epoch=196, loss: =0.0266, batch per device: =2, img shape: =torch.Size([3, 1024, 1024]), LR=8.64e-6]\n",
      "100%|██████████| 366/366 [09:47<00:00,  1.61s/it, epoch=197, loss: =0.0268, batch per device: =2, img shape: =torch.Size([3, 1024, 1024]), LR=1.25e-5]\n",
      "100%|██████████| 366/366 [09:41<00:00,  1.59s/it, epoch=198, loss: =0.0265, batch per device: =2, img shape: =torch.Size([3, 1024, 1024]), LR=1.64e-5]\n",
      "100%|██████████| 366/366 [09:35<00:00,  1.57s/it, epoch=199, loss: =0.0301, batch per device: =2, img shape: =torch.Size([3, 1024, 1024]), LR=1.98e-5]\n",
      "100%|██████████| 366/366 [09:46<00:00,  1.60s/it, epoch=200, loss: =0.0269, batch per device: =2, img shape: =torch.Size([3, 1024, 1024]), LR=2.26e-5]\n",
      "100%|██████████| 366/366 [09:42<00:00,  1.59s/it, epoch=201, loss: =0.0262, batch per device: =2, img shape: =torch.Size([3, 1024, 1024]), LR=2.44e-5]\n"
     ]
    },
    {
     "name": "stdout",
     "output_type": "stream",
     "text": [
      "Start generating(ddim)...\n"
     ]
    },
    {
     "name": "stderr",
     "output_type": "stream",
     "text": [
      "100%|██████████| 50/50 [01:50<00:00,  2.22s/it]\n"
     ]
    },
    {
     "name": "stdout",
     "output_type": "stream",
     "text": [
      "ending sampling process(ddim)...\n"
     ]
    },
    {
     "name": "stderr",
     "output_type": "stream",
     "text": [
      "100%|██████████| 366/366 [09:43<00:00,  1.59s/it, epoch=202, loss: =0.0263, batch per device: =2, img shape: =torch.Size([3, 1024, 1024]), LR=2.5e-5]\n",
      "100%|██████████| 366/366 [09:40<00:00,  1.59s/it, epoch=203, loss: =0.0299, batch per device: =2, img shape: =torch.Size([3, 1024, 1024]), LR=2.44e-5]\n",
      "100%|██████████| 366/366 [09:51<00:00,  1.62s/it, epoch=204, loss: =0.0294, batch per device: =2, img shape: =torch.Size([3, 1024, 1024]), LR=2.26e-5]\n",
      "100%|██████████| 366/366 [09:46<00:00,  1.60s/it, epoch=205, loss: =0.028, batch per device: =2, img shape: =torch.Size([3, 1024, 1024]), LR=1.98e-5] \n",
      "100%|██████████| 366/366 [09:36<00:00,  1.57s/it, epoch=206, loss: =0.0279, batch per device: =2, img shape: =torch.Size([3, 1024, 1024]), LR=1.64e-5]\n",
      "100%|██████████| 366/366 [09:34<00:00,  1.57s/it, epoch=207, loss: =0.0267, batch per device: =2, img shape: =torch.Size([3, 1024, 1024]), LR=1.25e-5]\n",
      "100%|██████████| 366/366 [09:35<00:00,  1.57s/it, epoch=208, loss: =0.0282, batch per device: =2, img shape: =torch.Size([3, 1024, 1024]), LR=8.64e-6]\n",
      "100%|██████████| 366/366 [09:43<00:00,  1.59s/it, epoch=209, loss: =0.028, batch per device: =2, img shape: =torch.Size([3, 1024, 1024]), LR=5.15e-6] \n",
      "100%|██████████| 366/366 [09:48<00:00,  1.61s/it, epoch=210, loss: =0.0274, batch per device: =2, img shape: =torch.Size([3, 1024, 1024]), LR=2.39e-6]\n",
      "100%|██████████| 366/366 [09:39<00:00,  1.58s/it, epoch=211, loss: =0.027, batch per device: =2, img shape: =torch.Size([3, 1024, 1024]), LR=6.12e-7] \n"
     ]
    },
    {
     "name": "stdout",
     "output_type": "stream",
     "text": [
      "Start generating(ddim)...\n"
     ]
    },
    {
     "name": "stderr",
     "output_type": "stream",
     "text": [
      "100%|██████████| 50/50 [01:50<00:00,  2.22s/it]\n"
     ]
    },
    {
     "name": "stdout",
     "output_type": "stream",
     "text": [
      "ending sampling process(ddim)...\n"
     ]
    },
    {
     "name": "stderr",
     "output_type": "stream",
     "text": [
      "100%|██████████| 366/366 [09:43<00:00,  1.59s/it, epoch=212, loss: =0.0265, batch per device: =2, img shape: =torch.Size([3, 1024, 1024]), LR=0]\n",
      "100%|██████████| 366/366 [09:37<00:00,  1.58s/it, epoch=213, loss: =0.0285, batch per device: =2, img shape: =torch.Size([3, 1024, 1024]), LR=6.12e-7]\n",
      "100%|██████████| 366/366 [09:49<00:00,  1.61s/it, epoch=214, loss: =0.0274, batch per device: =2, img shape: =torch.Size([3, 1024, 1024]), LR=2.39e-6]\n",
      "100%|██████████| 366/366 [09:48<00:00,  1.61s/it, epoch=215, loss: =0.0273, batch per device: =2, img shape: =torch.Size([3, 1024, 1024]), LR=5.15e-6]\n",
      "100%|██████████| 366/366 [09:38<00:00,  1.58s/it, epoch=216, loss: =0.0292, batch per device: =2, img shape: =torch.Size([3, 1024, 1024]), LR=8.64e-6]\n",
      "100%|██████████| 366/366 [09:41<00:00,  1.59s/it, epoch=217, loss: =0.0261, batch per device: =2, img shape: =torch.Size([3, 1024, 1024]), LR=1.25e-5]\n",
      "100%|██████████| 366/366 [09:36<00:00,  1.58s/it, epoch=218, loss: =0.0262, batch per device: =2, img shape: =torch.Size([3, 1024, 1024]), LR=1.64e-5]\n",
      "100%|██████████| 366/366 [09:50<00:00,  1.61s/it, epoch=219, loss: =0.0266, batch per device: =2, img shape: =torch.Size([3, 1024, 1024]), LR=1.98e-5]\n",
      "100%|██████████| 366/366 [09:51<00:00,  1.62s/it, epoch=220, loss: =0.028, batch per device: =2, img shape: =torch.Size([3, 1024, 1024]), LR=2.26e-5] \n",
      "100%|██████████| 366/366 [09:36<00:00,  1.57s/it, epoch=221, loss: =0.0275, batch per device: =2, img shape: =torch.Size([3, 1024, 1024]), LR=2.44e-5]\n"
     ]
    },
    {
     "name": "stdout",
     "output_type": "stream",
     "text": [
      "Start generating(ddim)...\n"
     ]
    },
    {
     "name": "stderr",
     "output_type": "stream",
     "text": [
      "100%|██████████| 50/50 [01:48<00:00,  2.16s/it]\n"
     ]
    },
    {
     "name": "stdout",
     "output_type": "stream",
     "text": [
      "ending sampling process(ddim)...\n"
     ]
    },
    {
     "name": "stderr",
     "output_type": "stream",
     "text": [
      "100%|██████████| 366/366 [09:48<00:00,  1.61s/it, epoch=222, loss: =0.0278, batch per device: =2, img shape: =torch.Size([3, 1024, 1024]), LR=2.5e-5]\n",
      "100%|██████████| 366/366 [09:47<00:00,  1.61s/it, epoch=223, loss: =0.0271, batch per device: =2, img shape: =torch.Size([3, 1024, 1024]), LR=2.44e-5]\n",
      "100%|██████████| 366/366 [09:41<00:00,  1.59s/it, epoch=224, loss: =0.0279, batch per device: =2, img shape: =torch.Size([3, 1024, 1024]), LR=2.26e-5]\n",
      "100%|██████████| 366/366 [09:37<00:00,  1.58s/it, epoch=225, loss: =0.0263, batch per device: =2, img shape: =torch.Size([3, 1024, 1024]), LR=1.98e-5]\n",
      "100%|██████████| 366/366 [09:40<00:00,  1.59s/it, epoch=226, loss: =0.0279, batch per device: =2, img shape: =torch.Size([3, 1024, 1024]), LR=1.64e-5]\n",
      "100%|██████████| 366/366 [09:44<00:00,  1.60s/it, epoch=227, loss: =0.0257, batch per device: =2, img shape: =torch.Size([3, 1024, 1024]), LR=1.25e-5]\n",
      "100%|██████████| 366/366 [09:38<00:00,  1.58s/it, epoch=228, loss: =0.0288, batch per device: =2, img shape: =torch.Size([3, 1024, 1024]), LR=8.64e-6]\n",
      "100%|██████████| 366/366 [09:40<00:00,  1.59s/it, epoch=229, loss: =0.0279, batch per device: =2, img shape: =torch.Size([3, 1024, 1024]), LR=5.15e-6]\n",
      "100%|██████████| 366/366 [09:38<00:00,  1.58s/it, epoch=230, loss: =0.026, batch per device: =2, img shape: =torch.Size([3, 1024, 1024]), LR=2.39e-6] \n",
      "100%|██████████| 366/366 [09:40<00:00,  1.59s/it, epoch=231, loss: =0.026, batch per device: =2, img shape: =torch.Size([3, 1024, 1024]), LR=6.12e-7] \n"
     ]
    },
    {
     "name": "stdout",
     "output_type": "stream",
     "text": [
      "Start generating(ddim)...\n"
     ]
    },
    {
     "name": "stderr",
     "output_type": "stream",
     "text": [
      "100%|██████████| 50/50 [01:50<00:00,  2.20s/it]\n"
     ]
    },
    {
     "name": "stdout",
     "output_type": "stream",
     "text": [
      "ending sampling process(ddim)...\n"
     ]
    }
   ],
   "source": [
    "\n",
    "for epc in range(250,params['epochs']):\n",
    "    diffusion.model.train()\n",
    "    cemblayer.train()\n",
    "    total_loss=0\n",
    "    steps=0\n",
    "    with tqdm(dataloader, dynamic_ncols=True) as tqdmDataLoader:\n",
    "        for img, lab in tqdmDataLoader:\n",
    "            b = img.shape[0]\n",
    "            optimizer.zero_grad()\n",
    "            x_0 = img.to(device)\n",
    "            lab = lab.to(device)\n",
    "            cemb = cemblayer(lab)\n",
    "            cemb[np.where(np.random.rand(b)<params['threshold'])] = 0\n",
    "            loss = diffusion.trainloss(x_0, cemb = cemb)\n",
    "            loss.backward()\n",
    "            optimizer.step()\n",
    "            steps+=1\n",
    "            total_loss+=loss.item()\n",
    "            tqdmDataLoader.set_postfix(\n",
    "                ordered_dict={\n",
    "                    \"epoch\": epc + 1,\n",
    "                    \"loss: \": total_loss/steps,\n",
    "                    \"batch per device: \":x_0.shape[0],\n",
    "                    \"img shape: \": x_0.shape[1:],\n",
    "                    \"LR\": optimizer.state_dict()['param_groups'][0][\"lr\"]\n",
    "                }\n",
    "            )\n",
    "    warmUpScheduler.step()\n",
    "    if (epc) % 10 == 0:\n",
    "        diffusion.model.eval()\n",
    "        cemblayer.eval()\n",
    "        all_samples = []\n",
    "        each_device_batch =10\n",
    "        with torch.no_grad():\n",
    "            lab = torch.ones(len(class_list), each_device_batch // len(class_list)).type(torch.long) \\\n",
    "            * torch.arange(start = 0, end = len(class_list)).reshape(-1, 1)\n",
    "            lab = lab.reshape(-1, 1).squeeze()\n",
    "            lab = lab.to(device)\n",
    "            cemb = cemblayer(lab)\n",
    "            genshape = (each_device_batch , 3, params['image_size'], params['image_size'])\n",
    "            if params['ddim']:\n",
    "                generated = diffusion.ddim_sample(genshape, 50, 0, 'linear', cemb = cemb)\n",
    "            else:\n",
    "                generated = diffusion.sample(genshape, cemb = cemb)\n",
    "            img = transback(generated)\n",
    "            img = img.reshape(len(class_list), each_device_batch // len(class_list), 3, params['image_size'], params['image_size']).contiguous()\n",
    "            all_samples.append(img)\n",
    "            samples = torch.concat(all_samples, dim = 1).reshape(each_device_batch, 3, params['image_size'], params['image_size'])\n",
    "\n",
    "        save_image(samples,f'../../result/Detail/STNT/generated_{epc+1}_pict.png', nrow = each_device_batch // len(class_list))\n",
    "        # save checkpoints\n",
    "        checkpoint = {\n",
    "                            'net':diffusion.model.state_dict(),\n",
    "                            'cemblayer':cemblayer.state_dict(),\n",
    "                            'optimizer':optimizer.state_dict(),\n",
    "                            'scheduler':warmUpScheduler.state_dict()\n",
    "                        }\n",
    "        torch.save(checkpoint, f'../../model/conditionDiff/details/STNT/ckpt_{epc+1}_checkpoint.pt')\n",
    "    torch.cuda.empty_cache()"
   ]
  }
 ],
 "metadata": {
  "kernelspec": {
   "display_name": "LeeYS",
   "language": "python",
   "name": "python3"
  },
  "language_info": {
   "codemirror_mode": {
    "name": "ipython",
    "version": 3
   },
   "file_extension": ".py",
   "mimetype": "text/x-python",
   "name": "python",
   "nbconvert_exporter": "python",
   "pygments_lexer": "ipython3",
   "version": "3.10.4"
  }
 },
 "nbformat": 4,
 "nbformat_minor": 2
}
