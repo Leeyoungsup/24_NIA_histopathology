{
 "cells": [
  {
   "cell_type": "code",
   "execution_count": 1,
   "metadata": {},
   "outputs": [],
   "source": [
    "from glob import glob\n",
    "import shutil\n",
    "from PIL import Image\n",
    "import os\n",
    "\n",
    "from tqdm import tqdm\n",
    "def createDirectory(directory):\n",
    "    \"\"\"_summary_\n",
    "        create Directory\n",
    "    Args:\n",
    "        directory (string): file_path\n",
    "    \"\"\"    \n",
    "    try:\n",
    "        if not os.path.exists(directory):\n",
    "            os.makedirs(directory)\n",
    "    except OSError:\n",
    "        print(\"Error: Failed to create the directory.\")\n"
   ]
  },
  {
   "cell_type": "code",
   "execution_count": 4,
   "metadata": {},
   "outputs": [
    {
     "name": "stderr",
     "output_type": "stream",
     "text": [
      "100%|██████████| 3784/3784 [00:11<00:00, 320.26it/s]\n"
     ]
    }
   ],
   "source": [
    "file_list=glob('../../data/origin_type/**/**/*.jpeg')\n",
    "save_list=[f.replace('/origin_type', '/Image_down/origin') for f in file_list]\n",
    "for j in tqdm(range(len(file_list))):\n",
    "    createDirectory(os.path.dirname(save_list[j]))\n",
    "    shutil.move(file_list[j],save_list[j])"
   ]
  },
  {
   "cell_type": "code",
   "execution_count": null,
   "metadata": {},
   "outputs": [],
   "source": [
    "for i in tqdm(range(len(file_list))):\n",
    "\n",
    "    class_name=os.path.dirname(file_list[i]).split('유형')[1]\n",
    "    carcinoma=os.path.basename(os.path.dirname(os.path.dirname(file_list[i])))\n",
    "    serial_number=os.path.basename(file_list[i]).split('.png')[0]\n",
    "    im = Image.open(file_list[i])\n",
    "    im.save(f\"{os.path.dirname(file_list[i])}/NIA_S_{carcinoma}_{class_name}_{serial_number.zfill(6)}.jpeg\")\n",
    "    os.remove(file_list[i])"
   ]
  },
  {
   "cell_type": "code",
   "execution_count": 3,
   "metadata": {},
   "outputs": [
    {
     "name": "stderr",
     "output_type": "stream",
     "text": [
      "100%|██████████| 916/916 [00:08<00:00, 107.28it/s]\n",
      "100%|██████████| 916/916 [00:08<00:00, 112.08it/s]\n",
      "100%|██████████| 916/916 [00:08<00:00, 109.27it/s]\n",
      "100%|██████████| 916/916 [00:07<00:00, 117.30it/s]\n"
     ]
    }
   ],
   "source": [
    "path_list=glob('../../result/synth/BRID/**/')\n",
    "for i in range(len(path_list)):\n",
    "    file_list=glob(path_list[i]+'*.jpeg')\n",
    "    for j in tqdm(range(len(file_list))):\n",
    "        shutil.move(file_list[j],file_list[j].replace('_00', '_10'))\n",
    "        \n",
    "    "
   ]
  }
 ],
 "metadata": {
  "kernelspec": {
   "display_name": "LeeYS",
   "language": "python",
   "name": "python3"
  },
  "language_info": {
   "codemirror_mode": {
    "name": "ipython",
    "version": 3
   },
   "file_extension": ".py",
   "mimetype": "text/x-python",
   "name": "python",
   "nbconvert_exporter": "python",
   "pygments_lexer": "ipython3",
   "version": "3.10.14"
  }
 },
 "nbformat": 4,
 "nbformat_minor": 2
}
