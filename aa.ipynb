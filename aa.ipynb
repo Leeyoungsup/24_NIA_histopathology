{
 "cells": [
  {
   "cell_type": "code",
   "execution_count": null,
   "metadata": {},
   "outputs": [],
   "source": [
    "from glob import glob\n",
    "import shutil\n",
    "from PIL import Image\n",
    "import os\n",
    "from random import shuffle\n",
    "from tqdm import tqdm\n",
    "import cv2\n",
    "import numpy as np\n",
    "def createDirectory(directory):\n",
    "    \"\"\"_summary_\n",
    "        create Directory\n",
    "    Args:\n",
    "        directory (string): file_path\n",
    "    \"\"\"    \n",
    "    try:\n",
    "        if not os.path.exists(directory):\n",
    "            os.makedirs(directory)\n",
    "    except OSError:\n",
    "        print(\"Error: Failed to create the directory.\")\n"
   ]
  },
  {
   "cell_type": "code",
   "execution_count": null,
   "metadata": {},
   "outputs": [],
   "source": [
    "import matplotlib.pyplot as plt\n",
    "img=cv2.imread('../../data/normalization_type/NIA6_R_BRDC_BRCA-AJ-00158-S-TP-02_42_20.jpeg')\n",
    "mask=np.zeros((img.shape[0],img.shape[1]),dtype=np.uint8)\n",
    "mask=np.where(img.std(axis=2)<3,255,0)\n",
    "Image.fromarray(mask.astype(np.uint8)).save('../../data/normalization_type/NIA6_R_BRDC_BRCA-AJ-00158-S-TP-02_42_20_mask.jpeg')\n"
   ]
  },
  {
   "cell_type": "code",
   "execution_count": null,
   "metadata": {},
   "outputs": [],
   "source": [
    "file_list=glob('../../data/origin_type/**/**/*.jpeg')\n",
    "save_list=[f.replace('/origin_type', '/Image_down/origin') for f in file_list]\n",
    "for j in tqdm(range(len(file_list))):\n",
    "    createDirectory(os.path.dirname(save_list[j]))\n",
    "    shutil.copy(file_list[j],save_list[j])"
   ]
  },
  {
   "cell_type": "code",
   "execution_count": null,
   "metadata": {},
   "outputs": [],
   "source": [
    "file_list=glob('../../data/synth/json/**/**/*.jpeg')\n",
    "save_list=[f.replace('/synth/json/_', '/Image_down/synth/') for f in file_list]\n",
    "shuffle(save_list)\n",
    "for j in tqdm(range(15970)):\n",
    "    createDirectory(os.path.dirname(save_list[j]))\n",
    "    shutil.copy(file_list[j],save_list[j])"
   ]
  },
  {
   "cell_type": "code",
   "execution_count": null,
   "metadata": {},
   "outputs": [],
   "source": [
    "carcinoma='STMX'\n",
    "Refined_file_list=glob('../../data/origin_type/'+carcinoma+'/**/*.jpeg')\n",
    "Refined_wsi_list=list(set([os.path.basename(f).split('_')[3] for f in Refined_file_list]))\n",
    "Whole_file_list=glob('../../data/NIA/'+carcinoma+'/*.jpeg')\n",
    "Whole_wsi_list=list(set([os.path.basename(f).split('_')[3] for f in Whole_file_list]))\n",
    "print(len(Whole_wsi_list),len(Refined_wsi_list),len(Whole_file_list),len(Refined_file_list))"
   ]
  },
  {
   "cell_type": "code",
   "execution_count": null,
   "metadata": {},
   "outputs": [],
   "source": [
    "path_list=glob('../../result/synth/**/**/*.jpeg')\n",
    "for i in range(len(path_list)):\n",
    "    file_name=path_list[i].replace('/result/synth/','/result/synth_1/')\n",
    "    shutil.move(path_list[i],file_name)\n",
    "    "
   ]
  },
  {
   "cell_type": "code",
   "execution_count": null,
   "metadata": {},
   "outputs": [],
   "source": [
    "import torch\n",
    "import torchvision\n",
    "topilimage = torchvision.transforms.ToPILImage()\n",
    "topilimage(torch.randn((3,1024,1024)))"
   ]
  },
  {
   "cell_type": "code",
   "execution_count": null,
   "metadata": {},
   "outputs": [],
   "source": [
    "\n",
    "import os\n",
    "from datasets import load_dataset\n",
    "from PIL import Image\n",
    "import requests\n",
    "from io import BytesIO\n",
    "import pandas as pd\n",
    "\n",
    "# 로컬 폴더 경로 설정\n",
    "image_save_dir = \"../../../colon_smathealthcare/Day5/notices/Day5_Session2/NLMCXR/nlmcxr_images/\"\n",
    "label_save_file = \"../../../colon_smathealthcare/Day5/notices/Day5_Session2/NLMCXR/nlmcxr_labels.csv\"\n",
    "\n",
    "# 폴더가 존재하지 않으면 생성\n",
    "os.makedirs(image_save_dir, exist_ok=True)\n",
    "\n",
    "# 데이터셋 다운로드\n",
    "ds = load_dataset(\"Fakhraddin/NLMCXR\")\n",
    "df=pd.DataFrame(columns=['image','text'])\n",
    "# 이미지와 라벨 저장\n",
    "with open(label_save_file, 'w', encoding='utf-8') as label_file:\n",
    "    for i, sample in enumerate(ds['train']):\n",
    "        image_url = sample['image']  # 이미지 URL 또는 경로 (데이터셋 구조에 맞게 수정)\n",
    "        label = sample['text']      # 라벨 (데이터셋 구조에 맞게 수정)\n",
    "        file_name=os.path.basename(sample['path'])\n",
    "        # 이미지 다운로드 및 저장\n",
    "        \n",
    "        image_url.save(image_save_dir+file_name)\n",
    "            # 라벨 저장\n",
    "        df.loc[i]=[file_name,label]\n",
    "\n",
    "df.to_csv(label_save_file, index=False)\n"
   ]
  },
  {
   "cell_type": "code",
   "execution_count": null,
   "metadata": {},
   "outputs": [],
   "source": [
    "df_sampled = df.sample(n=1000, random_state=42)\n",
    "df_sampled.to_csv(label_save_file, index=False) "
   ]
  },
  {
   "cell_type": "code",
   "execution_count": 24,
   "metadata": {},
   "outputs": [
    {
     "name": "stdout",
     "output_type": "stream",
     "text": [
      "Image processing complete.\n"
     ]
    }
   ],
   "source": [
    "def process_image(image_path, output_size=(256, 256)):\n",
    "    try:\n",
    "        img = Image.open(image_path)\n",
    "        img.thumbnail(output_size, Image.Resampling.LANCZOS)  # 비율 유지하여 축소\n",
    "        new_img = Image.new(\"RGB\", output_size, (0, 0, 0))  # 패딩용 검은색 배경\n",
    "        new_img.paste(img, ((output_size[0] - img.size[0]) // 2, (output_size[1] - img.size[1]) // 2))\n",
    "        return new_img\n",
    "    except FileNotFoundError:\n",
    "        print(f\"File not found: {image_path}\")\n",
    "        return None\n",
    "output_directory='../../../colon_smathealthcare/Day5/notices/Day5_Session2/NLMCXR/nlmcxr_images_down/'\n",
    "if not os.path.exists(output_directory):\n",
    "    os.makedirs(output_directory)\n",
    "\n",
    "for index, row in df_sampled.iterrows():\n",
    "    image_path = os.path.join(image_save_dir, row['image'])\n",
    "    processed_img = process_image(image_path)\n",
    "    if processed_img:\n",
    "        output_path = os.path.join(output_directory, row['image'])\n",
    "        processed_img.save(output_path)\n",
    "\n",
    "print(\"Image processing complete.\")"
   ]
  }
 ],
 "metadata": {
  "kernelspec": {
   "display_name": "LeeYS",
   "language": "python",
   "name": "python3"
  },
  "language_info": {
   "codemirror_mode": {
    "name": "ipython",
    "version": 3
   },
   "file_extension": ".py",
   "mimetype": "text/x-python",
   "name": "python",
   "nbconvert_exporter": "python",
   "pygments_lexer": "ipython3",
   "version": "3.10.14"
  }
 },
 "nbformat": 4,
 "nbformat_minor": 2
}
