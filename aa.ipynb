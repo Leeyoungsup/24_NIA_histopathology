{
 "cells": [
  {
   "cell_type": "code",
   "execution_count": 35,
   "metadata": {},
   "outputs": [],
   "source": [
    "from glob import glob\n",
    "import shutil\n",
    "from PIL import Image\n",
    "import os\n",
    "from tqdm import tqdm"
   ]
  },
  {
   "cell_type": "code",
   "execution_count": 36,
   "metadata": {},
   "outputs": [],
   "source": [
    "file_list=glob('../../result/synth/**/**/*.png')"
   ]
  },
  {
   "cell_type": "code",
   "execution_count": null,
   "metadata": {},
   "outputs": [],
   "source": [
    "for i in tqdm(range(len(file_list))):\n",
    "\n",
    "    class_name=os.path.dirname(file_list[i]).split('유형')[1]\n",
    "    carcinoma=os.path.basename(os.path.dirname(os.path.dirname(file_list[i])))\n",
    "    serial_number=os.path.basename(file_list[i]).split('.png')[0]\n",
    "    im = Image.open(file_list[i])\n",
    "    im.save(f\"{os.path.dirname(file_list[i])}/NIA_S_{carcinoma}_{class_name}_{serial_number.zfill(6)}.jpeg\")\n",
    "    os.remove(file_list[i])"
   ]
  },
  {
   "cell_type": "code",
   "execution_count": null,
   "metadata": {},
   "outputs": [],
   "source": []
  }
 ],
 "metadata": {
  "kernelspec": {
   "display_name": "LeeYS",
   "language": "python",
   "name": "python3"
  },
  "language_info": {
   "codemirror_mode": {
    "name": "ipython",
    "version": 3
   },
   "file_extension": ".py",
   "mimetype": "text/x-python",
   "name": "python",
   "nbconvert_exporter": "python",
   "pygments_lexer": "ipython3",
   "version": "3.10.14"
  }
 },
 "nbformat": 4,
 "nbformat_minor": 2
}
