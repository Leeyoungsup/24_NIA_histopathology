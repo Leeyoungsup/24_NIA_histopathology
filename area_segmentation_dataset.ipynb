{
 "cells": [
  {
   "cell_type": "code",
   "execution_count": 1,
   "metadata": {},
   "outputs": [],
   "source": [
    "\n",
    "from PIL import Image\n",
    "import requests\n",
    "import matplotlib.pyplot as plt\n",
    "import numpy as np\n",
    "import cv2\n",
    "from tqdm import tqdm\n",
    "import os\n",
    "from glob import glob\n",
    "import pandas as pd\n",
    "import json\n",
    "from skimage.draw import polygon2mask\n",
    "import shutil\n",
    "def createDirectory(directory):\n",
    "    \"\"\"_summary_\n",
    "        create Directory\n",
    "    Args:\n",
    "        directory (string): file_path\n",
    "    \"\"\"    \n",
    "    try:\n",
    "        if not os.path.exists(directory):\n",
    "            os.makedirs(directory)\n",
    "    except OSError:\n",
    "        print(\"Error: Failed to create the directory.\")"
   ]
  },
  {
   "cell_type": "code",
   "execution_count": 2,
   "metadata": {},
   "outputs": [],
   "source": [
    "json_list=glob('../../data/origin_json/BR*/**/*.json')\n",
    "image_path=\"../../data/normalization_type/BR*/**/\"\n",
    "save_img_path='../../data/normalization_type/BR/image/'\n",
    "save_mask_path='../../data/normalization_type/BR/mask/'"
   ]
  },
  {
   "cell_type": "code",
   "execution_count": 30,
   "metadata": {},
   "outputs": [
    {
     "name": "stderr",
     "output_type": "stream",
     "text": [
      "100%|██████████| 9179/9179 [3:54:43<00:00,  1.53s/it]  \n"
     ]
    }
   ],
   "source": [
    "class_list=['NT_epithelial','NT_immune','NT_stroma','TP_in_situ','TP_invasive']\n",
    "for j in tqdm(range(len(json_list))):\n",
    "    with open(json_list[j], 'r') as f:\n",
    "\n",
    "        json_data = json.load(f)\n",
    "    anno=json_data['content']['file']['objects']\n",
    "    file_name=json_data['content']['file']['filename']\n",
    "    # for i in range(len(anno)):\n",
    "    #     class_list.append(anno[i]['label_nm'])\n",
    "    # class_list=list(set(class_list))\n",
    "    ii1=glob(image_path+file_name)[0]\n",
    "    shutil.copyfile(ii1, save_img_path+file_name)\n",
    "    mask=np.zeros((1024,1024),dtype=np.uint8)\n",
    "    for k in range(len(anno)):\n",
    "        coordinate=np.array(anno[k]['coordinate'])\n",
    "        coordinate[:,[0, 1]]=coordinate[:,[1, 0]]\n",
    "        class_nm=anno[k]['label_nm']\n",
    "        mask_temp=polygon2mask((1024,1024), coordinate)\n",
    "        mask[np.where(mask_temp==1)]=class_list.index(class_nm)+1\n",
    "    np.save(save_mask_path+file_name.replace('.jpeg', '.npy'), mask) # x_save.npy\n",
    "    createDirectory(os.path.dirname(ii1.replace('../../data/normalization_type/','../../data/normalization_type/BR_mask/')))\n",
    "    np.save(os.path.dirname(ii1.replace('../../data/normalization_type/','../../data/normalization_type/BR_mask/'))+'/'+file_name.replace('.jpeg', '.npy'), mask)\n",
    "    "
   ]
  },
  {
   "cell_type": "code",
   "execution_count": 7,
   "metadata": {},
   "outputs": [
    {
     "name": "stderr",
     "output_type": "stream",
     "text": [
      "100%|██████████| 4924/4924 [1:29:05<00:00,  1.09s/it]\n"
     ]
    }
   ],
   "source": [
    "json_list=glob('../../data/origin_json/ST*/**/*.json')\n",
    "image_path=\"../../data/normalization_type/ST*/**/\"\n",
    "save_img_path='../../data/normalization_type/ST/image/'\n",
    "save_mask_path='../../data/normalization_type/ST/mask/'\n",
    "class_list=['NT_epithelial','NT_immune','NT_stroma','Tumor','NT_Muscle','NT_gastritis','NT_intestinal_metaplasia','Tumor_intestinal','Tumor_diffuse']\n",
    "for j in tqdm(range(len(json_list))):\n",
    "    with open(json_list[j], 'r') as f:\n",
    "\n",
    "        json_data = json.load(f)\n",
    "    anno=json_data['content']['file']['objects']\n",
    "    file_name=json_data['content']['file']['filename']\n",
    "    # for i in range(len(anno)):\n",
    "    #     class_list.append(anno[i]['label_nm'])\n",
    "    # class_list=list(set(class_list))\n",
    "    ii1=glob(image_path+file_name)[0]\n",
    "    shutil.copyfile(ii1, save_img_path+file_name)\n",
    "    mask=np.zeros((1024,1024),dtype=np.uint8)\n",
    "    for k in range(len(anno)):\n",
    "        coordinate=np.array(anno[k]['coordinate'])\n",
    "        coordinate[:,[0, 1]]=coordinate[:,[1, 0]]\n",
    "        class_nm=anno[k]['label_nm']\n",
    "        mask_temp=polygon2mask((1024,1024), coordinate)\n",
    "        mask[np.where(mask_temp==1)]=class_list.index(class_nm)+1\n",
    "    np.save(save_mask_path+file_name.replace('.jpeg', '.npy'), mask) # x_save.npy\n",
    "    createDirectory(os.path.dirname(ii1.replace('../../data/normalization_type/','../../data/normalization_type/ST_mask/')))\n",
    "    np.save(os.path.dirname(ii1.replace('../../data/normalization_type/','../../data/normalization_type/ST_mask/'))+'/'+file_name.replace('.jpeg', '.npy'), mask)"
   ]
  },
  {
   "cell_type": "code",
   "execution_count": 13,
   "metadata": {},
   "outputs": [
    {
     "data": {
      "text/plain": [
       "30"
      ]
     },
     "execution_count": 13,
     "metadata": {},
     "output_type": "execute_result"
    }
   ],
   "source": [
    "ii1.find('BR')"
   ]
  }
 ],
 "metadata": {
  "kernelspec": {
   "display_name": "LeeYS",
   "language": "python",
   "name": "python3"
  },
  "language_info": {
   "codemirror_mode": {
    "name": "ipython",
    "version": 3
   },
   "file_extension": ".py",
   "mimetype": "text/x-python",
   "name": "python",
   "nbconvert_exporter": "python",
   "pygments_lexer": "ipython3",
   "version": "3.10.14"
  }
 },
 "nbformat": 4,
 "nbformat_minor": 2
}
