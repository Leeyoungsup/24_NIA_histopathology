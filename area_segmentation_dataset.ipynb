{
 "cells": [
  {
   "cell_type": "code",
   "execution_count": 34,
   "metadata": {},
   "outputs": [],
   "source": [
    "\n",
    "from PIL import Image\n",
    "import requests\n",
    "import matplotlib.pyplot as plt\n",
    "import numpy as np\n",
    "import cv2\n",
    "from tqdm import tqdm\n",
    "import os\n",
    "from glob import glob\n",
    "import pandas as pd\n",
    "import json\n",
    "from skimage.draw import polygon2mask\n",
    "import shutil"
   ]
  },
  {
   "cell_type": "code",
   "execution_count": 84,
   "metadata": {},
   "outputs": [],
   "source": [
    "json_list=glob('../../data/origin_json/BRDC/*.json')\n",
    "image_path=\"../../data/origin_json/BRDC/\"\n",
    "save_img_path='../../data/area_segmentation/BRDC/image/'\n",
    "save_mask_path='../../data/area_segmentation/BRDC/mask/'"
   ]
  },
  {
   "cell_type": "code",
   "execution_count": 88,
   "metadata": {},
   "outputs": [
    {
     "name": "stderr",
     "output_type": "stream",
     "text": [
      "100%|██████████| 562/562 [04:30<00:00,  2.07it/s]\n"
     ]
    }
   ],
   "source": [
    "class_list=['NT_epithelial', 'NT_immune', 'NT_stroma', 'TP_in_situ', 'TP_invasive']\n",
    "for j in tqdm(range(len(json_list))):\n",
    "    with open(json_list[j], 'r') as f:\n",
    "\n",
    "        json_data = json.load(f)\n",
    "    anno=json_data['content']['file']['objects']\n",
    "    file_name=json_data['content']['file']['filename']\n",
    "    # for i in range(len(anno)):\n",
    "    #     class_list.append(anno[i]['label_nm'])\n",
    "    # class_list=list(set(class_list))\n",
    "    shutil.copyfile(image_path+file_name, save_img_path+file_name)\n",
    "    mask=np.zeros((1024,1024,len(class_list)))\n",
    "    for k in range(len(anno)):\n",
    "        coordinate=np.array(anno[k]['coordinate'])\n",
    "        class_nm=anno[k]['label_nm']\n",
    "        mask_temp=polygon2mask((1024,1024), coordinate)\n",
    "        mask[...,class_list.index(class_nm)]+=mask_temp*255\n",
    "    mask=mask.astype(np.uint8)\n",
    "    np.save(save_mask_path+file_name.replace('.jpeg', ''), mask) # x_save.npy\n",
    "    "
   ]
  },
  {
   "cell_type": "code",
   "execution_count": 87,
   "metadata": {},
   "outputs": [
    {
     "data": {
      "text/plain": [
       "'NIA6_R_BRDC_BRCA-YN-00370-S-TP-01_27_28'"
      ]
     },
     "execution_count": 87,
     "metadata": {},
     "output_type": "execute_result"
    }
   ],
   "source": [
    "json_data['content']['file']['filename'].replace('.jpeg', '')"
   ]
  }
 ],
 "metadata": {
  "kernelspec": {
   "display_name": "LeeYS",
   "language": "python",
   "name": "python3"
  },
  "language_info": {
   "codemirror_mode": {
    "name": "ipython",
    "version": 3
   },
   "file_extension": ".py",
   "mimetype": "text/x-python",
   "name": "python",
   "nbconvert_exporter": "python",
   "pygments_lexer": "ipython3",
   "version": "3.9.0"
  }
 },
 "nbformat": 4,
 "nbformat_minor": 2
}
