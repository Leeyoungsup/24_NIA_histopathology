{
 "cells": [
  {
   "cell_type": "code",
   "execution_count": 5,
   "metadata": {},
   "outputs": [],
   "source": [
    "\n",
    "from PIL import Image\n",
    "import requests\n",
    "import matplotlib.pyplot as plt\n",
    "import numpy as np\n",
    "import cv2\n",
    "from tqdm import tqdm\n",
    "import os\n",
    "from glob import glob\n",
    "import pandas as pd\n",
    "import json\n",
    "from skimage.draw import polygon2mask\n",
    "import shutil\n",
    "def createDirectory(directory):\n",
    "    \"\"\"_summary_\n",
    "        create Directory\n",
    "    Args:\n",
    "        directory (string): file_path\n",
    "    \"\"\"    \n",
    "    try:\n",
    "        if not os.path.exists(directory):\n",
    "            os.makedirs(directory)\n",
    "    except OSError:\n",
    "        print(\"Error: Failed to create the directory.\")"
   ]
  },
  {
   "cell_type": "code",
   "execution_count": 2,
   "metadata": {},
   "outputs": [],
   "source": [
    "json_list=glob('../../data/origin_json/BR*/**/*.json')\n",
    "image_path=\"../../data/normalization_type/BR*/**/\"\n",
    "save_img_path='../../data/normalization_type/BR/image/'\n",
    "save_mask_path='../../data/normalization_type/BR/mask/'"
   ]
  },
  {
   "cell_type": "code",
   "execution_count": 29,
   "metadata": {},
   "outputs": [
    {
     "ename": "SyntaxError",
     "evalue": "invalid syntax (1605019648.py, line 22)",
     "output_type": "error",
     "traceback": [
      "\u001b[0;36m  Input \u001b[0;32mIn [29]\u001b[0;36m\u001b[0m\n\u001b[0;31m    np.save(os.path.dirname(ii1.replace('../../data/normalization_type/','../../data/normalization_type/BR_mask/'))+'/'+file_name.replace('.jpeg', '.npy'),, mask)\u001b[0m\n\u001b[0m                                                                                                                                                           ^\u001b[0m\n\u001b[0;31mSyntaxError\u001b[0m\u001b[0;31m:\u001b[0m invalid syntax\n"
     ]
    }
   ],
   "source": [
    "class_list=['NT_epithelial','NT_immune','NT_stroma','TP_in_situ','TP_invasive']\n",
    "for j in tqdm(range(len(json_list))):\n",
    "    with open(json_list[j], 'r') as f:\n",
    "\n",
    "        json_data = json.load(f)\n",
    "    anno=json_data['content']['file']['objects']\n",
    "    file_name=json_data['content']['file']['filename']\n",
    "    # for i in range(len(anno)):\n",
    "    #     class_list.append(anno[i]['label_nm'])\n",
    "    # class_list=list(set(class_list))\n",
    "    ii1=glob(image_path+file_name)[0]\n",
    "    shutil.copyfile(ii1, save_img_path+file_name)\n",
    "    mask=np.zeros((1024,1024),dtype=np.uint8)\n",
    "    for k in range(len(anno)):\n",
    "        coordinate=np.array(anno[k]['coordinate'])\n",
    "        coordinate[:,[0, 1]]=coordinate[:,[1, 0]]\n",
    "        class_nm=anno[k]['label_nm']\n",
    "        mask_temp=polygon2mask((1024,1024), coordinate)\n",
    "        mask[np.where(mask_temp==1)]=class_list.index(class_nm)+1\n",
    "    np.save(save_mask_path+file_name.replace('.jpeg', '.npy'), mask) # x_save.npy\n",
    "    createDirectory(os.path.dirname(ii1.replace('../../data/normalization_type/','../../data/normalization_type/BR_mask/')))\n",
    "    np.save(os.path.dirname(ii1.replace('../../data/normalization_type/','../../data/normalization_type/BR_mask/'))+'/'+file_name.replace('.jpeg', '.npy'), mask)\n",
    "    "
   ]
  },
  {
   "cell_type": "code",
   "execution_count": 27,
   "metadata": {},
   "outputs": [
    {
     "data": {
      "text/plain": [
       "'../../data/normalization_type/BR_mask/BRDC/유형6/NIA6_R_BRDC_BRCA-YN-00104-S-TP-02_28_17.npy'"
      ]
     },
     "execution_count": 27,
     "metadata": {},
     "output_type": "execute_result"
    }
   ],
   "source": [
    "os.path.dirname(ii1.replace('../../data/normalization_type/','../../data/normalization_type/BR_mask/'))+'/'+file_name.replace('.jpeg', '.npy')"
   ]
  },
  {
   "cell_type": "code",
   "execution_count": 13,
   "metadata": {},
   "outputs": [
    {
     "data": {
      "text/plain": [
       "30"
      ]
     },
     "execution_count": 13,
     "metadata": {},
     "output_type": "execute_result"
    }
   ],
   "source": [
    "ii1.find('BR')"
   ]
  }
 ],
 "metadata": {
  "kernelspec": {
   "display_name": "LeeYS",
   "language": "python",
   "name": "python3"
  },
  "language_info": {
   "codemirror_mode": {
    "name": "ipython",
    "version": 3
   },
   "file_extension": ".py",
   "mimetype": "text/x-python",
   "name": "python",
   "nbconvert_exporter": "python",
   "pygments_lexer": "ipython3",
   "version": "3.10.14"
  }
 },
 "nbformat": 4,
 "nbformat_minor": 2
}
