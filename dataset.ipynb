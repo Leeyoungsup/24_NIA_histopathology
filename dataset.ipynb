{
 "cells": [
  {
   "cell_type": "code",
   "execution_count": 1,
   "metadata": {},
   "outputs": [],
   "source": [
    "from glob import glob\n",
    "import os\n",
    "import shutil\n",
    "import random\n",
    "from tqdm import tqdm\n",
    "import pandas as pd\n",
    "from sklearn.model_selection import train_test_split\n",
    "def createDirectory(directory):\n",
    "    \"\"\"_summary_\n",
    "        create Directory\n",
    "    Args:\n",
    "        directory (string): file_path\n",
    "    \"\"\"    \n",
    "    try:\n",
    "        if not os.path.exists(directory):\n",
    "            os.makedirs(directory)\n",
    "    except OSError:\n",
    "        print(\"Error: Failed to create the directory.\")"
   ]
  },
  {
   "cell_type": "code",
   "execution_count": null,
   "metadata": {},
   "outputs": [],
   "source": [
    "data_path='../../data/origin_json/**/**/*.jpeg'\n",
    "data_list=glob(data_path)\n",
    "save_list=[f.replace('../../data/origin_json', '../../data/origin_type') for f in data_list]"
   ]
  },
  {
   "cell_type": "code",
   "execution_count": null,
   "metadata": {},
   "outputs": [],
   "source": [
    "for i in tqdm(range(len(data_list))):\n",
    "    createDirectory(os.path.dirname(save_list[i]))\n",
    "    shutil.copy(data_list[i], save_list[i])"
   ]
  },
  {
   "cell_type": "code",
   "execution_count": null,
   "metadata": {},
   "outputs": [],
   "source": [
    "report_list=['This microscopic image shows normal breast tissue with more than 50% of the visual field occupied by ductal and lobular units. The terminal ductal lobular units (TDLUs) are well-formed, with an evident epithelial bilayer. Luminal epithelial cells line the ducts and lobules, supported by myoepithelial cells adjacent to the basement membrane. The stroma is composed of adipocytes, blood vessels, and sparse lymphocytes, maintaining a delicate balance with the glandular structures.'\n",
    "             ,'This image portrays normal breast tissue with less than 50% of the field occupied by epithelial and ductal structures. The TDLUs are scattered, with the majority of the field composed of adipose tissue and stromal elements. The epithelial bilayer remains intact, with the luminal and myoepithelial cells present in smaller clusters. The surrounding stroma is more prominent, highlighting the interstitial space between the sparse glandular units.'\n",
    "             ,'This image highlights a segment of lobular carcinoma in situ (LCIS) where the abnormal proliferation of small, uniform cells is confined to the lobules. The cells are monotonous, with round nuclei and minimal cytoplasm, filling the lobular spaces while sparing the surrounding ducts. Normal ductal structures are visible in the adjacent tissue, providing a contrast between the involved and uninvolved areas.'\n",
    "             ,'This image shows lobular carcinoma in situ (LCIS) without any normal ducts visible within the field. The lobules are filled with small, uniform neoplastic cells, lacking the typical glandular architecture. The monotonous population of cells occupies the entire lobular space, with minimal stromal involvement. The absence of normal ducts emphasizes the localized nature of this proliferative lesion.'\n",
    "             ,'This image demonstrates ductal carcinoma in situ (DCIS) with normal ducts visible nearby. The affected duct is expanded and filled with atypical cells, exhibiting nuclear pleomorphism and prominent nucleoli. The proliferation is confined within the ductal basement membrane, and there is a notable contrast between the malignant duct and the adjacent, uninvolved ducts. The surrounding stroma shows minimal reactive changes.'\n",
    "             ,'This image shows ductal carcinoma in situ (DCIS) without any normal ducts visible and a low level of inflammatory cells in the stroma. The duct is filled with a proliferation of atypical cells, characterized by high nuclear-to-cytoplasmic ratios and significant architectural distortion. The stroma around the involved ducts is largely unreactive, with few inflammatory cells present, highlighting the in situ nature of the lesion.'\n",
    "             ,'This image features ductal carcinoma in situ (DCIS) with no normal ducts visible and a high level of inflammatory cells surrounding the affected ducts. The ductal structures are completely filled with atypical cells, showing marked nuclear pleomorphism. The surrounding stroma is inflamed, with a dense infiltrate of lymphocytes and plasma cells, indicating a reactive response to the neoplastic proliferation.'\n",
    "             ,'This image presents invasive lobular carcinoma (ILC) with no normal ducts visible. The tumor cells are small, uniform, and arranged in single-file linear patterns or loose clusters, infiltrating the stroma. The cells exhibit minimal pleomorphism and lack glandular formation. The absence of ductal structures and the infiltrative pattern of the cells are characteristic of ILC.'\n",
    "             ,'This image shows invasive lobular carcinoma (ILC) with normal ducts visible in the surrounding tissue. The tumor cells are infiltrating the stroma in a single-file pattern, disrupting the normal architecture. The neoplastic cells are small, uniform, and often aligned in linear arrangements. The presence of normal ducts nearby highlights the transition from normal to malignant tissue.'\n",
    "             ,'This image depicts invasive ductal carcinoma (IDC) with no normal ducts visible and a low level of inflammatory cells. The tumor cells form irregular glandular structures and solid nests, invading the surrounding stroma. The cells are pleomorphic, with enlarged, hyperchromatic nuclei. The stroma is largely unreactive, with minimal inflammatory response, emphasizing the invasive nature of the carcinoma.'\n",
    "             ,'This image shows invasive ductal carcinoma (IDC) with no normal ducts visible and a significant inflammatory response in the stroma. The tumor cells are arranged in irregular nests and cords, with marked nuclear atypia and mitotic activity. The surrounding stroma is densely infiltrated with inflammatory cells, particularly lymphocytes, indicating a reactive process in response to the invasive tumor.'\n",
    "             ,'This image highlights invasive ductal carcinoma (IDC) with normal ducts visible and a low inflammatory response. The malignant cells are forming irregular glandular structures, invading the stroma while sparing some normal ductal units. The tumor cells exhibit moderate pleomorphism, and the surrounding stroma shows minimal inflammation, indicating a more indolent invasive process.'\n",
    "             ,'This image features invasive ductal carcinoma (IDC) with normal ducts visible and a pronounced inflammatory infiltrate in the stroma. The tumor cells are arranged in disorganized nests and glands, with prominent nuclear pleomorphism. The stroma surrounding the tumor is densely infiltrated with lymphocytes and other immune cells, indicating a strong host response to the neoplasm.'\n",
    "             ,'This image depicts invasive ductal carcinoma (IDC) where the fibrous stroma is more prominent than the tumor cells, with a low inflammatory response. The malignant cells are scattered within a dense, fibrotic stroma, forming small clusters and cords. The cells show mild to moderate nuclear atypia, and the surrounding stroma is sparsely infiltrated with inflammatory cells, indicating a desmoplastic reaction.'\n",
    "             ,'This image illustrates invasive ductal carcinoma (IDC) with a dominant fibrous stroma and a significant inflammatory response. The tumor cells are sparsely distributed within a dense, fibrotic matrix, with only small clusters of neoplastic cells visible. The surrounding stroma is heavily infiltrated with inflammatory cells, reflecting an intense reaction to the tumor.']\n",
    "data_path='../../data/origin_json/BR*/**/*.jpeg'\n",
    "data_list=glob(data_path)\n",
    "df=pd.DataFrame(columns=['path','caption'])\n",
    "for i in tqdm(range(len(data_list))):\n",
    "    df.loc[i,'path']=os.path.basename(data_list[i])\n",
    "    df.loc[i,'caption']=report_list[int(os.path.dirname(data_list[i]).split('유형')[1])-1]\n",
    "df.to_csv('../../data/origin_type/BR_Report.csv',index=False)"
   ]
  },
  {
   "cell_type": "code",
   "execution_count": 55,
   "metadata": {},
   "outputs": [
    {
     "name": "stderr",
     "output_type": "stream",
     "text": [
      "100%|██████████| 4924/4924 [00:01<00:00, 4164.10it/s]\n"
     ]
    }
   ],
   "source": [
    "report_list=['This image depicts a segment of gastric mucosa with chronic inflammation, showing areas of intestinal metaplasia. The normal gastric mucosa has been largely replaced by goblet cells and absorptive cells typical of intestinal epithelium. These metaplastic cells are arranged in well-formed glandular structures, with mild nuclear atypia. The background stroma shows mild chronic inflammation.'\n",
    "             ,'This image presents a patch of gastric mucosa affected by chronic gastritis. The gastric glands and pits are elongated, with epithelial cells showing mild dysplasia, characterized by nuclear enlargement and hyperchromasia. The stroma contains a moderate lymphoplasmacytic infiltrate. There is no evidence of intestinal metaplasia within this small segment.'\n",
    "             ,'This image predominantly shows neoplastic glands of intestinal-type adenocarcinoma, filling more than 50% of the field. The glands are irregular and lined with dysplastic columnar cells exhibiting prominent nucleoli. The stroma is reactive and fibrotic, with scattered inflammatory cells. The muscularis propria is absent from this segment, emphasizing the superficial nature of the section.'\n",
    "             ,'In this image, neoplastic glands of intestinal-type adenocarcinoma are interspersed with residual non-neoplastic gastric mucosa, with the tumor cells comprising less than 50% of the tissue. The malignant glands exhibit various degrees of dysplasia, and the surrounding stroma is mildly inflamed. The muscularis propria is not visible in this patch.'\n",
    "             ,'This image shows an area where neoplastic glands of intestinal-type adenocarcinoma invade the muscularis propria. The tumor cells occupy more than 50% of the visual field, with glands of varying sizes and shapes. The invasive glands are surrounded by dense, fibrotic stroma. The disorganized muscular fibers are visible in the lower part of the image, indicating deep invasion.'\n",
    "             ,'This image shows a segment where the tumor cells of intestinal-type adenocarcinoma are present but occupy less than 50% of the tissue. The neoplastic glands are seen infiltrating into the muscularis propria, though the density of tumor cells is lower, allowing for significant non-neoplastic tissue within the image. The muscle fibers are disrupted but still discernible.'\n",
    "             ,'This image features a diffuse-type adenocarcinoma with more than 50% of the tissue occupied by individual signet-ring cells dispersed within the stroma. The cells are poorly cohesive and lack glandular formation, infiltrating the tissue without forming organized structures. The stroma is fibrotic, and the muscularis propria is not included in this segment.'\n",
    "             ,'This image shows a diffuse-type adenocarcinoma where less than 50% of the tissue is occupied by signet-ring cells. These cells are scattered within the stroma, with significant areas of non-neoplastic tissue present. The muscularis propria is absent in this image, highlighting the tumors superficial spread within this small section.'\n",
    "             ,'This image illustrates a diffuse-type adenocarcinoma, where signet-ring cells occupy more than 50% of the tissue and have invaded into the muscularis propria. The cells are dispersed within a fibrotic stroma, with the muscle fibers disrupted by the infiltrating tumor cells. The absence of glandular structures is characteristic of this tumor type.'\n",
    "             ,'This image presents a diffuse-type adenocarcinoma with signet-ring cells constituting less than 50% of the tissue. The tumor cells are scattered within the stroma and have infiltrated the muscularis propria, which is partially visible in the lower part of the image. The spread is less extensive, with some areas of non-neoplastic tissue still present.'\n",
    "             ,''\n",
    "             ,'This image displays a mixed-type adenocarcinoma where more than 50% of the tissue is composed of a combination of glandular and diffuse components. The irregular glands of intestinal-type adenocarcinoma are intermixed with clusters of signet-ring cells, all within a dense, fibrotic stroma. The muscularis propria is not visible in this image segment.'\n",
    "             ,'This image shows a mixed-type adenocarcinoma with tumor cells occupying less than 50% of the tissue. The segment includes both glandular structures typical of intestinal-type adenocarcinoma and diffuse areas with signet-ring cells. The non-neoplastic gastric mucosa is present but with chronic inflammation. The muscularis propria is absent in this small patch.'\n",
    "             ,'This image depicts a mixed-type adenocarcinoma where more than 50% of the tissue is tumor, consisting of both glandular and diffuse components. The tumor cells have invaded into the muscularis propria, disrupting the muscle fibers and infiltrating the surrounding stroma. The image is dominated by neoplastic elements, with the muscularis propria clearly visible in the lower portion.'\n",
    "             ,'This image shows a mixed-type adenocarcinoma with less than 50% tumor cells, comprising both glandular and diffuse elements. The neoplastic glands and signet-ring cells have invaded the muscularis propria, which is visible in the lower part of the image. The non-neoplastic stroma is present but is partially replaced by the invasive tumor.']\n",
    "data_path='../../data/origin_json/ST*/**/*.jpeg'\n",
    "data_list=glob(data_path)\n",
    "df=pd.DataFrame(columns=['path','caption'])\n",
    "for i in tqdm(range(len(data_list))):\n",
    "    df.loc[i,'path']=os.path.basename(data_list[i])\n",
    "    df.loc[i,'caption']=report_list[int(os.path.dirname(data_list[i]).split('유형')[1])-1]\n",
    "df.to_csv('../../data/origin_type/ST_Report.csv',index=False)"
   ]
  },
  {
   "cell_type": "code",
   "execution_count": 10,
   "metadata": {},
   "outputs": [],
   "source": [
    "\n",
    "BR_df = pd.read_csv('../../data/origin_type/BR_Report.csv')\n",
    "ST_df = pd.read_csv('../../data/origin_type/ST_Report.csv')\n",
    "train_df, test_df = train_test_split(BR_df, test_size=0.2, random_state=42)\n",
    "train_df.to_csv('../../data/origin_type/BR_train.csv',index=False)\n",
    "test_df.to_csv('../../data/origin_type/BR_test.csv',index=False)\n",
    "train_df, test_df = train_test_split(ST_df, test_size=0.2, random_state=42)\n",
    "train_df.to_csv('../../data/origin_type/ST_train.csv',index=False)\n",
    "test_df.to_csv('../../data/origin_type/ST_test.csv',index=False)"
   ]
  },
  {
   "cell_type": "code",
   "execution_count": 8,
   "metadata": {},
   "outputs": [],
   "source": []
  },
  {
   "cell_type": "code",
   "execution_count": 7,
   "metadata": {},
   "outputs": [
    {
     "data": {
      "text/plain": [
       "918"
      ]
     },
     "execution_count": 7,
     "metadata": {},
     "output_type": "execute_result"
    }
   ],
   "source": []
  }
 ],
 "metadata": {
  "kernelspec": {
   "display_name": "LeeYS",
   "language": "python",
   "name": "python3"
  },
  "language_info": {
   "codemirror_mode": {
    "name": "ipython",
    "version": 3
   },
   "file_extension": ".py",
   "mimetype": "text/x-python",
   "name": "python",
   "nbconvert_exporter": "python",
   "pygments_lexer": "ipython3",
   "version": "3.10.14"
  }
 },
 "nbformat": 4,
 "nbformat_minor": 2
}
