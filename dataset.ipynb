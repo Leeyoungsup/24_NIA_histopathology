{
 "cells": [
  {
   "cell_type": "code",
   "execution_count": 2,
   "metadata": {},
   "outputs": [],
   "source": [
    "from glob import glob\n",
    "import os\n",
    "import shutil\n",
    "import random\n",
    "from tqdm import tqdm\n",
    "import pandas as pd\n",
    "from sklearn.model_selection import train_test_split\n",
    "def createDirectory(directory):\n",
    "    \"\"\"_summary_\n",
    "        create Directory\n",
    "    Args:\n",
    "        directory (string): file_path\n",
    "    \"\"\"    \n",
    "    try:\n",
    "        if not os.path.exists(directory):\n",
    "            os.makedirs(directory)\n",
    "    except OSError:\n",
    "        print(\"Error: Failed to create the directory.\")"
   ]
  },
  {
   "cell_type": "code",
   "execution_count": 2,
   "metadata": {},
   "outputs": [],
   "source": [
    "data_path='../../data/synth/json/**/**/*.jpeg'\n",
    "data_list=glob(data_path)\n",
    "save_list=[f.replace('../../data/synth/json', '../../data/synth/type') for f in data_list]"
   ]
  },
  {
   "cell_type": "code",
   "execution_count": 5,
   "metadata": {},
   "outputs": [
    {
     "name": "stderr",
     "output_type": "stream",
     "text": [
      "100%|██████████| 4072/4072 [38:36<00:00,  1.76it/s] \n"
     ]
    }
   ],
   "source": [
    "for i in tqdm(range(len(data_list))):\n",
    "    createDirectory(os.path.dirname(save_list[i]))\n",
    "    shutil.copy(data_list[i], save_list[i])"
   ]
  },
  {
   "cell_type": "code",
   "execution_count": 6,
   "metadata": {},
   "outputs": [
    {
     "name": "stderr",
     "output_type": "stream",
     "text": [
      "100%|██████████| 2064/2064 [00:00<00:00, 7461.18it/s]\n"
     ]
    }
   ],
   "source": [
    "report_list=['Normal Breast Tissue, >50% Epithelial/Ductal Structures Over 50% of the tissue contains well-formed ductal and lobular units.'\n",
    "             ,'Normal Breast Tissue, <50% Epithelial/Ductal Structures Less than 50% of the tissue is composed of bilayered normal epithelium with intervening stroma.'\n",
    "             ,'Lobular Carcinoma In Situ (LCIS), Normal Ducts Visible Lobules are filled with uniform, discohesive cells surrounded by uninvolved normal epithelial cells.'\n",
    "             ,'Lobular Carcinoma In Situ (LCIS), No Normal Ducts Visible Lobules are expanded with monotonous, discohesive neoplastic cells, with no normal ducts or lobules visible.'\n",
    "             ,'Ductal Carcinoma In Situ (DCIS), Normal Ducts Visible Large atypical cells occupy ductal structures, with normal ducts visible.'\n",
    "             ,'Ductal Carcinoma In Situ (DCIS), No Normal Ducts Visible, Low Inflammatory Cells Ducts are filled with large atypical cells, and normal ducts are absent. Minimal inflammation is observed.'\n",
    "             ,'Ductal Carcinoma In Situ (DCIS), No Normal Ducts Visible, High Inflammatory Cells Large atypical cells fill the ducts, with no normal ducts visible. Dense inflammatory infiltrate is seen.'\n",
    "             ,'Invasive Lobular Carcinoma (ILC), No Normal Ducts Visible Tumor cells infiltrate the stroma in single-file or small clusters, with no normal ducts visible.'\n",
    "             ,'Invasive Lobular Carcinoma (ILC), Normal Ducts Visible Infiltrative tumor cells are arranged in a single-file pattern with normal ducts visible.'\n",
    "             ,'Invasive Ductal Carcinoma (IDC), No Normal Ducts Visible, Low Inflammatory Cells Irregular glandular structures invade the stroma, with no normal ducts visible and minimal inflammation.'\n",
    "             ,'Invasive Ductal Carcinoma (IDC), No Normal Ducts Visible, High Inflammatory Cells Irregular nests of tumor cells infiltrate the stroma, with no normal ducts visible and dense lymphocytic infiltration.'\n",
    "             ,'Invasive Ductal Carcinoma (IDC), Normal Ducts Visible, Low Inflammatory Cells Malignant cells form irregular glandular structures that invade the stroma, with normal ducts visible and minimal inflammation.'\n",
    "             ,'Invasive Ductal Carcinoma (IDC), Normal Ducts Visible, High Inflammatory Cells Disorganized nests and glands of tumor cells invade the stroma, with normal ducts visible and dense lymphocytic infiltration.'\n",
    "             ,'Invasive Ductal Carcinoma (IDC), Fibrous Stroma Dominant, Low Inflammatory Cells Sparse clusters of tumor cells infiltrate dense, fibrotic stroma with minimal inflammatory infiltration.'\n",
    "             ,'Invasive Ductal Carcinoma (IDC), Fibrous Stroma Dominant, High Inflammatory Cells Scattered tumor cells invade desmoplastic stroma, with a significant inflammatory infiltrate.']\n",
    "data_path='../../data/synth/type/_BR*/**/*.jpeg'\n",
    "data_list=glob(data_path)\n",
    "df=pd.DataFrame(columns=['path','caption'])\n",
    "for i in tqdm(range(len(data_list))):\n",
    "    df.loc[i,'path']=os.path.basename(data_list[i])\n",
    "    df.loc[i,'caption']=report_list[int(os.path.dirname(data_list[i]).split('유형')[1])-1]\n",
    "df.to_csv('../../data/synth/type/BR_Report.csv',index=False)"
   ]
  },
  {
   "cell_type": "code",
   "execution_count": 7,
   "metadata": {},
   "outputs": [
    {
     "name": "stderr",
     "output_type": "stream",
     "text": [
      "100%|██████████| 2008/2008 [00:00<00:00, 7680.55it/s]\n"
     ]
    }
   ],
   "source": [
    "report_list=['Gastritis with Intestinal Metaplasia Gastric mucosa shows mild chronic inflammation with replacement of normal gastric epithelium by goblet cells.'\n",
    "             ,'Gastritis without Intestinal Metaplasia Elongated mucosal glands and lamina propria show mild chronic inflammation with no evidence of intestinal metaplasia.'\n",
    "             ,'Intestinal-Type Adenocarcinoma, >50% Tumor Cells, No Muscularis Propria Visible Carcinoma with glandular differentiation occupies more than 50% of the tissue, and muscle cells are not visible.'\n",
    "             ,'Intestinal-Type Adenocarcinoma, <50% Tumor Cells, No Muscularis Propria Visible Gland-forming carcinoma cells constitute less than 50% of the tissue, and muscle cells are absent.'\n",
    "             ,'Intestinal-Type Adenocarcinoma, >50% Tumor Cells, Muscularis Propria Visible More than half of the tissue is composed of cancer cells with glandular morphology, and the muscularis layer is identified.'\n",
    "             ,'Intestinal-Type Adenocarcinoma, <50% Tumor Cells, Muscularis Propria Visible Less than half of the tissue consists of epithelial malignancy with glandular architecture, and the muscularis layer is present.'\n",
    "             ,'Diffuse-Type Adenocarcinoma, >50% Tumor Cells, No Muscularis Propria Visible Over 50% of the tissue is occupied by poorly differentiated cancer cells, and muscle cells are absent.'\n",
    "             ,'Diffuse-Type Adenocarcinoma, <50% Tumor Cells, No Muscularis Propria Visible Less than 50% of the tissue is occupied by poorly cohesive carcinoma cells, and the muscularis layer is visible.'\n",
    "             ,'Diffuse-Type Adenocarcinoma, >50% Tumor Cells, Muscularis Propria Visible Poorly differentiated cancer cells occupy more than 50% of the tissue, and the muscularis layer is present.'\n",
    "             ,'Diffuse-Type Adenocarcinoma, <50% Tumor Cells, Muscularis Propria Visible Poorly cohesive epithelial malignancy comprises less than half of the tissue, and muscle cells are identified.'\n",
    "             ,''\n",
    "             ,'Mixed-Type Adenocarcinoma, >50% Tumor Cells, No Muscularis Propria Visible More than 50% of the tissue is composed of both intestinal and diffuse-type cancer cells, and the muscularis layer is absent.'\n",
    "             ,'Mixed-Type Adenocarcinoma, <50% Tumor Cells, No Muscularis Propria Visible Less than 50% of the tissue is occupied by mixed-type adenocarcinoma, featuring both intestinal and diffuse-type components, and muscle cells are absent.'\n",
    "             ,'Mixed-Type Adenocarcinoma, >50% Tumor Cells, Muscularis Propria Visible More than 50% of the tissue comprises epithelial malignancy with both glandular and signet-ring cell differentiation, and the muscularis layer is seen.'\n",
    "             ,'Mixed-Type Adenocarcinoma, <50% Tumor Cells, Muscularis Propria Visible Less than 50% of the tissue consists of mixed-type adenocarcinoma, characterized by both intestinal and diffuse-type components, and muscle cells are visible.']\n",
    "data_path='../../data/synth/type/_ST*/**/*.jpeg'\n",
    "data_list=glob(data_path)\n",
    "df=pd.DataFrame(columns=['path','caption'])\n",
    "for i in tqdm(range(len(data_list))):\n",
    "    df.loc[i,'path']=os.path.basename(data_list[i])\n",
    "    df.loc[i,'caption']=report_list[int(os.path.dirname(data_list[i]).split('유형')[1])-1]\n",
    "df.to_csv('../../data/synth/type/ST_Report.csv',index=False)"
   ]
  },
  {
   "cell_type": "code",
   "execution_count": 3,
   "metadata": {},
   "outputs": [],
   "source": [
    "\n",
    "BR_df = pd.read_csv('../../data/synth/type/BR_Report.csv')\n",
    "ST_df = pd.read_csv('../../data/synth/type/ST_Report.csv')\n",
    "train_df, test_df = train_test_split(BR_df, test_size=0.2, random_state=42)\n",
    "val_df, test_df = train_test_split(test_df, test_size=0.5, random_state=42)\n",
    "train_df.to_csv('../../data/synth/type/BR_train.csv',index=False)\n",
    "test_df.to_csv('../../data/synth/type/BR_test.csv',index=False)\n",
    "val_df.to_csv('../../data/synth/type/BR_val.csv',index=False)\n",
    "train_df, test_df = train_test_split(ST_df, test_size=0.2, random_state=42)\n",
    "val_df, test_df = train_test_split(test_df, test_size=0.5, random_state=42)\n",
    "train_df.to_csv('../../data/synth/type/ST_train.csv',index=False)\n",
    "test_df.to_csv('../../data/synth/type/ST_test.csv',index=False)\n",
    "val_df.to_csv('../../data/synth/type/ST_val.csv',index=False)"
   ]
  },
  {
   "cell_type": "code",
   "execution_count": 7,
   "metadata": {},
   "outputs": [
    {
     "data": {
      "text/plain": [
       "'13'"
      ]
     },
     "execution_count": 7,
     "metadata": {},
     "output_type": "execute_result"
    }
   ],
   "source": [
    "a='유형13'\n",
    "a[2:]"
   ]
  },
  {
   "cell_type": "code",
   "execution_count": null,
   "metadata": {},
   "outputs": [],
   "source": []
  }
 ],
 "metadata": {
  "kernelspec": {
   "display_name": "LeeYS",
   "language": "python",
   "name": "python3"
  },
  "language_info": {
   "codemirror_mode": {
    "name": "ipython",
    "version": 3
   },
   "file_extension": ".py",
   "mimetype": "text/x-python",
   "name": "python",
   "nbconvert_exporter": "python",
   "pygments_lexer": "ipython3",
   "version": "3.10.14"
  }
 },
 "nbformat": 4,
 "nbformat_minor": 2
}
